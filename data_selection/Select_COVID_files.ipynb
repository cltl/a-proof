{
 "cells": [
  {
   "cell_type": "code",
   "execution_count": 1,
   "metadata": {},
   "outputs": [],
   "source": [
    "import pandas as pd"
   ]
  },
  {
   "cell_type": "code",
   "execution_count": 9,
   "metadata": {},
   "outputs": [],
   "source": [
    "df_diagnoses = pd.read_excel(\"../sample_data/raw_data/Diagnoses.xlsx\", header=None)\n",
    "df_notities = pd.read_excel(\"../sample_data/raw_data/Notities.xlsx\", header=None)\n",
    "# df_diagnoses = pd.read_csv(\"FILEPATH_DIAGNOSES.csv\", sep=';', header=None)\n",
    "# df_notities = pd.read_csv(\"FILEPATH_NOTITIES.csv\", sep=';', header=None)"
   ]
  },
  {
   "cell_type": "code",
   "execution_count": 28,
   "metadata": {},
   "outputs": [
    {
     "data": {
      "text/plain": [
       "{12346, 913847}"
      ]
     },
     "execution_count": 28,
     "metadata": {},
     "output_type": "execute_result"
    }
   ],
   "source": [
    "#search_5 = ['acute respiratoire aandoening door SARS-CoV-2', 'acute respiratoire aandoening vermoedelijk door SARS-CoV-2']\n",
    "search_5 = []\n",
    "search_7 = [\"COVID-19, virus geïdentificeerd [U07.1]\", \"COVID-19, virus niet geïdentificeerd [U07.1]\"]\n",
    "\n",
    "MDN_ids = set()\n",
    "for query in search_5:\n",
    "    temp_set = set(df_diagnoses.loc[df_diagnoses[5] == query][0])\n",
    "    MDN_ids.update(temp_set)\n",
    "\n",
    "for query in search_7:\n",
    "    temp_set = set(df_diagnoses.loc[df_diagnoses[7] == query][0])\n",
    "    MDN_ids.update(temp_set)\n",
    "    \n",
    "MDN_ids"
   ]
  },
  {
   "cell_type": "code",
   "execution_count": 19,
   "metadata": {},
   "outputs": [
    {
     "data": {
      "text/html": [
       "<div>\n",
       "<style scoped>\n",
       "    .dataframe tbody tr th:only-of-type {\n",
       "        vertical-align: middle;\n",
       "    }\n",
       "\n",
       "    .dataframe tbody tr th {\n",
       "        vertical-align: top;\n",
       "    }\n",
       "\n",
       "    .dataframe thead th {\n",
       "        text-align: right;\n",
       "    }\n",
       "</style>\n",
       "<table border=\"1\" class=\"dataframe\">\n",
       "  <thead>\n",
       "    <tr style=\"text-align: right;\">\n",
       "      <th></th>\n",
       "      <th>0</th>\n",
       "      <th>1</th>\n",
       "      <th>2</th>\n",
       "      <th>3</th>\n",
       "      <th>4</th>\n",
       "      <th>5</th>\n",
       "      <th>6</th>\n",
       "      <th>7</th>\n",
       "    </tr>\n",
       "  </thead>\n",
       "  <tbody>\n",
       "    <tr>\n",
       "      <th>0</th>\n",
       "      <td>12345</td>\n",
       "      <td>11111</td>\n",
       "      <td>aaa</td>\n",
       "      <td>22222</td>\n",
       "      <td>aaa</td>\n",
       "      <td>acute respiratoire aandoening vermoedelijk doo...</td>\n",
       "      <td>bbb</td>\n",
       "      <td>ccc</td>\n",
       "    </tr>\n",
       "    <tr>\n",
       "      <th>1</th>\n",
       "      <td>12346</td>\n",
       "      <td>222</td>\n",
       "      <td>bbb</td>\n",
       "      <td>34513</td>\n",
       "      <td>dvdva</td>\n",
       "      <td>acute respiratoire aandoening door SARS-CoV-2</td>\n",
       "      <td>kjhkj</td>\n",
       "      <td>COVID-19, virus geïdentificeerd [U07.1]</td>\n",
       "    </tr>\n",
       "    <tr>\n",
       "      <th>2</th>\n",
       "      <td>913847</td>\n",
       "      <td>13498</td>\n",
       "      <td>dkjv</td>\n",
       "      <td>130498</td>\n",
       "      <td>akvd</td>\n",
       "      <td>acute respiratoire aandoening vermoedelijk doo...</td>\n",
       "      <td>lakfjd</td>\n",
       "      <td>COVID-19, virus niet geïdentificeerd [U07.1]</td>\n",
       "    </tr>\n",
       "    <tr>\n",
       "      <th>3</th>\n",
       "      <td>45829</td>\n",
       "      <td>5438</td>\n",
       "      <td>dsklfj</td>\n",
       "      <td>43958</td>\n",
       "      <td>vcslkj</td>\n",
       "      <td>dsakljfas</td>\n",
       "      <td>sdlfkja</td>\n",
       "      <td>NaN</td>\n",
       "    </tr>\n",
       "    <tr>\n",
       "      <th>4</th>\n",
       "      <td>34958</td>\n",
       "      <td>5438</td>\n",
       "      <td>dsklfj</td>\n",
       "      <td>43958</td>\n",
       "      <td>vcslkj</td>\n",
       "      <td>dsakljfas</td>\n",
       "      <td>sdlfkja</td>\n",
       "      <td>aslf</td>\n",
       "    </tr>\n",
       "  </tbody>\n",
       "</table>\n",
       "</div>"
      ],
      "text/plain": [
       "        0      1       2       3        4  \\\n",
       "0   12345  11111     aaa   22222      aaa   \n",
       "1   12346    222     bbb   34513    dvdva   \n",
       "2  913847  13498   dkjv   130498     akvd   \n",
       "3   45829   5438  dsklfj   43958  vcslkj    \n",
       "4   34958   5438  dsklfj   43958  vcslkj    \n",
       "\n",
       "                                                   5        6  \\\n",
       "0  acute respiratoire aandoening vermoedelijk doo...      bbb   \n",
       "1      acute respiratoire aandoening door SARS-CoV-2    kjhkj   \n",
       "2  acute respiratoire aandoening vermoedelijk doo...   lakfjd   \n",
       "3                                          dsakljfas  sdlfkja   \n",
       "4                                          dsakljfas  sdlfkja   \n",
       "\n",
       "                                              7  \n",
       "0                                           ccc  \n",
       "1       COVID-19, virus geïdentificeerd [U07.1]  \n",
       "2  COVID-19, virus niet geïdentificeerd [U07.1]  \n",
       "3                                           NaN  \n",
       "4                                          aslf  "
      ]
     },
     "execution_count": 19,
     "metadata": {},
     "output_type": "execute_result"
    }
   ],
   "source": [
    "df_diagnoses"
   ]
  },
  {
   "cell_type": "code",
   "execution_count": 30,
   "metadata": {},
   "outputs": [
    {
     "ename": "TypeError",
     "evalue": "'Series' objects are mutable, thus they cannot be hashed",
     "output_type": "error",
     "traceback": [
      "\u001b[1;31m---------------------------------------------------------------------------\u001b[0m",
      "\u001b[1;31mTypeError\u001b[0m                                 Traceback (most recent call last)",
      "\u001b[1;32m<ipython-input-30-583e4792144f>\u001b[0m in \u001b[0;36m<module>\u001b[1;34m\u001b[0m\n\u001b[1;32m----> 1\u001b[1;33m \u001b[0mdf_notities\u001b[0m\u001b[1;33m[\u001b[0m\u001b[0mdf_notities\u001b[0m\u001b[1;33m[\u001b[0m\u001b[1;36m0\u001b[0m\u001b[1;33m]\u001b[0m \u001b[1;32min\u001b[0m \u001b[0mMDN_ids\u001b[0m\u001b[1;33m]\u001b[0m\u001b[1;33m\u001b[0m\u001b[1;33m\u001b[0m\u001b[0m\n\u001b[0m",
      "\u001b[1;32m~\\AppData\\Local\\Continuum\\anaconda3\\lib\\site-packages\\pandas\\core\\generic.py\u001b[0m in \u001b[0;36m__hash__\u001b[1;34m(self)\u001b[0m\n\u001b[0;32m   1814\u001b[0m     \u001b[1;32mdef\u001b[0m \u001b[0m__hash__\u001b[0m\u001b[1;33m(\u001b[0m\u001b[0mself\u001b[0m\u001b[1;33m)\u001b[0m\u001b[1;33m:\u001b[0m\u001b[1;33m\u001b[0m\u001b[1;33m\u001b[0m\u001b[0m\n\u001b[0;32m   1815\u001b[0m         raise TypeError('{0!r} objects are mutable, thus they cannot be'\n\u001b[1;32m-> 1816\u001b[1;33m                         ' hashed'.format(self.__class__.__name__))\n\u001b[0m\u001b[0;32m   1817\u001b[0m \u001b[1;33m\u001b[0m\u001b[0m\n\u001b[0;32m   1818\u001b[0m     \u001b[1;32mdef\u001b[0m \u001b[0m__iter__\u001b[0m\u001b[1;33m(\u001b[0m\u001b[0mself\u001b[0m\u001b[1;33m)\u001b[0m\u001b[1;33m:\u001b[0m\u001b[1;33m\u001b[0m\u001b[1;33m\u001b[0m\u001b[0m\n",
      "\u001b[1;31mTypeError\u001b[0m: 'Series' objects are mutable, thus they cannot be hashed"
     ]
    }
   ],
   "source": []
  },
  {
   "cell_type": "code",
   "execution_count": null,
   "metadata": {},
   "outputs": [],
   "source": []
  }
 ],
 "metadata": {
  "kernelspec": {
   "display_name": "Python 3",
   "language": "python",
   "name": "python3"
  },
  "language_info": {
   "codemirror_mode": {
    "name": "ipython",
    "version": 3
   },
   "file_extension": ".py",
   "mimetype": "text/x-python",
   "name": "python",
   "nbconvert_exporter": "python",
   "pygments_lexer": "ipython3",
   "version": "3.7.3"
  }
 },
 "nbformat": 4,
 "nbformat_minor": 2
}
