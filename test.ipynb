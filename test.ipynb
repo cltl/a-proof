{
 "cells": [
  {
   "cell_type": "code",
   "execution_count": 1,
   "metadata": {},
   "outputs": [],
   "source": [
    "import pandas as pd\n",
    "from pathlib import Path\n",
    "from updates_join_annotations import open_df_from_tsv\n",
    "import updates_get_average_scores_per_label as scores\n"
   ]
  },
  {
   "cell_type": "code",
   "execution_count": 10,
   "metadata": {},
   "outputs": [
    {
     "name": "stdout",
     "output_type": "stream",
     "text": [
      "sample_data/Meskers+wk_project_2020-07-24_1249/annotation/notities_2017_deel1_cleaned.csv---2503.conll/meskers.tsv\n",
      "sample_data/Meskers+wk_project_2020-07-24_1249/annotation/notities_2017_deel1_cleaned.csv---2546.conll/meskers.tsv\n",
      "sample_data/Meskers+wk_project_2020-07-24_1249/annotation/notities_2017_deel1_cleaned.csv---2570.conll/meskers.tsv\n",
      "sample_data/Bos+wk_project_2020-07-24_1202/annotation/notities_2017_deel1_cleaned.csv---2503.conll/bos.tsv\n",
      "sample_data/Bos+wk_project_2020-07-24_1202/annotation/notities_2017_deel1_cleaned.csv---2546.conll/bos.tsv\n",
      "sample_data/Bos+wk_project_2020-07-24_1202/annotation/notities_2017_deel1_cleaned.csv---2570.conll/bos.tsv\n",
      "sample_data/Avelli+wk_project_2020-07-24_1202/annotation/notities_2017_deel1_cleaned.csv---2503.conll/avelli.tsv\n",
      "sample_data/Avelli+wk_project_2020-07-24_1202/annotation/notities_2017_deel1_cleaned.csv---2546.conll/avelli.tsv\n",
      "sample_data/Avelli+wk_project_2020-07-24_1202/annotation/notities_2017_deel1_cleaned.csv---2570.conll/avelli.tsv\n"
     ]
    }
   ],
   "source": [
    "for index, filename in enumerate(Path('./sample_data').glob('**/*.tsv')):\n",
    "    \"\"\"\n",
    "    Creates pd.DataFrame by joining files from different annotators and different documents to one\n",
    "    large df\n",
    "    \"\"\"\n",
    "    \n",
    "    print(filename)\n",
    "    # Extract annotator name from doc\n",
    "    annotator = filename.stem\n",
    "    \n",
    "    # Use the first file to create df\n",
    "    if index == 0:\n",
    "        df = open_df_from_tsv(filename)\n",
    "        \n",
    "    # Update df with new files\n",
    "    else: \n",
    "        # Create temporary df\n",
    "    \n",
    "        df_temp = open_df_from_tsv(filename)\n",
    "    \n",
    "        # if file is already in rows, and annotator is already in colmumns, then update\n",
    "        if df_temp['file_id'][1] in set(df['file_id']) and f'labels_{annotator}' in df.columns:\n",
    "            df.update(df_temp)\n",
    "        # Elif file is in rows (and annotator not yet in columns), then concat with axis=1\n",
    "        elif df_temp['file_id'][1] in set(df['file_id']):\n",
    "            df_temp.drop(['token_d_id', 'token', 'file_id', 'sent_id', 'token_s_id'], axis=1, inplace=True)\n",
    "            df = pd.concat([df, df_temp], axis=1, sort=False)\n",
    "        # Else\n",
    "        else:\n",
    "            df = pd.concat([df, df_temp], join='inner')\n",
    "\n",
    "    \n",
    "    "
   ]
  },
  {
   "cell_type": "code",
   "execution_count": 11,
   "metadata": {},
   "outputs": [
    {
     "name": "stdout",
     "output_type": "stream",
     "text": [
      "(127, 12)\n"
     ]
    },
    {
     "data": {
      "text/html": [
       "<div>\n",
       "<style scoped>\n",
       "    .dataframe tbody tr th:only-of-type {\n",
       "        vertical-align: middle;\n",
       "    }\n",
       "\n",
       "    .dataframe tbody tr th {\n",
       "        vertical-align: top;\n",
       "    }\n",
       "\n",
       "    .dataframe thead th {\n",
       "        text-align: right;\n",
       "    }\n",
       "</style>\n",
       "<table border=\"1\" class=\"dataframe\">\n",
       "  <thead>\n",
       "    <tr style=\"text-align: right;\">\n",
       "      <th></th>\n",
       "      <th>token_d_id</th>\n",
       "      <th>token</th>\n",
       "      <th>temp</th>\n",
       "      <th>file_id</th>\n",
       "      <th>sent_id</th>\n",
       "      <th>token_s_id</th>\n",
       "      <th>labels_bos</th>\n",
       "      <th>relation_bos</th>\n",
       "      <th>temp</th>\n",
       "      <th>labels_avelli</th>\n",
       "      <th>relation_avelli</th>\n",
       "      <th>temp</th>\n",
       "    </tr>\n",
       "  </thead>\n",
       "  <tbody>\n",
       "    <tr>\n",
       "      <th>2546_0</th>\n",
       "      <td>0</td>\n",
       "      <td>Op</td>\n",
       "      <td>_</td>\n",
       "      <td>2546</td>\n",
       "      <td>1</td>\n",
       "      <td>1</td>\n",
       "      <td>_</td>\n",
       "      <td>_</td>\n",
       "      <td>_</td>\n",
       "      <td>type\\_Background[1]</td>\n",
       "      <td>_</td>\n",
       "      <td>_</td>\n",
       "    </tr>\n",
       "    <tr>\n",
       "      <th>2546_1</th>\n",
       "      <td>1</td>\n",
       "      <td>Dd-mm-jjjj</td>\n",
       "      <td>_</td>\n",
       "      <td>2546</td>\n",
       "      <td>1</td>\n",
       "      <td>2</td>\n",
       "      <td>_</td>\n",
       "      <td>_</td>\n",
       "      <td>_</td>\n",
       "      <td>type\\_Background[1]</td>\n",
       "      <td>_</td>\n",
       "      <td>_</td>\n",
       "    </tr>\n",
       "    <tr>\n",
       "      <th>2546_2</th>\n",
       "      <td>2</td>\n",
       "      <td>zag</td>\n",
       "      <td>_</td>\n",
       "      <td>2546</td>\n",
       "      <td>1</td>\n",
       "      <td>3</td>\n",
       "      <td>_</td>\n",
       "      <td>_</td>\n",
       "      <td>_</td>\n",
       "      <td>type\\_Background[1]</td>\n",
       "      <td>_</td>\n",
       "      <td>_</td>\n",
       "    </tr>\n",
       "    <tr>\n",
       "      <th>2546_3</th>\n",
       "      <td>3</td>\n",
       "      <td>ik</td>\n",
       "      <td>_</td>\n",
       "      <td>2546</td>\n",
       "      <td>1</td>\n",
       "      <td>4</td>\n",
       "      <td>_</td>\n",
       "      <td>_</td>\n",
       "      <td>_</td>\n",
       "      <td>type\\_Background[1]</td>\n",
       "      <td>_</td>\n",
       "      <td>_</td>\n",
       "    </tr>\n",
       "    <tr>\n",
       "      <th>2546_4</th>\n",
       "      <td>4</td>\n",
       "      <td>bovengenoemde</td>\n",
       "      <td>_</td>\n",
       "      <td>2546</td>\n",
       "      <td>1</td>\n",
       "      <td>5</td>\n",
       "      <td>_</td>\n",
       "      <td>_</td>\n",
       "      <td>_</td>\n",
       "      <td>type\\_Background[1]</td>\n",
       "      <td>_</td>\n",
       "      <td>_</td>\n",
       "    </tr>\n",
       "  </tbody>\n",
       "</table>\n",
       "</div>"
      ],
      "text/plain": [
       "       token_d_id          token temp file_id sent_id token_s_id labels_bos  \\\n",
       "2546_0          0             Op    _    2546       1          1          _   \n",
       "2546_1          1     Dd-mm-jjjj    _    2546       1          2          _   \n",
       "2546_2          2            zag    _    2546       1          3          _   \n",
       "2546_3          3             ik    _    2546       1          4          _   \n",
       "2546_4          4  bovengenoemde    _    2546       1          5          _   \n",
       "\n",
       "       relation_bos temp        labels_avelli relation_avelli temp  \n",
       "2546_0            _    _  type\\_Background[1]               _    _  \n",
       "2546_1            _    _  type\\_Background[1]               _    _  \n",
       "2546_2            _    _  type\\_Background[1]               _    _  \n",
       "2546_3            _    _  type\\_Background[1]               _    _  \n",
       "2546_4            _    _  type\\_Background[1]               _    _  "
      ]
     },
     "execution_count": 11,
     "metadata": {},
     "output_type": "execute_result"
    }
   ],
   "source": [
    "print(df.shape)\n",
    "df.head()"
   ]
  },
  {
   "cell_type": "code",
   "execution_count": 12,
   "metadata": {},
   "outputs": [],
   "source": [
    "# Write to pickle\n",
    "df.to_pickle('./sample_data/token_level_df_all_annotators_all_docs.pkl')"
   ]
  },
  {
   "cell_type": "code",
   "execution_count": 13,
   "metadata": {},
   "outputs": [],
   "source": [
    "# To read file\n",
    "# df = pd.read_pickle('./sample_data/token_level_df_all_annotators_all_docs.pkl')"
   ]
  },
  {
   "cell_type": "code",
   "execution_count": 14,
   "metadata": {},
   "outputs": [
    {
     "name": "stdout",
     "output_type": "stream",
     "text": [
      "<class 'pandas.core.frame.DataFrame'>\n",
      "Index: 127 entries, 2546_0 to 2503_35\n",
      "Data columns (total 12 columns):\n",
      " #   Column           Non-Null Count  Dtype \n",
      "---  ------           --------------  ----- \n",
      " 0   token_d_id       127 non-null    object\n",
      " 1   token            127 non-null    object\n",
      " 2   temp             127 non-null    object\n",
      " 3   file_id          127 non-null    object\n",
      " 4   sent_id          127 non-null    object\n",
      " 5   token_s_id       127 non-null    object\n",
      " 6   labels_bos       91 non-null     object\n",
      " 7   relation_bos     91 non-null     object\n",
      " 8   temp             91 non-null     object\n",
      " 9   labels_avelli    127 non-null    object\n",
      " 10  relation_avelli  127 non-null    object\n",
      " 11  temp             127 non-null    object\n",
      "dtypes: object(12)\n",
      "memory usage: 12.9+ KB\n"
     ]
    }
   ],
   "source": [
    "df.info()"
   ]
  },
  {
   "cell_type": "code",
   "execution_count": 4,
   "metadata": {},
   "outputs": [
    {
     "name": "stdout",
     "output_type": "stream",
     "text": [
      "KeyError: meskers does not exist in the table.\n",
      "<class 'pandas.core.frame.DataFrame'>\n",
      "Index: 18 entries, type\\_Background_2546_0_12 to _2503_0_35\n",
      "Data columns (total 13 columns):\n",
      " #   Column           Non-Null Count  Dtype  \n",
      "---  ------           --------------  -----  \n",
      " 0   label            18 non-null     object \n",
      " 1   file_id          18 non-null     object \n",
      " 2   begin_span       18 non-null     int64  \n",
      " 3   end_span         18 non-null     int64  \n",
      " 4   token            18 non-null     object \n",
      " 5   2nd_label        7 non-null      object \n",
      " 6   2nd_file_id      7 non-null      object \n",
      " 7   begin_2nd_label  7 non-null      float64\n",
      " 8   end_2nd_label    7 non-null      float64\n",
      " 9   unknown          7 non-null      object \n",
      " 10  avelli           18 non-null     int64  \n",
      " 11  bos              18 non-null     int64  \n",
      " 12  meskers          18 non-null     int64  \n",
      "dtypes: float64(2), int64(5), object(6)\n",
      "memory usage: 2.0+ KB\n",
      "KeyError: meskers does not exist in the table.\n"
     ]
    }
   ],
   "source": [
    "## Testing on 3 annotators\n",
    "df = pd.read_pickle('./sample_data/token_level_df_all_annotators_all_docs.pkl')\n",
    "annotator_names = ['avelli', 'bos', 'meskers']\n",
    "    \n",
    "new_df = scores.get_dataframe(df, annotator_names)\n",
    "\n",
    "score = 0\n",
    "for annotator in annotator_names:\n",
    "    try:\n",
    "        dicta = dict()\n",
    "        # get personal dicts per annotator\n",
    "        dicta = scores.get_annotator_dict(df, 'labels_'+annotator)\n",
    "        # score the annotations in the df\n",
    "        new_df = scores.find_matches(new_df, annotator, dicta)\n",
    "        score += new_df[annotator]\n",
    "    except KeyError:\n",
    "        print('KeyError: {} does not exist in the table.'.format(annotator))\n",
    "        continue\n",
    "\n",
    "# sum the scores and put in new column\n",
    "new_df['score'] = score\n",
    "new_df.to_excel('excel_with_scores.xlsx')"
   ]
  },
  {
   "cell_type": "code",
   "execution_count": 7,
   "metadata": {},
   "outputs": [],
   "source": [
    "def print_scores(new_df):\n",
    "# extract average scores per label\n",
    "    print('average scores domains:')\n",
    "    print('average score Stemming: '+ str(score.get_average_score_per_label(new_df, 'Stemming')))\n",
    "    print('average score Lopen: '+ str(score.get_average_score_per_label(new_df, 'Lopen')))\n",
    "    print('average score Beroep en Werk: '+str(score.get_average_score_per_label(new_df, 'Beroep')))\n",
    "    print('average score Inspanningstolerantie: '+str(score.get_average_score_per_label(new_df, 'Inspanningstolerantie')))\n",
    "    print()\n",
    "    print('average scores levels:')\n",
    "    print('average score FAC 0: '+ str(score.get_average_score_per_label(new_df, 'FAC 2')))\n",
    "    print('average score FAC 1: '+ str(score.get_average_score_per_label(new_df, 'FAC 1')))\n",
    "    print('average score FAC 2: '+ str(score.get_average_score_per_label(new_df, 'FAC 2')))\n",
    "    print('average score FAC 3: '+ str(score.get_average_score_per_label(new_df, 'FAC 2')))\n",
    "    print('average score FAC 4: '+ str(score.get_average_score_per_label(new_df, 'FAC 4')))\n",
    "    print('average score FAC 5: '+ str(score.get_average_score_per_label(new_df, 'FAC 5')))\n",
    "    print()\n",
    "    print('average score STM 0: '+ str(score.get_average_score_per_label(new_df, 'STM 0')))\n",
    "    print('average score STM 1: '+ str(score.get_average_score_per_label(new_df, 'STM 1')))\n",
    "    print('average score STM 2: '+ str(score.get_average_score_per_label(new_df, 'STM 2')))\n",
    "    print('average score STM 3: '+ str(score.get_average_score_per_label(new_df, 'STM 3')))\n",
    "    print('average score STM 4: '+ str(score.get_average_score_per_label(new_df, 'STM 4')))\n",
    "    print('average score STM 5: '+ str(score.get_average_score_per_label(new_df, 'STM 5')))\n",
    "    print()\n",
    "    print('average score INS 0: '+ str(score.get_average_score_per_label(new_df, 'INS 0')))\n",
    "    print('average score INS 1: '+ str(score.get_average_score_per_label(new_df, 'INS 1')))\n",
    "    print('average score INS 2: '+ str(score.get_average_score_per_label(new_df, 'INS 2')))\n",
    "    print('average score INS 3: '+ str(score.get_average_score_per_label(new_df, 'INS 3')))\n",
    "    print('average score INS 4: '+ str(score.get_average_score_per_label(new_df, 'INS 4')))\n",
    "    print()\n",
    "    print('average score BER 0: '+ str(score.get_average_score_per_label(new_df, 'BER 0')))\n",
    "    print('average score BER 1: '+ str(score.get_average_score_per_label(new_df, 'BER 1')))\n",
    "    print('average score BER 2: '+ str(score.get_average_score_per_label(new_df, 'BER 2')))\n",
    "    print('average score BER 3: '+ str(score.get_average_score_per_label(new_df, 'BER 3')))\n",
    "    print('average score BER 4: '+ str(score.get_average_score_per_label(new_df, 'BER 4')))\n",
    "    print()\n",
    "    print('average score remaining labels')\n",
    "    print('average score stm\\_reaction: '+ str(score.get_average_score_per_label(new_df, 'reaction')))\n",
    "    print('average score type\\_Background: '+ str(score.get_average_score_per_label(new_df, 'Background')))\n",
    "    print('average score view\\_Patient: '+ str(score.get_average_score_per_label(new_df, 'Patient')))\n",
    "    print('average score view\\_Thirdparty: '+ str(score.get_average_score_per_label(new_df, 'Third')))\n",
    "    print('average score type\\_Implicit: '+ str(score.get_average_score_per_label(new_df, 'Implicit')))"
   ]
  },
  {
   "cell_type": "code",
   "execution_count": 8,
   "metadata": {},
   "outputs": [
    {
     "name": "stdout",
     "output_type": "stream",
     "text": [
      "average scores domains:\n"
     ]
    },
    {
     "ename": "AttributeError",
     "evalue": "'Series' object has no attribute 'get_average_score_per_label'",
     "output_type": "error",
     "traceback": [
      "\u001b[0;31m---------------------------------------------------------------------------\u001b[0m",
      "\u001b[0;31mAttributeError\u001b[0m                            Traceback (most recent call last)",
      "\u001b[0;32m<ipython-input-8-36f09d55a960>\u001b[0m in \u001b[0;36m<module>\u001b[0;34m\u001b[0m\n\u001b[0;32m----> 1\u001b[0;31m \u001b[0mprint_scores\u001b[0m\u001b[0;34m(\u001b[0m\u001b[0mnew_df\u001b[0m\u001b[0;34m)\u001b[0m\u001b[0;34m\u001b[0m\u001b[0;34m\u001b[0m\u001b[0m\n\u001b[0m",
      "\u001b[0;32m<ipython-input-7-307e0b795336>\u001b[0m in \u001b[0;36mprint_scores\u001b[0;34m(new_df)\u001b[0m\n\u001b[1;32m      2\u001b[0m \u001b[0;31m# extract average scores per label\u001b[0m\u001b[0;34m\u001b[0m\u001b[0;34m\u001b[0m\u001b[0;34m\u001b[0m\u001b[0m\n\u001b[1;32m      3\u001b[0m     \u001b[0mprint\u001b[0m\u001b[0;34m(\u001b[0m\u001b[0;34m'average scores domains:'\u001b[0m\u001b[0;34m)\u001b[0m\u001b[0;34m\u001b[0m\u001b[0;34m\u001b[0m\u001b[0m\n\u001b[0;32m----> 4\u001b[0;31m     \u001b[0mprint\u001b[0m\u001b[0;34m(\u001b[0m\u001b[0;34m'average score Stemming: '\u001b[0m\u001b[0;34m+\u001b[0m \u001b[0mstr\u001b[0m\u001b[0;34m(\u001b[0m\u001b[0mscore\u001b[0m\u001b[0;34m.\u001b[0m\u001b[0mget_average_score_per_label\u001b[0m\u001b[0;34m(\u001b[0m\u001b[0mnew_df\u001b[0m\u001b[0;34m,\u001b[0m \u001b[0;34m'Stemming'\u001b[0m\u001b[0;34m)\u001b[0m\u001b[0;34m)\u001b[0m\u001b[0;34m)\u001b[0m\u001b[0;34m\u001b[0m\u001b[0;34m\u001b[0m\u001b[0m\n\u001b[0m\u001b[1;32m      5\u001b[0m     \u001b[0mprint\u001b[0m\u001b[0;34m(\u001b[0m\u001b[0;34m'average score Lopen: '\u001b[0m\u001b[0;34m+\u001b[0m \u001b[0mstr\u001b[0m\u001b[0;34m(\u001b[0m\u001b[0mscore\u001b[0m\u001b[0;34m.\u001b[0m\u001b[0mget_average_score_per_label\u001b[0m\u001b[0;34m(\u001b[0m\u001b[0mnew_df\u001b[0m\u001b[0;34m,\u001b[0m \u001b[0;34m'Lopen'\u001b[0m\u001b[0;34m)\u001b[0m\u001b[0;34m)\u001b[0m\u001b[0;34m)\u001b[0m\u001b[0;34m\u001b[0m\u001b[0;34m\u001b[0m\u001b[0m\n\u001b[1;32m      6\u001b[0m     \u001b[0mprint\u001b[0m\u001b[0;34m(\u001b[0m\u001b[0;34m'average score Beroep en Werk: '\u001b[0m\u001b[0;34m+\u001b[0m\u001b[0mstr\u001b[0m\u001b[0;34m(\u001b[0m\u001b[0mscore\u001b[0m\u001b[0;34m.\u001b[0m\u001b[0mget_average_score_per_label\u001b[0m\u001b[0;34m(\u001b[0m\u001b[0mnew_df\u001b[0m\u001b[0;34m,\u001b[0m \u001b[0;34m'Beroep'\u001b[0m\u001b[0;34m)\u001b[0m\u001b[0;34m)\u001b[0m\u001b[0;34m)\u001b[0m\u001b[0;34m\u001b[0m\u001b[0;34m\u001b[0m\u001b[0m\n",
      "\u001b[0;32m~/opt/anaconda3/lib/python3.7/site-packages/pandas/core/generic.py\u001b[0m in \u001b[0;36m__getattr__\u001b[0;34m(self, name)\u001b[0m\n\u001b[1;32m   5272\u001b[0m             \u001b[0;32mif\u001b[0m \u001b[0mself\u001b[0m\u001b[0;34m.\u001b[0m\u001b[0m_info_axis\u001b[0m\u001b[0;34m.\u001b[0m\u001b[0m_can_hold_identifiers_and_holds_name\u001b[0m\u001b[0;34m(\u001b[0m\u001b[0mname\u001b[0m\u001b[0;34m)\u001b[0m\u001b[0;34m:\u001b[0m\u001b[0;34m\u001b[0m\u001b[0;34m\u001b[0m\u001b[0m\n\u001b[1;32m   5273\u001b[0m                 \u001b[0;32mreturn\u001b[0m \u001b[0mself\u001b[0m\u001b[0;34m[\u001b[0m\u001b[0mname\u001b[0m\u001b[0;34m]\u001b[0m\u001b[0;34m\u001b[0m\u001b[0;34m\u001b[0m\u001b[0m\n\u001b[0;32m-> 5274\u001b[0;31m             \u001b[0;32mreturn\u001b[0m \u001b[0mobject\u001b[0m\u001b[0;34m.\u001b[0m\u001b[0m__getattribute__\u001b[0m\u001b[0;34m(\u001b[0m\u001b[0mself\u001b[0m\u001b[0;34m,\u001b[0m \u001b[0mname\u001b[0m\u001b[0;34m)\u001b[0m\u001b[0;34m\u001b[0m\u001b[0;34m\u001b[0m\u001b[0m\n\u001b[0m\u001b[1;32m   5275\u001b[0m \u001b[0;34m\u001b[0m\u001b[0m\n\u001b[1;32m   5276\u001b[0m     \u001b[0;32mdef\u001b[0m \u001b[0m__setattr__\u001b[0m\u001b[0;34m(\u001b[0m\u001b[0mself\u001b[0m\u001b[0;34m,\u001b[0m \u001b[0mname\u001b[0m\u001b[0;34m:\u001b[0m \u001b[0mstr\u001b[0m\u001b[0;34m,\u001b[0m \u001b[0mvalue\u001b[0m\u001b[0;34m)\u001b[0m \u001b[0;34m->\u001b[0m \u001b[0;32mNone\u001b[0m\u001b[0;34m:\u001b[0m\u001b[0;34m\u001b[0m\u001b[0;34m\u001b[0m\u001b[0m\n",
      "\u001b[0;31mAttributeError\u001b[0m: 'Series' object has no attribute 'get_average_score_per_label'"
     ]
    }
   ],
   "source": [
    "print_scores(new_df)"
   ]
  },
  {
   "cell_type": "code",
   "execution_count": null,
   "metadata": {},
   "outputs": [],
   "source": []
  }
 ],
 "metadata": {
  "kernelspec": {
   "display_name": "Python 3",
   "language": "python",
   "name": "python3"
  },
  "language_info": {
   "codemirror_mode": {
    "name": "ipython",
    "version": 3
   },
   "file_extension": ".py",
   "mimetype": "text/x-python",
   "name": "python",
   "nbconvert_exporter": "python",
   "pygments_lexer": "ipython3",
   "version": "3.7.6"
  }
 },
 "nbformat": 4,
 "nbformat_minor": 4
}
