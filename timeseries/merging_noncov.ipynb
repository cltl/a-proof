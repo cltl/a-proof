{
 "cells": [
  {
   "cell_type": "markdown",
   "metadata": {},
   "source": [
    "# Merging non-covid annotations with raw notes\n",
    "\n",
    "This notebook reads the extracted non-covid annotations (i.e. the output of `annotation_extraction_noncovid.ipynb`). It then matches these notes up with the raw patient records from 2017, using patient and note ID numbers. This **provides the date-time stamp for each note, which is essential for timeseries analysis**. \n",
    "\n",
    "Be warned, this notebook shows all of the \"working out\" steps. There were multiple versions of the original patient records with different structures and no column names. A lot of this notebook is just me trying to figure out which columns are which and match them up with the annotated sentences. A sneaky shift-index-by-one issue made this tricky, but it worked in the end."
   ]
  },
  {
   "cell_type": "code",
   "execution_count": null,
   "metadata": {},
   "outputs": [],
   "source": [
    "!pwd\n",
    "\n",
    "import pickle\n",
    "from pathlib import Path\n",
    "\n",
    "import numpy as np\n",
    "import pandas as pd\n",
    "import scipy\n",
    "import seaborn as sns\n",
    "import sklearn\n",
    "import statsmodels\n",
    "import torch\n",
    "from matplotlib import pyplot as plt\n",
    "from tqdm import tqdm as tqdm\n",
    "\n",
    "# Make graphics nice\n",
    "%matplotlib inline\n",
    "%config InlineBackend.figure_format = 'retina'\n",
    "\n",
    "# Set sensible defaults\n",
    "sns.set()\n",
    "sns.set_style(\"ticks\")\n",
    "sns.set_context('paper')"
   ]
  },
  {
   "cell_type": "code",
   "execution_count": 2,
   "metadata": {},
   "outputs": [
    {
     "name": "stdout",
     "output_type": "stream",
     "text": [
      "(216959, 7)\n"
     ]
    }
   ],
   "source": [
    "# Read in the annotated non-covid notes we exported in another notebook\n",
    "df_annot = pd.read_csv('~/gianluca_data/traindata_batch1_v2.tsv', sep='\\t')\n",
    "print(df_annot.shape)"
   ]
  },
  {
   "cell_type": "code",
   "execution_count": 3,
   "metadata": {},
   "outputs": [],
   "source": [
    "# This parses the source filename for the pickled BERTje container, yielding the `src_id`\n",
    "# field that we need to merge with the raw notes. \n",
    "\n",
    "def parse_source(row):\n",
    "    srcid = str(row.src_file.split(\"---\")[1])\n",
    "    if np.isnan(row.sentence_id):\n",
    "        return int(srcid)\n",
    "    sen = str(int(row.sentence_id))\n",
    "    srcid = srcid[:-len(sen)]\n",
    "    return int(srcid)\n",
    "    \n",
    "# Parse source file row index (with offset of 1)\n",
    "df_annot['src_id'] = df_annot.apply(parse_source, axis=1) - 1"
   ]
  },
  {
   "cell_type": "code",
   "execution_count": 4,
   "metadata": {},
   "outputs": [],
   "source": [
    "df_annot.drop('src_file', axis=1, inplace=True)"
   ]
  },
  {
   "cell_type": "code",
   "execution_count": 6,
   "metadata": {},
   "outputs": [
    {
     "name": "stdout",
     "output_type": "stream",
     "text": [
      "<class 'pandas.core.frame.DataFrame'>\n",
      "RangeIndex: 337391 entries, 0 to 337390\n",
      "Data columns (total 7 columns):\n",
      " #   Column  Non-Null Count   Dtype \n",
      "---  ------  --------------   ----- \n",
      " 0   id1     337391 non-null  int64 \n",
      " 1   id2     337391 non-null  int64 \n",
      " 2   type    295904 non-null  object\n",
      " 3   date    337391 non-null  object\n",
      " 4   note    337198 non-null  object\n",
      " 5   other1  4491 non-null    object\n",
      " 6   other2  330 non-null     object\n",
      "dtypes: int64(2), object(5)\n",
      "memory usage: 18.0+ MB\n"
     ]
    }
   ],
   "source": [
    "col_names = ['id1', 'id2', 'type', 'date', 'note', 'other1', 'other2']\n",
    "\n",
    "# Read in one set of candidate notes\n",
    "df_2020vumcnotes = pd.read_csv(\n",
    "    \"//data/Levering COVID project 2020/Notities VUmc.csv\", \n",
    "    names=col_names,\n",
    "    sep=';'\n",
    ")\n",
    "df_2020vumcnotes.info()"
   ]
  },
  {
   "cell_type": "code",
   "execution_count": 7,
   "metadata": {},
   "outputs": [
    {
     "name": "stdout",
     "output_type": "stream",
     "text": [
      "<class 'pandas.core.frame.DataFrame'>\n",
      "RangeIndex: 1249009 entries, 0 to 1249008\n",
      "Data columns (total 3 columns):\n",
      " #   Column      Non-Null Count    Dtype \n",
      "---  ------      --------------    ----- \n",
      " 0   note_index  1249009 non-null  int64 \n",
      " 1   notitieID   1249009 non-null  int64 \n",
      " 2   notitie     1249009 non-null  object\n",
      "dtypes: int64(2), object(1)\n",
      "memory usage: 28.6+ MB\n"
     ]
    }
   ],
   "source": [
    "# Read in another set of candidate notes (cleaned)\n",
    "df_notes_cleaned = pd.read_csv(\n",
    "    \"//data/notes/vumc/all_data/notities_2017_deel2_cleaned.csv\")\n",
    "df_notes_cleaned.rename({'Unnamed: 0': 'note_index'}, axis=1, inplace=True)\n",
    "df_notes_cleaned.info()"
   ]
  },
  {
   "cell_type": "code",
   "execution_count": 9,
   "metadata": {},
   "outputs": [
    {
     "name": "stdout",
     "output_type": "stream",
     "text": [
      "<class 'pandas.core.frame.DataFrame'>\n",
      "RangeIndex: 1249545 entries, 0 to 1249544\n",
      "Data columns (total 7 columns):\n",
      " #   Column  Non-Null Count    Dtype \n",
      "---  ------  --------------    ----- \n",
      " 0   id1     1249545 non-null  object\n",
      " 1   id2     1249545 non-null  int64 \n",
      " 2   type    1028367 non-null  object\n",
      " 3   date    1249545 non-null  object\n",
      " 4   note    1249010 non-null  object\n",
      " 5   other1  14928 non-null    object\n",
      " 6   other2  899 non-null      object\n",
      "dtypes: int64(1), object(6)\n",
      "memory usage: 66.7+ MB\n"
     ]
    }
   ],
   "source": [
    "# Read in the original raw notes (not cleanded)\n",
    "df_notes_orig = pd.read_csv(\n",
    "    \"//data/notes/vumc/all_data/notities_2017_deel2.csv\",\n",
    "    names=col_names,\n",
    "    sep=';',\n",
    ")\n",
    "df_notes_orig.info()"
   ]
  },
  {
   "cell_type": "code",
   "execution_count": 12,
   "metadata": {},
   "outputs": [
    {
     "data": {
      "text/plain": [
       "((1249545, 7), (1249009, 3))"
      ]
     },
     "execution_count": 12,
     "metadata": {},
     "output_type": "execute_result"
    }
   ],
   "source": [
    "df_notes_orig.shape, df_notes_cleaned.shape"
   ]
  },
  {
   "cell_type": "code",
   "execution_count": 13,
   "metadata": {},
   "outputs": [
    {
     "data": {
      "text/plain": [
       "(1249009, 10)"
      ]
     },
     "execution_count": 13,
     "metadata": {},
     "output_type": "execute_result"
    }
   ],
   "source": [
    "# Merge the original and cleaned notes with an inner join\n",
    "df_notes = df_notes_orig.merge(df_notes_cleaned, how='inner', left_on='id2', right_on='notitieID')\n",
    "df_notes.reset_index(inplace=True, drop=True)\n",
    "df_notes.shape"
   ]
  },
  {
   "cell_type": "code",
   "execution_count": null,
   "metadata": {},
   "outputs": [],
   "source": [
    "# Rename columns, drop some redundant ones, and then reorder the columns for better readability.\n",
    "df_notes.rename({'id1': 'patient_id', 'id2': 'note_id'}, axis=1, inplace=True)\n",
    "df_notes.drop(['other1', 'other2', 'notitieID', 'notitie'], axis=1, inplace=True)\n",
    "df_notes = df_notes[['note_id', 'patient_id', 'date', 'type', 'note_index', 'note']]\n",
    "df_notes['date'] = pd.to_datetime(df_notes['date'])\n",
    "\n",
    "# Redacted for patient privacy\n",
    "df_notes.sample(5)"
   ]
  },
  {
   "cell_type": "code",
   "execution_count": 15,
   "metadata": {},
   "outputs": [
    {
     "data": {
      "text/plain": [
       "count                          1249009\n",
       "mean     2017-08-08 19:42:52.004204544\n",
       "min                2017-01-01 00:00:00\n",
       "25%                2017-06-06 00:00:00\n",
       "50%                2017-08-23 00:00:00\n",
       "75%                2017-10-27 00:00:00\n",
       "max                2017-12-31 00:00:00\n",
       "Name: date, dtype: object"
      ]
     },
     "execution_count": 15,
     "metadata": {},
     "output_type": "execute_result"
    }
   ],
   "source": [
    "df_notes.date.describe(datetime_is_numeric=True)"
   ]
  },
  {
   "cell_type": "code",
   "execution_count": 16,
   "metadata": {},
   "outputs": [
    {
     "data": {
      "text/plain": [
       "count                           337391\n",
       "mean     2018-07-08 06:55:47.321060352\n",
       "min                2018-01-01 00:00:00\n",
       "25%                2018-04-09 00:00:00\n",
       "50%                2018-07-10 00:00:00\n",
       "75%                2018-10-09 00:00:00\n",
       "max                2018-12-31 00:00:00\n",
       "Name: date, dtype: object"
      ]
     },
     "execution_count": 16,
     "metadata": {},
     "output_type": "execute_result"
    }
   ],
   "source": [
    "df_2020vumcnotes['date'] = pd.to_datetime(df_2020vumcnotes['date'])\n",
    "df_2020vumcnotes['date'].describe(datetime_is_numeric=True)"
   ]
  },
  {
   "cell_type": "code",
   "execution_count": null,
   "metadata": {},
   "outputs": [],
   "source": [
    "df_2020vumcnotes = df_2020vumcnotes.reset_index(drop=False)\n",
    "df_2020vumcnotes.rename({\"index\": 'note_index'}, axis=1, inplace=True)\n",
    "df_2020vumcnotes.drop(['other1', 'other2'], axis=1, inplace=True)\n",
    "df_2020vumcnotes.head(3)"
   ]
  },
  {
   "cell_type": "code",
   "execution_count": 20,
   "metadata": {},
   "outputs": [
    {
     "name": "stdout",
     "output_type": "stream",
     "text": [
      "0\n",
      "0\n"
     ]
    },
    {
     "data": {
      "text/plain": [
       "(337391, 1249009)"
      ]
     },
     "execution_count": 20,
     "metadata": {},
     "output_type": "execute_result"
    }
   ],
   "source": [
    "# Hunting to find which of the (unknown) columns match up\n",
    "print(np.intersect1d(df_2020vumcnotes.id2.unique(), df_notes.note_id.unique()).size)\n",
    "print(np.intersect1d(df_2020vumcnotes.id1.unique(), df_notes.note_id.unique()).size)\n",
    "df_2020vumcnotes.id2.unique().size, df_notes.note_id.unique().size"
   ]
  },
  {
   "cell_type": "code",
   "execution_count": 21,
   "metadata": {},
   "outputs": [
    {
     "name": "stdout",
     "output_type": "stream",
     "text": [
      "<class 'pandas.core.frame.DataFrame'>\n",
      "RangeIndex: 1249009 entries, 0 to 1249008\n",
      "Data columns (total 6 columns):\n",
      " #   Column      Non-Null Count    Dtype         \n",
      "---  ------      --------------    -----         \n",
      " 0   note_id     1249009 non-null  int64         \n",
      " 1   patient_id  1249009 non-null  object        \n",
      " 2   date        1249009 non-null  datetime64[ns]\n",
      " 3   type        1027884 non-null  object        \n",
      " 4   note_index  1249009 non-null  int64         \n",
      " 5   note        1249009 non-null  object        \n",
      "dtypes: datetime64[ns](1), int64(2), object(3)\n",
      "memory usage: 57.2+ MB\n"
     ]
    }
   ],
   "source": [
    "df_notes.info()"
   ]
  },
  {
   "cell_type": "code",
   "execution_count": 24,
   "metadata": {},
   "outputs": [
    {
     "data": {
      "text/plain": [
       "(0, 1249008)"
      ]
     },
     "execution_count": 24,
     "metadata": {},
     "output_type": "execute_result"
    }
   ],
   "source": [
    "df_notes.note_index.min(), df_notes.note_index.max()"
   ]
  },
  {
   "cell_type": "code",
   "execution_count": 26,
   "metadata": {},
   "outputs": [
    {
     "data": {
      "text/plain": [
       "(15, 37564)"
      ]
     },
     "execution_count": 26,
     "metadata": {},
     "output_type": "execute_result"
    }
   ],
   "source": [
    "df_annot.src_id.min(), df_annot.src_id.max()"
   ]
  },
  {
   "cell_type": "code",
   "execution_count": 27,
   "metadata": {},
   "outputs": [
    {
     "data": {
      "text/plain": [
       "(0, 1249008)"
      ]
     },
     "execution_count": 27,
     "metadata": {},
     "output_type": "execute_result"
    }
   ],
   "source": [
    "df_notes.note_index.min(), df_notes.note_index.max()"
   ]
  },
  {
   "cell_type": "code",
   "execution_count": 28,
   "metadata": {},
   "outputs": [
    {
     "data": {
      "text/plain": [
       "2785"
      ]
     },
     "execution_count": 28,
     "metadata": {},
     "output_type": "execute_result"
    }
   ],
   "source": [
    "np.intersect1d(df_annot.src_id.unique(), df_notes.note_index.unique()).size"
   ]
  },
  {
   "cell_type": "code",
   "execution_count": 29,
   "metadata": {},
   "outputs": [
    {
     "data": {
      "text/plain": [
       "(2785, 1249009)"
      ]
     },
     "execution_count": 29,
     "metadata": {},
     "output_type": "execute_result"
    }
   ],
   "source": [
    "df_annot.src_id.nunique(), df_notes.note_index.nunique()"
   ]
  },
  {
   "cell_type": "code",
   "execution_count": 30,
   "metadata": {},
   "outputs": [
    {
     "data": {
      "text/plain": [
       "1.0"
      ]
     },
     "execution_count": 30,
     "metadata": {},
     "output_type": "execute_result"
    }
   ],
   "source": [
    "np.intersect1d(df_annot.src_id.unique(), df_notes.note_index.unique()).size / df_annot.src_id.nunique()"
   ]
  },
  {
   "cell_type": "code",
   "execution_count": 31,
   "metadata": {},
   "outputs": [
    {
     "data": {
      "text/plain": [
       "14057    669\n",
       "20516    660\n",
       "22104    642\n",
       "10605    628\n",
       "2531     582\n",
       "Name: src_id, dtype: int64"
      ]
     },
     "execution_count": 31,
     "metadata": {},
     "output_type": "execute_result"
    }
   ],
   "source": [
    "df_annot.src_id.value_counts().head()"
   ]
  },
  {
   "cell_type": "markdown",
   "metadata": {},
   "source": [
    "## Where things actually start working"
   ]
  },
  {
   "cell_type": "code",
   "execution_count": 32,
   "metadata": {},
   "outputs": [
    {
     "data": {
      "text/plain": [
       "(1463183, 13)"
      ]
     },
     "execution_count": 32,
     "metadata": {},
     "output_type": "execute_result"
    }
   ],
   "source": [
    "# Merge and save the final dataframe\n",
    "df_merged = df_annot.merge(df_notes, how='outer', left_on='src_id', right_on='note_index')\n",
    "df_merged.to_csv('~/gianluca_data/traindata_batch1_v2_matched.tsv', sep='\\t', index=False)\n",
    "df_merged.shape"
   ]
  },
  {
   "cell_type": "code",
   "execution_count": 33,
   "metadata": {},
   "outputs": [
    {
     "data": {
      "text/plain": [
       "((216959, 7), (1249009, 6))"
      ]
     },
     "execution_count": 33,
     "metadata": {},
     "output_type": "execute_result"
    }
   ],
   "source": [
    "df_annot.shape, df_notes.shape"
   ]
  },
  {
   "cell_type": "code",
   "execution_count": 34,
   "metadata": {},
   "outputs": [
    {
     "data": {
      "text/plain": [
       "209204887    669\n",
       "222899243    660\n",
       "221352103    642\n",
       "207579644    628\n",
       "170720974    582\n",
       "Name: note_id, dtype: int64"
      ]
     },
     "execution_count": 34,
     "metadata": {},
     "output_type": "execute_result"
    }
   ],
   "source": [
    "df_merged.note_id.value_counts().head()"
   ]
  },
  {
   "cell_type": "code",
   "execution_count": null,
   "metadata": {},
   "outputs": [],
   "source": [
    "# A sanity check on a particular note. Output redacted for patient privacy.\n",
    "print(df_merged[df_merged.src_id == 2531].note.values[0][:500])\n",
    "print(df_merged[df_merged.src_id == 2531].sentence.values[:20])"
   ]
  },
  {
   "cell_type": "code",
   "execution_count": 36,
   "metadata": {},
   "outputs": [
    {
     "data": {
      "text/plain": [
       "0.06707500018794642"
      ]
     },
     "execution_count": 36,
     "metadata": {},
     "output_type": "execute_result"
    }
   ],
   "source": [
    "# Count what fraction of the notes contain the annotated sentence\n",
    "def sent_in_note(s, n):\n",
    "    return 1 if str(s) in str(n) else 0\n",
    "\n",
    "df_merged['sent_in_note'] = df_merged.apply(lambda x: sent_in_note(x.sentence, x.note), axis=1)\n",
    "df_merged['sent_in_note'].sum() / df_merged.shape[0]"
   ]
  },
  {
   "cell_type": "code",
   "execution_count": null,
   "metadata": {},
   "outputs": [],
   "source": []
  }
 ],
 "metadata": {
  "kernelspec": {
   "display_name": "Python 3",
   "language": "python",
   "name": "python3"
  },
  "language_info": {
   "codemirror_mode": {
    "name": "ipython",
    "version": 3
   },
   "file_extension": ".py",
   "mimetype": "text/x-python",
   "name": "python",
   "nbconvert_exporter": "python",
   "pygments_lexer": "ipython3",
   "version": "3.6.5"
  }
 },
 "nbformat": 4,
 "nbformat_minor": 4
}
