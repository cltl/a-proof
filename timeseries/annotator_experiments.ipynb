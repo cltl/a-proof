{
 "cells": [
  {
   "cell_type": "markdown",
   "metadata": {},
   "source": [
    "# Testing things out for the annotation models\n",
    "\n",
    "This is an experimental notebook. I wanted to find good ways for evaluating NLP models (bag-of-words is used here for simplicity). \n",
    "\n",
    "Near the end, I looked at wrapping up all the pre-processing and modelling steps into a single sklearn `Pipeline` object and pickling it. This approach allows models to be saved to a file along with their pre-processing and post-processing steps. They can then be used very simply fit `.predict(X)` calls on new data. "
   ]
  },
  {
   "cell_type": "code",
   "execution_count": 1,
   "metadata": {},
   "outputs": [],
   "source": [
    "import pickle\n",
    "from pathlib import Path\n",
    "\n",
    "import numpy as np\n",
    "import pandas as pd\n",
    "import scipy\n",
    "import seaborn as sns\n",
    "import sklearn\n",
    "import statsmodels\n",
    "import torch\n",
    "from matplotlib import pyplot as plt\n",
    "from tqdm import tqdm as tqdm\n",
    "\n",
    "# Make graphics nice\n",
    "%matplotlib inline\n",
    "%config InlineBackend.figure_format = 'retina'\n",
    "\n",
    "# Set sensible defaults\n",
    "sns.set()\n",
    "sns.set_style(\"ticks\")\n",
    "sns.set_context('paper')"
   ]
  },
  {
   "cell_type": "code",
   "execution_count": null,
   "metadata": {},
   "outputs": [],
   "source": [
    "df_train = pd.read_csv('//data2/Documents/a-proof/bow_data/covid_traindata.tsv', sep='\\t')\n",
    "print(df_train.shape)\n",
    "df_train.head()"
   ]
  },
  {
   "cell_type": "code",
   "execution_count": 3,
   "metadata": {},
   "outputs": [
    {
     "data": {
      "text/plain": [
       "(17365, 6)"
      ]
     },
     "execution_count": 3,
     "metadata": {},
     "output_type": "execute_result"
    }
   ],
   "source": [
    "df_test = pd.read_csv('//data2/Documents/a-proof/bow_data/covid_testdata.tsv', sep='\\t')\n",
    "df_test.shape"
   ]
  },
  {
   "cell_type": "code",
   "execution_count": 4,
   "metadata": {},
   "outputs": [
    {
     "name": "stdout",
     "output_type": "stream",
     "text": [
      "(14718, 6)\n"
     ]
    },
    {
     "data": {
      "text/plain": [
       "14718"
      ]
     },
     "execution_count": 4,
     "metadata": {},
     "output_type": "execute_result"
    }
   ],
   "source": [
    "# extract all annotated sentences + equal number of random non-annotated sequences\n",
    "df_has_dom = df_train[~df_train.annotations.isna()]\n",
    "# df_train = pd.concat([df_has_dom, df_train[df_train.annotations.isna()].sample(100)]) \n",
    "df_train = df_has_dom\n",
    "print(df_train.shape)\n",
    "\n",
    "# Make initial corpus from train data\n",
    "corpus = df_train.sentence.values\n",
    "len(corpus)"
   ]
  },
  {
   "cell_type": "code",
   "execution_count": 6,
   "metadata": {},
   "outputs": [
    {
     "name": "stdout",
     "output_type": "stream",
     "text": [
      "Vocabulary size: 479\n",
      "Train: (14718, 479)\n",
      "Test: (17365, 479)\n"
     ]
    }
   ],
   "source": [
    "from nltk.corpus import stopwords\n",
    "from sklearn.feature_extraction.text import CountVectorizer\n",
    "\n",
    "stop_words = stopwords.words('dutch')\n",
    "\n",
    "vectorizer = CountVectorizer(\n",
    "    lowercase=True,\n",
    "    stop_words=stop_words,\n",
    "    strip_accents='ascii',\n",
    "    min_df=0.002,\n",
    "    max_df=0.9,\n",
    ")\n",
    "X_train = vectorizer.fit_transform(corpus)\n",
    "print('Vocabulary size:', len(vectorizer.vocabulary_))\n",
    "print('Train:', X_train.shape)\n",
    "\n",
    "X_test = vectorizer.transform(df_test.sentence.values)\n",
    "print('Test:', X_test.shape)"
   ]
  },
  {
   "cell_type": "code",
   "execution_count": 7,
   "metadata": {
    "scrolled": true
   },
   "outputs": [
    {
     "data": {
      "text/plain": [
       "{'passieve': 333,\n",
       " 'lift': 259,\n",
       " 'lopen': 271,\n",
       " 'mogelijk': 292,\n",
       " 'beweegadvies': 102,\n",
       " 'starten': 389,\n",
       " 'stoel': 392,\n",
       " 'unit': 419,\n",
       " '30': 38,\n",
       " '25': 32,\n",
       " 'min': 288,\n",
       " 'doel': 159,\n",
       " 'ft': 180,\n",
       " 'plan': 342,\n",
       " 'bed': 85,\n",
       " 'week': 460,\n",
       " 'respiratoire': 363,\n",
       " 'insufficientie': 232,\n",
       " 'covid': 134,\n",
       " 'voorgeschiedenis': 445,\n",
       " 'medicatie': 279,\n",
       " 'beloop': 96,\n",
       " 'opname': 322,\n",
       " 'overname': 327,\n",
       " 'aldaar': 65,\n",
       " '27': 34,\n",
       " '03': 3,\n",
       " 'opgenomen': 320,\n",
       " 'bekend': 94,\n",
       " 'obesitas': 306,\n",
       " 'hypertensie': 224,\n",
       " 'hypercholesterolemie': 223,\n",
       " 'depressie': 148,\n",
       " 'gecompliceerd': 185,\n",
       " 'hit': 217,\n",
       " 'toename': 407,\n",
       " 'adequaat': 54,\n",
       " 'wv': 470,\n",
       " 'icc': 226,\n",
       " 'herstart': 211,\n",
       " '22': 29,\n",
       " '05': 5,\n",
       " 'verdere': 432,\n",
       " 'afname': 62,\n",
       " 'consolidaties': 129,\n",
       " 'icu': 227,\n",
       " 'dd': 146,\n",
       " '19': 19,\n",
       " 'pneumonie': 344,\n",
       " 'behandeling': 91,\n",
       " 'gedurende': 189,\n",
       " 'dagen': 145,\n",
       " 'waarna': 454,\n",
       " 'langzaam': 255,\n",
       " 'waarbij': 452,\n",
       " 'patient': 334,\n",
       " 'klinisch': 244,\n",
       " 'heel': 207,\n",
       " 'herstel': 212,\n",
       " 'zien': 475,\n",
       " 'verpleegafdeling': 434,\n",
       " 'o2': 305,\n",
       " 'extra': 173,\n",
       " 'pre': 348,\n",
       " 'goede': 204,\n",
       " 'conditie': 128,\n",
       " 'dagelijks': 144,\n",
       " 'pulmonale': 354,\n",
       " 'klachten': 242,\n",
       " 'beademing': 83,\n",
       " 'overleg': 326,\n",
       " 'gezien': 200,\n",
       " 'weken': 464,\n",
       " 'weinig': 463,\n",
       " 'hierop': 216,\n",
       " 'verbetering': 429,\n",
       " 'beleid': 95,\n",
       " 'opnieuw': 323,\n",
       " 'besproken': 100,\n",
       " 'morgen': 293,\n",
       " 'komt': 248,\n",
       " 'dhr': 153,\n",
       " 'tijdens': 405,\n",
       " 'keer': 240,\n",
       " 'hoog': 220,\n",
       " '60': 43,\n",
       " 'jarige': 239,\n",
       " 'man': 275,\n",
       " 'verband': 427,\n",
       " 'sprake': 384,\n",
       " 'behandeldoel': 89,\n",
       " 'waardoor': 453,\n",
       " 'welke': 466,\n",
       " 'zelfstandig': 473,\n",
       " 'klinische': 245,\n",
       " 'arm': 73,\n",
       " 'actieve': 51,\n",
       " 'therapie': 402,\n",
       " 'per': 338,\n",
       " 'erg': 171,\n",
       " 'situatie': 378,\n",
       " '10': 8,\n",
       " 'jaar': 238,\n",
       " 'geleden': 193,\n",
       " 'gestaakt': 197,\n",
       " '23': 30,\n",
       " 'via': 439,\n",
       " 'seh': 375,\n",
       " '24': 31,\n",
       " 'geintubeerd': 192,\n",
       " 'buikligging': 118,\n",
       " 'rug': 367,\n",
       " 'gedraaid': 187,\n",
       " 'hierna': 215,\n",
       " 'stabiel': 386,\n",
       " 'afgebouwd': 60,\n",
       " 'sinds': 377,\n",
       " 'hulp': 222,\n",
       " 'vanaf': 422,\n",
       " 'goed': 203,\n",
       " 'inspanning': 231,\n",
       " 'fors': 178,\n",
       " 'vpk': 448,\n",
       " 'actief': 50,\n",
       " 'zeer': 472,\n",
       " 'wel': 465,\n",
       " 'saturatie': 370,\n",
       " '80': 44,\n",
       " 'obv': 307,\n",
       " 'mri': 294,\n",
       " 'waarschijnlijk': 456,\n",
       " 'intubatie': 235,\n",
       " 'detubatie': 152,\n",
       " 're': 357,\n",
       " 'ivm': 237,\n",
       " 'cmv': 126,\n",
       " 'aspergillus': 76,\n",
       " 'afdeling': 59,\n",
       " 'gestart': 198,\n",
       " '11': 10,\n",
       " 'sonde': 382,\n",
       " 'sociaal': 381,\n",
       " 'vrouw': 449,\n",
       " 'hierbij': 214,\n",
       " 'hoge': 219,\n",
       " 'af': 57,\n",
       " 'graag': 205,\n",
       " 'diabetes': 154,\n",
       " 'mellitus': 282,\n",
       " 'type': 414,\n",
       " 'pijn': 340,\n",
       " 'roken': 364,\n",
       " '15': 14,\n",
       " 'gestopt': 199,\n",
       " '2018': 25,\n",
       " 'amc': 68,\n",
       " 'verdenking': 430,\n",
       " 'bdz': 81,\n",
       " 'intensive': 233,\n",
       " 'care': 119,\n",
       " 'volwassenen': 444,\n",
       " 'pcr': 336,\n",
       " '2019': 26,\n",
       " 'ct': 136,\n",
       " 'bilaterale': 105,\n",
       " 'interstitiele': 234,\n",
       " 'co': 127,\n",
       " 'severity': 376,\n",
       " 'score': 372,\n",
       " '20': 22,\n",
       " 'ab': 47,\n",
       " 'ceftriaxon': 122,\n",
       " '31': 39,\n",
       " '40': 41,\n",
       " 'ging': 201,\n",
       " 'tube': 413,\n",
       " 'cm': 125,\n",
       " 'aki': 64,\n",
       " 'duodenumsonde': 161,\n",
       " 'blijven': 111,\n",
       " 'lage': 254,\n",
       " 'beademingsvoorwaarden': 84,\n",
       " 'voorwaarden': 447,\n",
       " 'volgt': 443,\n",
       " 'gedetubeerd': 186,\n",
       " 'afbouwen': 58,\n",
       " 'stop': 393,\n",
       " 'desaturatie': 150,\n",
       " 'echter': 165,\n",
       " 'onvoldoende': 318,\n",
       " 'effect': 168,\n",
       " 'coronavirus': 133,\n",
       " 'pulmonaal': 353,\n",
       " 'ondersteuning': 311,\n",
       " 'nierfunctie': 301,\n",
       " 'dochter': 158,\n",
       " 'gaat': 183,\n",
       " 'alleen': 67,\n",
       " 'nodig': 304,\n",
       " 'hoesten': 218,\n",
       " 'dyspnoe': 163,\n",
       " 'negatief': 298,\n",
       " 'respiratoir': 362,\n",
       " 'cta': 137,\n",
       " 'ter': 398,\n",
       " 'longembolieen': 268,\n",
       " 'ondanks': 310,\n",
       " '15l': 15,\n",
       " '50': 42,\n",
       " 'ic': 225,\n",
       " '13': 12,\n",
       " 'pressure': 350,\n",
       " 'hersenen': 210,\n",
       " 'bloeding': 113,\n",
       " '14': 13,\n",
       " 'verslechtering': 436,\n",
       " 'drukken': 160,\n",
       " 'fio2': 177,\n",
       " 'kweken': 253,\n",
       " 'daarnaast': 142,\n",
       " 'cvvh': 139,\n",
       " 'dvt': 162,\n",
       " 'rechts': 359,\n",
       " 'start': 388,\n",
       " 'heparine': 208,\n",
       " 'desaturaties': 151,\n",
       " '16': 16,\n",
       " '17': 17,\n",
       " 'meropenem': 283,\n",
       " 'sdd': 373,\n",
       " 'vancomycine': 424,\n",
       " 'continueren': 131,\n",
       " 'oxygenatie': 329,\n",
       " '18': 18,\n",
       " 'status': 390,\n",
       " 'quo': 356,\n",
       " 'waarvoor': 457,\n",
       " 'terug': 399,\n",
       " 'sedatie': 374,\n",
       " '21': 28,\n",
       " 'thorax': 403,\n",
       " 'beiderzijds': 93,\n",
       " 'besloten': 99,\n",
       " 'verhoogd': 433,\n",
       " 'later': 257,\n",
       " 'bal': 80,\n",
       " '04': 4,\n",
       " 'bewustzijn': 104,\n",
       " 'volgens': 442,\n",
       " 'protocol': 352,\n",
       " 'streef': 394,\n",
       " 'positief': 346,\n",
       " 'peep': 337,\n",
       " 'onrustig': 314,\n",
       " '00': 0,\n",
       " 'uur': 421,\n",
       " 'arts': 75,\n",
       " 'mw': 295,\n",
       " 'weer': 461,\n",
       " 'geeft': 190,\n",
       " 'alle': 66,\n",
       " 'contact': 130,\n",
       " 'eerder': 167,\n",
       " 'passief': 332,\n",
       " 'tillift': 406,\n",
       " 'rolstoel': 366,\n",
       " '1x': 21,\n",
       " 'aanwezig': 45,\n",
       " 'linker': 264,\n",
       " 'bedrand': 86,\n",
       " 'ochtend': 308,\n",
       " 'dag': 143,\n",
       " 'familie': 176,\n",
       " 'blij': 109,\n",
       " 'thuismedicatie': 404,\n",
       " '2020': 27,\n",
       " 'ziekenhuis': 474,\n",
       " '26': 33,\n",
       " 'beademd': 82,\n",
       " 'liet': 258,\n",
       " 'atriumfibrilleren': 78,\n",
       " 'tevens': 400,\n",
       " 'acute': 52,\n",
       " 'nierinsufficientie': 302,\n",
       " 'eigen': 169,\n",
       " 'behandeld': 88,\n",
       " 'chloroquine': 124,\n",
       " 'nacht': 296,\n",
       " 'overgeplaatst': 325,\n",
       " 'vumc': 450,\n",
       " 'gesedeerd': 196,\n",
       " 'ontwateren': 316,\n",
       " 'metoprolol': 284,\n",
       " 'koorts': 250,\n",
       " 'lijn': 262,\n",
       " 'uitgebreide': 417,\n",
       " 'afwijkingen': 63,\n",
       " 'verricht': 435,\n",
       " 'groei': 206,\n",
       " 'werden': 467,\n",
       " 'konden': 249,\n",
       " 'bleef': 107,\n",
       " 'rugligging': 368,\n",
       " 'support': 397,\n",
       " 'daags': 140,\n",
       " 'hervat': 213,\n",
       " '12': 11,\n",
       " 'verbeterde': 428,\n",
       " 'volgende': 441,\n",
       " 'neurologisch': 300,\n",
       " 'geduid': 188,\n",
       " 'overplaatsing': 328,\n",
       " 'argatroban': 72,\n",
       " 'wegens': 462,\n",
       " '29': 36,\n",
       " 'vanwege': 426,\n",
       " 'ontslag': 315,\n",
       " 'behoefte': 92,\n",
       " 'aanwijzingen': 46,\n",
       " 'echo': 164,\n",
       " 'mobiliseren': 291,\n",
       " 'vg': 438,\n",
       " 'bloed': 112,\n",
       " 'controle': 132,\n",
       " 'uitbreiden': 415,\n",
       " 'bouwen': 116,\n",
       " 'gehad': 191,\n",
       " 'indien': 228,\n",
       " 'komen': 247,\n",
       " 'loopt': 270,\n",
       " 'toenemend': 408,\n",
       " 'sputum': 385,\n",
       " '2015': 23,\n",
       " 'cataract': 120,\n",
       " 'wisselend': 469,\n",
       " 'therapeutische': 401,\n",
       " 'antistolling': 70,\n",
       " 'bleek': 108,\n",
       " 'waarop': 455,\n",
       " 'middels': 287,\n",
       " 'onderzoek': 312,\n",
       " 'steeds': 391,\n",
       " '28': 35,\n",
       " 'furosemide': 181,\n",
       " 'verder': 431,\n",
       " 'tracheostoma': 411,\n",
       " 'geplaatst': 195,\n",
       " 'rectaal': 360,\n",
       " 'bloedverlies': 115,\n",
       " 'abdomen': 48,\n",
       " 'beeld': 87,\n",
       " 'meest': 280,\n",
       " 'passend': 331,\n",
       " 'uitzuigen': 418,\n",
       " 'trach': 410,\n",
       " 'herhaald': 209,\n",
       " 'prednison': 349,\n",
       " 'positieve': 347,\n",
       " 'snel': 380,\n",
       " 'mg': 285,\n",
       " 'mei': 281,\n",
       " 'arterielijn': 74,\n",
       " 'toonde': 409,\n",
       " 'nieuwe': 303,\n",
       " 'delier': 147,\n",
       " 'achteruitgang': 49,\n",
       " 'reintubatie': 361,\n",
       " 'matglasafwijkingen': 276,\n",
       " 'oplopende': 321,\n",
       " 'waar': 451,\n",
       " 'lijkt': 261,\n",
       " 'longbeeld': 267,\n",
       " 'kleine': 243,\n",
       " 'lijnwissel': 263,\n",
       " 'derhalve': 149,\n",
       " 'slechte': 379,\n",
       " 'wakker': 458,\n",
       " '01': 1,\n",
       " 'pancreatitis': 330,\n",
       " 'maandag': 272,\n",
       " 'daarna': 141,\n",
       " '3x': 40,\n",
       " 'plaatsing': 341,\n",
       " 'infectie': 230,\n",
       " 'virale': 440,\n",
       " 'buik': 117,\n",
       " 'matig': 277,\n",
       " 'negatieve': 299,\n",
       " 'afgenomen': 61,\n",
       " 'rechter': 358,\n",
       " 'forse': 179,\n",
       " 'echtgenote': 166,\n",
       " 'adl': 55,\n",
       " 'bewezen': 103,\n",
       " 'scan': 371,\n",
       " 'longen': 269,\n",
       " 'astma': 77,\n",
       " '07': 6,\n",
       " '08': 7,\n",
       " 'diamox': 156,\n",
       " 'blijft': 110,\n",
       " 'onrust': 313,\n",
       " '2x': 37,\n",
       " 'voorkomen': 446,\n",
       " 'advies': 56,\n",
       " 'beter': 101,\n",
       " 'rollator': 365,\n",
       " 'fac': 174,\n",
       " 'benen': 97,\n",
       " 'transfer': 412,\n",
       " '02': 2,\n",
       " 'olvg': 309,\n",
       " 'enkele': 170,\n",
       " 'ligt': 260,\n",
       " 'liter': 266,\n",
       " 'kracht': 251,\n",
       " 'weanen': 459,\n",
       " 'optimaliseren': 324,\n",
       " 'problemen': 351,\n",
       " 'gemaakt': 194,\n",
       " 'zoon': 478,\n",
       " 'gebeld': 184,\n",
       " 'diagnostiek': 155,\n",
       " 'huisarts': 221,\n",
       " 'cvl': 138,\n",
       " 'gaan': 182,\n",
       " 'streven': 395,\n",
       " 'vandaag': 425,\n",
       " 'nb': 297,\n",
       " 'zitten': 477,\n",
       " 'angst': 69,\n",
       " '2016': 24,\n",
       " 'poging': 345,\n",
       " '1dd': 20,\n",
       " 'maart': 273,\n",
       " 'april': 71,\n",
       " 'behandelen': 90,\n",
       " 'persisterende': 339,\n",
       " 'bk': 106,\n",
       " 'faecium': 175,\n",
       " 'gisteren': 202,\n",
       " 'bloedkweek': 114,\n",
       " 'onveranderd': 317,\n",
       " 'uitgebreid': 416,\n",
       " 'sars': 369,\n",
       " 'esbl': 172,\n",
       " 'subfebriel': 396,\n",
       " 'vanco': 423,\n",
       " 'patiente': 335,\n",
       " 'kno': 246,\n",
       " 'links': 265,\n",
       " 'iv': 236,\n",
       " 'laten': 256,\n",
       " 'staken': 387,\n",
       " 'mdo': 278,\n",
       " 'ureum': 420,\n",
       " 'wissel': 468,\n",
       " 'maken': 274,\n",
       " 'zit': 476,\n",
       " 'verwijderd': 437,\n",
       " 'chirurgische': 123,\n",
       " 'dienst': 157,\n",
       " 'midazolam': 286,\n",
       " 'ad': 53,\n",
       " 'quetiapine': 355,\n",
       " 'zat': 471,\n",
       " 'crp': 135,\n",
       " 'infarct': 229,\n",
       " 'beoordeling': 98,\n",
       " 'opgehoogd': 319,\n",
       " 'cefta': 121,\n",
       " 'augmentin': 79,\n",
       " 'pleuravocht': 343,\n",
       " 'mmol': 290,\n",
       " 'ml': 289,\n",
       " 'sondevoeding': 383,\n",
       " 'kg': 241,\n",
       " 'kreat': 252,\n",
       " '10e9': 9}"
      ]
     },
     "execution_count": 7,
     "metadata": {},
     "output_type": "execute_result"
    }
   ],
   "source": [
    "train_vocab = vectorizer.vocabulary_\n",
    "train_vocab"
   ]
  },
  {
   "cell_type": "code",
   "execution_count": 8,
   "metadata": {},
   "outputs": [
    {
     "data": {
      "text/plain": [
       "((14718, 219), (17365, 219))"
      ]
     },
     "execution_count": 8,
     "metadata": {},
     "output_type": "execute_result"
    }
   ],
   "source": [
    "from sklearn.decomposition import PCA\n",
    "\n",
    "pca = PCA(n_components=0.80)\n",
    "pca = pca.fit(X_train.toarray())\n",
    "_X_train = pca.transform(X_train.toarray())\n",
    "_X_test = pca.transform(X_test.toarray())\n",
    "_X_train.shape, _X_test.shape"
   ]
  },
  {
   "cell_type": "code",
   "execution_count": 9,
   "metadata": {},
   "outputs": [
    {
     "data": {
      "text/plain": [
       "type\\_Background                                             1890\n",
       "target                                                        782\n",
       "info\\_Third party                                              68\n",
       "STM 1 | .B152: Stemming                                        19\n",
       ".D450: Lopen en zich verplaatsen                               16\n",
       "STM 0 | .B152: Stemming                                        10\n",
       "type\\_Implicit | .D450: Lopen en zich verplaatsen | FAC 0      10\n",
       ".B455: Inspanningstolerantie | INS 1                            9\n",
       ".B455: Inspanningstolerantie | INS 0                            8\n",
       "lop\\_hulpmiddel                                                 7\n",
       "Name: annotations, dtype: int64"
      ]
     },
     "execution_count": 9,
     "metadata": {},
     "output_type": "execute_result"
    }
   ],
   "source": [
    "df_test.annotations.value_counts().head(10)"
   ]
  },
  {
   "cell_type": "code",
   "execution_count": 10,
   "metadata": {},
   "outputs": [],
   "source": [
    "DOMAINS = ['STM', 'INS', 'BER', 'FAC']\n",
    "\n",
    "def indicate_domain(s, d):\n",
    "    assert d in DOMAINS\n",
    "    if not isinstance(s, str):\n",
    "        return 0\n",
    "    if d in s:\n",
    "        return 1\n",
    "    return 0\n",
    "\n",
    "def find_level(s, d):\n",
    "    assert d in DOMAINS\n",
    "    if not isinstance(s, str):\n",
    "        return np.nan\n",
    "    if d in s:\n",
    "        pos = s.find(d)\n",
    "        lev = int(s[pos+3:pos+5])\n",
    "        return lev\n",
    "    return np.nan"
   ]
  },
  {
   "cell_type": "code",
   "execution_count": null,
   "metadata": {},
   "outputs": [],
   "source": [
    "for df in [df_train, df_test]:\n",
    "    df['domain'] = np.nan\n",
    "    for d in DOMAINS:\n",
    "        df[f\"ind_{d}\"] = df['annotations'].apply(indicate_domain, d=d)\n",
    "        df[d] = df['annotations'].apply(find_level, d=d)\n",
    "        df.loc[~df[d].isna(), 'domain'] = d\n",
    "\n",
    "df_train.sample(5)"
   ]
  },
  {
   "cell_type": "code",
   "execution_count": 12,
   "metadata": {},
   "outputs": [
    {
     "data": {
      "text/plain": [
       "NaN    13924\n",
       "STM      360\n",
       "FAC      244\n",
       "INS      189\n",
       "BER        1\n",
       "Name: domain, dtype: int64"
      ]
     },
     "execution_count": 12,
     "metadata": {},
     "output_type": "execute_result"
    }
   ],
   "source": [
    "df_train.domain.value_counts(dropna=False)"
   ]
  },
  {
   "cell_type": "code",
   "execution_count": 13,
   "metadata": {},
   "outputs": [
    {
     "data": {
      "text/plain": [
       "Text(0.5, 1.0, 'Domain class on Covid train data')"
      ]
     },
     "execution_count": 13,
     "metadata": {},
     "output_type": "execute_result"
    },
    {
     "data": {
      "image/png": "[encoded data removed]",
      "text/plain": [
       "<Figure size 432x288 with 1 Axes>"
      ]
     },
     "metadata": {
      "image/png": {
       "height": 262,
       "width": 374
      }
     },
     "output_type": "display_data"
    }
   ],
   "source": [
    "df_train.domain.sort_values().hist()\n",
    "plt.title('Domain class on Covid train data')"
   ]
  },
  {
   "cell_type": "code",
   "execution_count": 14,
   "metadata": {},
   "outputs": [
    {
     "data": {
      "text/plain": [
       "Text(0.5, 1.0, 'Domain class on Covid test data')"
      ]
     },
     "execution_count": 14,
     "metadata": {},
     "output_type": "execute_result"
    },
    {
     "data": {
      "image/png": "[encoded data removed]",
      "text/plain": [
       "<Figure size 432x288 with 1 Axes>"
      ]
     },
     "metadata": {
      "image/png": {
       "height": 262,
       "width": 368
      }
     },
     "output_type": "display_data"
    }
   ],
   "source": [
    "df_test.domain.sort_values().hist()\n",
    "plt.title('Domain class on Covid test data')"
   ]
  },
  {
   "cell_type": "code",
   "execution_count": 15,
   "metadata": {},
   "outputs": [
    {
     "data": {
      "text/plain": [
       "NaN    17177\n",
       "STM       91\n",
       "FAC       54\n",
       "INS       41\n",
       "BER        2\n",
       "Name: domain, dtype: int64"
      ]
     },
     "execution_count": 15,
     "metadata": {},
     "output_type": "execute_result"
    }
   ],
   "source": [
    "df_test.domain.value_counts(dropna=False)"
   ]
  },
  {
   "cell_type": "code",
   "execution_count": 16,
   "metadata": {},
   "outputs": [
    {
     "data": {
      "text/plain": [
       "1    776\n",
       "2     18\n",
       "dtype: int64"
      ]
     },
     "execution_count": 16,
     "metadata": {},
     "output_type": "execute_result"
    }
   ],
   "source": [
    "# Count how often domain collision occurs\n",
    "df_train[~df_train.domain.isna()][['ind_STM', 'ind_INS', 'ind_BER', 'ind_FAC']].sum(axis=1).value_counts()"
   ]
  },
  {
   "cell_type": "code",
   "execution_count": 17,
   "metadata": {},
   "outputs": [
    {
     "data": {
      "text/plain": [
       "1    185\n",
       "2      3\n",
       "dtype: int64"
      ]
     },
     "execution_count": 17,
     "metadata": {},
     "output_type": "execute_result"
    }
   ],
   "source": [
    "# Count how often domain collision occurs\n",
    "df_test[~df_test.domain.isna()][['ind_STM', 'ind_INS', 'ind_BER', 'ind_FAC']].sum(axis=1).value_counts()"
   ]
  },
  {
   "cell_type": "code",
   "execution_count": null,
   "metadata": {
    "scrolled": true
   },
   "outputs": [],
   "source": [
    "# What are the domain collisions?\n",
    "df_train[df_train[['ind_STM', 'ind_INS', 'ind_BER', 'ind_FAC']].sum(axis=1) > 1]"
   ]
  },
  {
   "cell_type": "code",
   "execution_count": 19,
   "metadata": {},
   "outputs": [
    {
     "data": {
      "image/png": "[encoded data removed]",
      "text/plain": [
       "<Figure size 432x288 with 4 Axes>"
      ]
     },
     "metadata": {
      "image/png": {
       "height": 286,
       "width": 422
      }
     },
     "output_type": "display_data"
    }
   ],
   "source": [
    "df_train[DOMAINS].hist()\n",
    "plt.suptitle(\"Annotated levels in Covid train data\")\n",
    "plt.tight_layout()\n",
    "plt.show()"
   ]
  },
  {
   "cell_type": "code",
   "execution_count": 20,
   "metadata": {},
   "outputs": [
    {
     "data": {
      "image/png": "[encoded data removed]",
      "text/plain": [
       "<Figure size 432x288 with 4 Axes>"
      ]
     },
     "metadata": {
      "image/png": {
       "height": 286,
       "width": 422
      }
     },
     "output_type": "display_data"
    }
   ],
   "source": [
    "df_test[DOMAINS].hist()\n",
    "plt.suptitle(\"Annotated levels in Covid test data\")\n",
    "plt.tight_layout()\n",
    "plt.show()"
   ]
  },
  {
   "cell_type": "code",
   "execution_count": 21,
   "metadata": {},
   "outputs": [
    {
     "name": "stdout",
     "output_type": "stream",
     "text": [
      "Model: <class 'sklearn.linear_model._logistic.LogisticRegression'>\tPCA: True\n",
      "Model: <class 'sklearn.linear_model._logistic.LogisticRegression'>\tPCA: False\n",
      "Model: <class 'sklearn.ensemble._forest.RandomForestClassifier'>\tPCA: True\n",
      "Model: <class 'sklearn.ensemble._forest.RandomForestClassifier'>\tPCA: False\n"
     ]
    },
    {
     "data": {
      "text/html": [
       "<div>\n",
       "<style scoped>\n",
       "    .dataframe tbody tr th:only-of-type {\n",
       "        vertical-align: middle;\n",
       "    }\n",
       "\n",
       "    .dataframe tbody tr th {\n",
       "        vertical-align: top;\n",
       "    }\n",
       "\n",
       "    .dataframe thead th {\n",
       "        text-align: right;\n",
       "    }\n",
       "</style>\n",
       "<table border=\"1\" class=\"dataframe\">\n",
       "  <thead>\n",
       "    <tr style=\"text-align: right;\">\n",
       "      <th></th>\n",
       "      <th>model</th>\n",
       "      <th>pca</th>\n",
       "      <th>class</th>\n",
       "      <th>precision</th>\n",
       "      <th>recall</th>\n",
       "      <th>f1</th>\n",
       "    </tr>\n",
       "  </thead>\n",
       "  <tbody>\n",
       "    <tr>\n",
       "      <th>0</th>\n",
       "      <td>LogisticRegression</td>\n",
       "      <td>True</td>\n",
       "      <td>BER</td>\n",
       "      <td>0.000000</td>\n",
       "      <td>0.000000</td>\n",
       "      <td>0.000000</td>\n",
       "    </tr>\n",
       "    <tr>\n",
       "      <th>1</th>\n",
       "      <td>LogisticRegression</td>\n",
       "      <td>True</td>\n",
       "      <td>FAC</td>\n",
       "      <td>0.461538</td>\n",
       "      <td>0.222222</td>\n",
       "      <td>0.300000</td>\n",
       "    </tr>\n",
       "    <tr>\n",
       "      <th>2</th>\n",
       "      <td>LogisticRegression</td>\n",
       "      <td>True</td>\n",
       "      <td>INS</td>\n",
       "      <td>0.276596</td>\n",
       "      <td>0.317073</td>\n",
       "      <td>0.295455</td>\n",
       "    </tr>\n",
       "    <tr>\n",
       "      <th>3</th>\n",
       "      <td>LogisticRegression</td>\n",
       "      <td>True</td>\n",
       "      <td>STM</td>\n",
       "      <td>0.161290</td>\n",
       "      <td>0.219780</td>\n",
       "      <td>0.186047</td>\n",
       "    </tr>\n",
       "    <tr>\n",
       "      <th>4</th>\n",
       "      <td>LogisticRegression</td>\n",
       "      <td>True</td>\n",
       "      <td>none</td>\n",
       "      <td>0.992078</td>\n",
       "      <td>0.991558</td>\n",
       "      <td>0.991818</td>\n",
       "    </tr>\n",
       "    <tr>\n",
       "      <th>5</th>\n",
       "      <td>LogisticRegression</td>\n",
       "      <td>False</td>\n",
       "      <td>BER</td>\n",
       "      <td>0.000000</td>\n",
       "      <td>0.000000</td>\n",
       "      <td>0.000000</td>\n",
       "    </tr>\n",
       "    <tr>\n",
       "      <th>6</th>\n",
       "      <td>LogisticRegression</td>\n",
       "      <td>False</td>\n",
       "      <td>FAC</td>\n",
       "      <td>0.216867</td>\n",
       "      <td>0.333333</td>\n",
       "      <td>0.262774</td>\n",
       "    </tr>\n",
       "    <tr>\n",
       "      <th>7</th>\n",
       "      <td>LogisticRegression</td>\n",
       "      <td>False</td>\n",
       "      <td>INS</td>\n",
       "      <td>0.274510</td>\n",
       "      <td>0.341463</td>\n",
       "      <td>0.304348</td>\n",
       "    </tr>\n",
       "    <tr>\n",
       "      <th>8</th>\n",
       "      <td>LogisticRegression</td>\n",
       "      <td>False</td>\n",
       "      <td>STM</td>\n",
       "      <td>0.189873</td>\n",
       "      <td>0.329670</td>\n",
       "      <td>0.240964</td>\n",
       "    </tr>\n",
       "    <tr>\n",
       "      <th>9</th>\n",
       "      <td>LogisticRegression</td>\n",
       "      <td>False</td>\n",
       "      <td>none</td>\n",
       "      <td>0.992913</td>\n",
       "      <td>0.986901</td>\n",
       "      <td>0.989898</td>\n",
       "    </tr>\n",
       "    <tr>\n",
       "      <th>10</th>\n",
       "      <td>RandomForestClassifier</td>\n",
       "      <td>True</td>\n",
       "      <td>BER</td>\n",
       "      <td>0.000000</td>\n",
       "      <td>0.000000</td>\n",
       "      <td>0.000000</td>\n",
       "    </tr>\n",
       "    <tr>\n",
       "      <th>11</th>\n",
       "      <td>RandomForestClassifier</td>\n",
       "      <td>True</td>\n",
       "      <td>FAC</td>\n",
       "      <td>0.172414</td>\n",
       "      <td>0.277778</td>\n",
       "      <td>0.212766</td>\n",
       "    </tr>\n",
       "    <tr>\n",
       "      <th>12</th>\n",
       "      <td>RandomForestClassifier</td>\n",
       "      <td>True</td>\n",
       "      <td>INS</td>\n",
       "      <td>0.136364</td>\n",
       "      <td>0.146341</td>\n",
       "      <td>0.141176</td>\n",
       "    </tr>\n",
       "    <tr>\n",
       "      <th>13</th>\n",
       "      <td>RandomForestClassifier</td>\n",
       "      <td>True</td>\n",
       "      <td>STM</td>\n",
       "      <td>0.102041</td>\n",
       "      <td>0.164835</td>\n",
       "      <td>0.126050</td>\n",
       "    </tr>\n",
       "    <tr>\n",
       "      <th>14</th>\n",
       "      <td>RandomForestClassifier</td>\n",
       "      <td>True</td>\n",
       "      <td>none</td>\n",
       "      <td>0.991455</td>\n",
       "      <td>0.986261</td>\n",
       "      <td>0.988851</td>\n",
       "    </tr>\n",
       "    <tr>\n",
       "      <th>15</th>\n",
       "      <td>RandomForestClassifier</td>\n",
       "      <td>False</td>\n",
       "      <td>BER</td>\n",
       "      <td>0.000000</td>\n",
       "      <td>0.000000</td>\n",
       "      <td>0.000000</td>\n",
       "    </tr>\n",
       "    <tr>\n",
       "      <th>16</th>\n",
       "      <td>RandomForestClassifier</td>\n",
       "      <td>False</td>\n",
       "      <td>FAC</td>\n",
       "      <td>0.141414</td>\n",
       "      <td>0.518519</td>\n",
       "      <td>0.222222</td>\n",
       "    </tr>\n",
       "    <tr>\n",
       "      <th>17</th>\n",
       "      <td>RandomForestClassifier</td>\n",
       "      <td>False</td>\n",
       "      <td>INS</td>\n",
       "      <td>0.164948</td>\n",
       "      <td>0.390244</td>\n",
       "      <td>0.231884</td>\n",
       "    </tr>\n",
       "    <tr>\n",
       "      <th>18</th>\n",
       "      <td>RandomForestClassifier</td>\n",
       "      <td>False</td>\n",
       "      <td>STM</td>\n",
       "      <td>0.109272</td>\n",
       "      <td>0.362637</td>\n",
       "      <td>0.167939</td>\n",
       "    </tr>\n",
       "    <tr>\n",
       "      <th>19</th>\n",
       "      <td>RandomForestClassifier</td>\n",
       "      <td>False</td>\n",
       "      <td>none</td>\n",
       "      <td>0.993857</td>\n",
       "      <td>0.970193</td>\n",
       "      <td>0.981882</td>\n",
       "    </tr>\n",
       "  </tbody>\n",
       "</table>\n",
       "</div>"
      ],
      "text/plain": [
       "                     model    pca class  precision    recall        f1\n",
       "0       LogisticRegression   True   BER   0.000000  0.000000  0.000000\n",
       "1       LogisticRegression   True   FAC   0.461538  0.222222  0.300000\n",
       "2       LogisticRegression   True   INS   0.276596  0.317073  0.295455\n",
       "3       LogisticRegression   True   STM   0.161290  0.219780  0.186047\n",
       "4       LogisticRegression   True  none   0.992078  0.991558  0.991818\n",
       "5       LogisticRegression  False   BER   0.000000  0.000000  0.000000\n",
       "6       LogisticRegression  False   FAC   0.216867  0.333333  0.262774\n",
       "7       LogisticRegression  False   INS   0.274510  0.341463  0.304348\n",
       "8       LogisticRegression  False   STM   0.189873  0.329670  0.240964\n",
       "9       LogisticRegression  False  none   0.992913  0.986901  0.989898\n",
       "10  RandomForestClassifier   True   BER   0.000000  0.000000  0.000000\n",
       "11  RandomForestClassifier   True   FAC   0.172414  0.277778  0.212766\n",
       "12  RandomForestClassifier   True   INS   0.136364  0.146341  0.141176\n",
       "13  RandomForestClassifier   True   STM   0.102041  0.164835  0.126050\n",
       "14  RandomForestClassifier   True  none   0.991455  0.986261  0.988851\n",
       "15  RandomForestClassifier  False   BER   0.000000  0.000000  0.000000\n",
       "16  RandomForestClassifier  False   FAC   0.141414  0.518519  0.222222\n",
       "17  RandomForestClassifier  False   INS   0.164948  0.390244  0.231884\n",
       "18  RandomForestClassifier  False   STM   0.109272  0.362637  0.167939\n",
       "19  RandomForestClassifier  False  none   0.993857  0.970193  0.981882"
      ]
     },
     "execution_count": 21,
     "metadata": {},
     "output_type": "execute_result"
    }
   ],
   "source": [
    "from collections import defaultdict\n",
    "\n",
    "from sklearn.ensemble import RandomForestClassifier\n",
    "from sklearn.linear_model import LogisticRegression\n",
    "from sklearn.metrics import accuracy_score\n",
    "from sklearn.metrics import precision_recall_fscore_support as prfs\n",
    "from sklearn.svm import SVC\n",
    "\n",
    "results = defaultdict(list)\n",
    "\n",
    "for target in ['domain']:\n",
    "    y_train = df_train[target].fillna('none').values\n",
    "    y_test = df_test[target].fillna('none').values\n",
    "    for model in [LogisticRegression, RandomForestClassifier]:\n",
    "        for pca_flag in [True, False]:\n",
    "            print(f\"Model: {model}\\tPCA: {pca_flag}\")\n",
    "            \n",
    "            traindata = _X_train if pca_flag else X_train\n",
    "            testdata = _X_test if pca_flag else X_test\n",
    "            mod = model().fit(traindata, y_train)\n",
    "            preds = mod.predict(testdata)\n",
    "            acc = accuracy_score(y_test, preds)\n",
    "            prec, rec, f1, sup = prfs(y_test, preds, zero_division=0)\n",
    "            \n",
    "            mod_name = type(mod).__name__\n",
    "            results['model'].extend([mod_name]*5)\n",
    "            results['pca'].extend([pca_flag]*5)\n",
    "            results['class'].extend(mod.classes_)\n",
    "            results['precision'].extend(prec)\n",
    "            results['recall'].extend(rec)\n",
    "            results['f1'].extend(f1)    \n",
    "\n",
    "df_results = pd.DataFrame(results)\n",
    "df_results"
   ]
  },
  {
   "cell_type": "code",
   "execution_count": 22,
   "metadata": {},
   "outputs": [
    {
     "data": {
      "text/html": [
       "<div>\n",
       "<style scoped>\n",
       "    .dataframe tbody tr th:only-of-type {\n",
       "        vertical-align: middle;\n",
       "    }\n",
       "\n",
       "    .dataframe tbody tr th {\n",
       "        vertical-align: top;\n",
       "    }\n",
       "\n",
       "    .dataframe thead th {\n",
       "        text-align: right;\n",
       "    }\n",
       "</style>\n",
       "<table border=\"1\" class=\"dataframe\">\n",
       "  <thead>\n",
       "    <tr style=\"text-align: right;\">\n",
       "      <th></th>\n",
       "      <th></th>\n",
       "      <th>class</th>\n",
       "      <th>precision</th>\n",
       "      <th>recall</th>\n",
       "      <th>f1</th>\n",
       "    </tr>\n",
       "    <tr>\n",
       "      <th>model</th>\n",
       "      <th>pca</th>\n",
       "      <th></th>\n",
       "      <th></th>\n",
       "      <th></th>\n",
       "      <th></th>\n",
       "    </tr>\n",
       "  </thead>\n",
       "  <tbody>\n",
       "    <tr>\n",
       "      <th rowspan=\"5\" valign=\"top\">LogisticRegression</th>\n",
       "      <th>True</th>\n",
       "      <td>BER</td>\n",
       "      <td>0.0000</td>\n",
       "      <td>0.0000</td>\n",
       "      <td>0.0000</td>\n",
       "    </tr>\n",
       "    <tr>\n",
       "      <th>True</th>\n",
       "      <td>FAC</td>\n",
       "      <td>0.4615</td>\n",
       "      <td>0.2222</td>\n",
       "      <td>0.3000</td>\n",
       "    </tr>\n",
       "    <tr>\n",
       "      <th>True</th>\n",
       "      <td>INS</td>\n",
       "      <td>0.2766</td>\n",
       "      <td>0.3171</td>\n",
       "      <td>0.2955</td>\n",
       "    </tr>\n",
       "    <tr>\n",
       "      <th>True</th>\n",
       "      <td>STM</td>\n",
       "      <td>0.1613</td>\n",
       "      <td>0.2198</td>\n",
       "      <td>0.1860</td>\n",
       "    </tr>\n",
       "    <tr>\n",
       "      <th>True</th>\n",
       "      <td>none</td>\n",
       "      <td>0.9921</td>\n",
       "      <td>0.9916</td>\n",
       "      <td>0.9918</td>\n",
       "    </tr>\n",
       "    <tr>\n",
       "      <th rowspan=\"5\" valign=\"top\">RandomForestClassifier</th>\n",
       "      <th>True</th>\n",
       "      <td>BER</td>\n",
       "      <td>0.0000</td>\n",
       "      <td>0.0000</td>\n",
       "      <td>0.0000</td>\n",
       "    </tr>\n",
       "    <tr>\n",
       "      <th>True</th>\n",
       "      <td>FAC</td>\n",
       "      <td>0.1724</td>\n",
       "      <td>0.2778</td>\n",
       "      <td>0.2128</td>\n",
       "    </tr>\n",
       "    <tr>\n",
       "      <th>True</th>\n",
       "      <td>INS</td>\n",
       "      <td>0.1364</td>\n",
       "      <td>0.1463</td>\n",
       "      <td>0.1412</td>\n",
       "    </tr>\n",
       "    <tr>\n",
       "      <th>True</th>\n",
       "      <td>STM</td>\n",
       "      <td>0.1020</td>\n",
       "      <td>0.1648</td>\n",
       "      <td>0.1261</td>\n",
       "    </tr>\n",
       "    <tr>\n",
       "      <th>True</th>\n",
       "      <td>none</td>\n",
       "      <td>0.9915</td>\n",
       "      <td>0.9863</td>\n",
       "      <td>0.9889</td>\n",
       "    </tr>\n",
       "  </tbody>\n",
       "</table>\n",
       "</div>"
      ],
      "text/plain": [
       "                            class  precision  recall      f1\n",
       "model                  pca                                  \n",
       "LogisticRegression     True   BER     0.0000  0.0000  0.0000\n",
       "                       True   FAC     0.4615  0.2222  0.3000\n",
       "                       True   INS     0.2766  0.3171  0.2955\n",
       "                       True   STM     0.1613  0.2198  0.1860\n",
       "                       True  none     0.9921  0.9916  0.9918\n",
       "RandomForestClassifier True   BER     0.0000  0.0000  0.0000\n",
       "                       True   FAC     0.1724  0.2778  0.2128\n",
       "                       True   INS     0.1364  0.1463  0.1412\n",
       "                       True   STM     0.1020  0.1648  0.1261\n",
       "                       True  none     0.9915  0.9863  0.9889"
      ]
     },
     "execution_count": 22,
     "metadata": {},
     "output_type": "execute_result"
    }
   ],
   "source": [
    "df_results[df_results.pca==True].set_index(['model', 'pca']).round(4)"
   ]
  },
  {
   "cell_type": "code",
   "execution_count": 23,
   "metadata": {},
   "outputs": [
    {
     "data": {
      "text/html": [
       "<div>\n",
       "<style scoped>\n",
       "    .dataframe tbody tr th:only-of-type {\n",
       "        vertical-align: middle;\n",
       "    }\n",
       "\n",
       "    .dataframe tbody tr th {\n",
       "        vertical-align: top;\n",
       "    }\n",
       "\n",
       "    .dataframe thead th {\n",
       "        text-align: right;\n",
       "    }\n",
       "</style>\n",
       "<table border=\"1\" class=\"dataframe\">\n",
       "  <thead>\n",
       "    <tr style=\"text-align: right;\">\n",
       "      <th></th>\n",
       "      <th></th>\n",
       "      <th>class</th>\n",
       "      <th>precision</th>\n",
       "      <th>recall</th>\n",
       "      <th>f1</th>\n",
       "    </tr>\n",
       "    <tr>\n",
       "      <th>model</th>\n",
       "      <th>pca</th>\n",
       "      <th></th>\n",
       "      <th></th>\n",
       "      <th></th>\n",
       "      <th></th>\n",
       "    </tr>\n",
       "  </thead>\n",
       "  <tbody>\n",
       "    <tr>\n",
       "      <th rowspan=\"5\" valign=\"top\">LogisticRegression</th>\n",
       "      <th>False</th>\n",
       "      <td>BER</td>\n",
       "      <td>0.0000</td>\n",
       "      <td>0.0000</td>\n",
       "      <td>0.0000</td>\n",
       "    </tr>\n",
       "    <tr>\n",
       "      <th>False</th>\n",
       "      <td>FAC</td>\n",
       "      <td>0.2169</td>\n",
       "      <td>0.3333</td>\n",
       "      <td>0.2628</td>\n",
       "    </tr>\n",
       "    <tr>\n",
       "      <th>False</th>\n",
       "      <td>INS</td>\n",
       "      <td>0.2745</td>\n",
       "      <td>0.3415</td>\n",
       "      <td>0.3043</td>\n",
       "    </tr>\n",
       "    <tr>\n",
       "      <th>False</th>\n",
       "      <td>STM</td>\n",
       "      <td>0.1899</td>\n",
       "      <td>0.3297</td>\n",
       "      <td>0.2410</td>\n",
       "    </tr>\n",
       "    <tr>\n",
       "      <th>False</th>\n",
       "      <td>none</td>\n",
       "      <td>0.9929</td>\n",
       "      <td>0.9869</td>\n",
       "      <td>0.9899</td>\n",
       "    </tr>\n",
       "    <tr>\n",
       "      <th rowspan=\"5\" valign=\"top\">RandomForestClassifier</th>\n",
       "      <th>False</th>\n",
       "      <td>BER</td>\n",
       "      <td>0.0000</td>\n",
       "      <td>0.0000</td>\n",
       "      <td>0.0000</td>\n",
       "    </tr>\n",
       "    <tr>\n",
       "      <th>False</th>\n",
       "      <td>FAC</td>\n",
       "      <td>0.1414</td>\n",
       "      <td>0.5185</td>\n",
       "      <td>0.2222</td>\n",
       "    </tr>\n",
       "    <tr>\n",
       "      <th>False</th>\n",
       "      <td>INS</td>\n",
       "      <td>0.1649</td>\n",
       "      <td>0.3902</td>\n",
       "      <td>0.2319</td>\n",
       "    </tr>\n",
       "    <tr>\n",
       "      <th>False</th>\n",
       "      <td>STM</td>\n",
       "      <td>0.1093</td>\n",
       "      <td>0.3626</td>\n",
       "      <td>0.1679</td>\n",
       "    </tr>\n",
       "    <tr>\n",
       "      <th>False</th>\n",
       "      <td>none</td>\n",
       "      <td>0.9939</td>\n",
       "      <td>0.9702</td>\n",
       "      <td>0.9819</td>\n",
       "    </tr>\n",
       "  </tbody>\n",
       "</table>\n",
       "</div>"
      ],
      "text/plain": [
       "                             class  precision  recall      f1\n",
       "model                  pca                                   \n",
       "LogisticRegression     False   BER     0.0000  0.0000  0.0000\n",
       "                       False   FAC     0.2169  0.3333  0.2628\n",
       "                       False   INS     0.2745  0.3415  0.3043\n",
       "                       False   STM     0.1899  0.3297  0.2410\n",
       "                       False  none     0.9929  0.9869  0.9899\n",
       "RandomForestClassifier False   BER     0.0000  0.0000  0.0000\n",
       "                       False   FAC     0.1414  0.5185  0.2222\n",
       "                       False   INS     0.1649  0.3902  0.2319\n",
       "                       False   STM     0.1093  0.3626  0.1679\n",
       "                       False  none     0.9939  0.9702  0.9819"
      ]
     },
     "execution_count": 23,
     "metadata": {},
     "output_type": "execute_result"
    }
   ],
   "source": [
    "df_results[df_results.pca==False].set_index(['model', 'pca']).round(4)"
   ]
  },
  {
   "cell_type": "code",
   "execution_count": 24,
   "metadata": {},
   "outputs": [
    {
     "name": "stdout",
     "output_type": "stream",
     "text": [
      "(14718,) (14718,) (14718, 2)\n",
      "(17365,) (17365,) (17365, 2)\n"
     ]
    },
    {
     "data": {
      "text/plain": [
       "(17365, 2)"
      ]
     },
     "execution_count": 24,
     "metadata": {},
     "output_type": "execute_result"
    }
   ],
   "source": [
    "from sklearn.multioutput import MultiOutputClassifier\n",
    "\n",
    "CLASSES = {'BER': 0, 'FAC': 1, 'INS': 2, 'STM': 3, 'none': 4}\n",
    "\n",
    "y_train = df_train['domain'].fillna('none')\n",
    "y_train = y_train.map(CLASSES)\n",
    "y_test = df_test['domain'].fillna('none')\n",
    "y_test = y_test.map(CLASSES)\n",
    "\n",
    "train_level = df_train[DOMAINS].sum(axis=1)\n",
    "test_level = df_test[DOMAINS].sum(axis=1)\n",
    "\n",
    "\n",
    "Y_train = np.vstack([y_train, train_level]).T\n",
    "Y_test = np.vstack([y_test, test_level]).T\n",
    "\n",
    "print(y_train.shape, train_level.shape, Y_train.shape)\n",
    "print(y_test.shape, test_level.shape, Y_test.shape)\n",
    "\n",
    "annotator_model = MultiOutputClassifier(\n",
    "    RandomForestClassifier(n_estimators=20),\n",
    "    n_jobs = 4,\n",
    ")\n",
    "\n",
    "\n",
    "annotator_model = annotator_model.fit(X_train, Y_train)\n",
    "preds = annotator_model.predict(X_test)\n",
    "preds.shape"
   ]
  },
  {
   "cell_type": "code",
   "execution_count": 25,
   "metadata": {},
   "outputs": [
    {
     "data": {
      "text/plain": [
       "array([[4., 0.],\n",
       "       [4., 0.],\n",
       "       [4., 0.],\n",
       "       ...,\n",
       "       [4., 0.],\n",
       "       [4., 0.],\n",
       "       [4., 0.]])"
      ]
     },
     "execution_count": 25,
     "metadata": {},
     "output_type": "execute_result"
    }
   ],
   "source": [
    "preds"
   ]
  },
  {
   "cell_type": "code",
   "execution_count": 26,
   "metadata": {},
   "outputs": [
    {
     "data": {
      "text/plain": [
       "<matplotlib.collections.PathCollection at 0x7f033cfd48d0>"
      ]
     },
     "execution_count": 26,
     "metadata": {},
     "output_type": "execute_result"
    },
    {
     "data": {
      "image/png": "[encoded data removed]",
      "text/plain": [
       "<Figure size 432x288 with 1 Axes>"
      ]
     },
     "metadata": {
      "image/png": {
       "height": 249,
       "width": 363
      }
     },
     "output_type": "display_data"
    }
   ],
   "source": [
    "plt.scatter(preds[:, 0], preds[:, 1])"
   ]
  },
  {
   "cell_type": "code",
   "execution_count": 27,
   "metadata": {},
   "outputs": [
    {
     "data": {
      "image/png": "[encoded data removed]",
      "text/plain": [
       "<Figure size 432x288 with 1 Axes>"
      ]
     },
     "metadata": {
      "image/png": {
       "height": 249,
       "width": 385
      }
     },
     "output_type": "display_data"
    },
    {
     "data": {
      "image/png": "[encoded data removed]",
      "text/plain": [
       "<Figure size 432x288 with 1 Axes>"
      ]
     },
     "metadata": {
      "image/png": {
       "height": 249,
       "width": 385
      }
     },
     "output_type": "display_data"
    }
   ],
   "source": [
    "plt.hist(preds[:, 0])\n",
    "plt.show()\n",
    "plt.hist(preds[:, 1])\n",
    "plt.show()"
   ]
  },
  {
   "cell_type": "code",
   "execution_count": 28,
   "metadata": {},
   "outputs": [
    {
     "data": {
      "text/html": [
       "<div>\n",
       "<style scoped>\n",
       "    .dataframe tbody tr th:only-of-type {\n",
       "        vertical-align: middle;\n",
       "    }\n",
       "\n",
       "    .dataframe tbody tr th {\n",
       "        vertical-align: top;\n",
       "    }\n",
       "\n",
       "    .dataframe thead th {\n",
       "        text-align: right;\n",
       "    }\n",
       "</style>\n",
       "<table border=\"1\" class=\"dataframe\">\n",
       "  <thead>\n",
       "    <tr style=\"text-align: right;\">\n",
       "      <th></th>\n",
       "      <th>domain</th>\n",
       "      <th>level</th>\n",
       "    </tr>\n",
       "  </thead>\n",
       "  <tbody>\n",
       "    <tr>\n",
       "      <th>0</th>\n",
       "      <td>4</td>\n",
       "      <td>0.0</td>\n",
       "    </tr>\n",
       "    <tr>\n",
       "      <th>1</th>\n",
       "      <td>4</td>\n",
       "      <td>0.0</td>\n",
       "    </tr>\n",
       "    <tr>\n",
       "      <th>2</th>\n",
       "      <td>4</td>\n",
       "      <td>0.0</td>\n",
       "    </tr>\n",
       "    <tr>\n",
       "      <th>3</th>\n",
       "      <td>4</td>\n",
       "      <td>0.0</td>\n",
       "    </tr>\n",
       "    <tr>\n",
       "      <th>4</th>\n",
       "      <td>4</td>\n",
       "      <td>0.0</td>\n",
       "    </tr>\n",
       "    <tr>\n",
       "      <th>...</th>\n",
       "      <td>...</td>\n",
       "      <td>...</td>\n",
       "    </tr>\n",
       "    <tr>\n",
       "      <th>17360</th>\n",
       "      <td>4</td>\n",
       "      <td>0.0</td>\n",
       "    </tr>\n",
       "    <tr>\n",
       "      <th>17361</th>\n",
       "      <td>3</td>\n",
       "      <td>0.0</td>\n",
       "    </tr>\n",
       "    <tr>\n",
       "      <th>17362</th>\n",
       "      <td>4</td>\n",
       "      <td>0.0</td>\n",
       "    </tr>\n",
       "    <tr>\n",
       "      <th>17363</th>\n",
       "      <td>4</td>\n",
       "      <td>0.0</td>\n",
       "    </tr>\n",
       "    <tr>\n",
       "      <th>17364</th>\n",
       "      <td>4</td>\n",
       "      <td>0.0</td>\n",
       "    </tr>\n",
       "  </tbody>\n",
       "</table>\n",
       "<p>17365 rows × 2 columns</p>\n",
       "</div>"
      ],
      "text/plain": [
       "       domain  level\n",
       "0           4    0.0\n",
       "1           4    0.0\n",
       "2           4    0.0\n",
       "3           4    0.0\n",
       "4           4    0.0\n",
       "...       ...    ...\n",
       "17360       4    0.0\n",
       "17361       3    0.0\n",
       "17362       4    0.0\n",
       "17363       4    0.0\n",
       "17364       4    0.0\n",
       "\n",
       "[17365 rows x 2 columns]"
      ]
     },
     "execution_count": 28,
     "metadata": {},
     "output_type": "execute_result"
    }
   ],
   "source": [
    "df_ev = pd.DataFrame(preds, columns=['domain', 'level'])\n",
    "df_ev['domain'] = df_ev['domain'].astype(np.int64)\n",
    "df_ev"
   ]
  },
  {
   "cell_type": "code",
   "execution_count": 29,
   "metadata": {},
   "outputs": [
    {
     "data": {
      "text/html": [
       "<div>\n",
       "<style scoped>\n",
       "    .dataframe tbody tr th:only-of-type {\n",
       "        vertical-align: middle;\n",
       "    }\n",
       "\n",
       "    .dataframe tbody tr th {\n",
       "        vertical-align: top;\n",
       "    }\n",
       "\n",
       "    .dataframe thead th {\n",
       "        text-align: right;\n",
       "    }\n",
       "</style>\n",
       "<table border=\"1\" class=\"dataframe\">\n",
       "  <thead>\n",
       "    <tr style=\"text-align: right;\">\n",
       "      <th></th>\n",
       "      <th>domain</th>\n",
       "      <th>level</th>\n",
       "      <th>true_domain</th>\n",
       "      <th>true_level</th>\n",
       "    </tr>\n",
       "  </thead>\n",
       "  <tbody>\n",
       "    <tr>\n",
       "      <th>0</th>\n",
       "      <td>4</td>\n",
       "      <td>0.0</td>\n",
       "      <td>4</td>\n",
       "      <td>0.0</td>\n",
       "    </tr>\n",
       "    <tr>\n",
       "      <th>1</th>\n",
       "      <td>4</td>\n",
       "      <td>0.0</td>\n",
       "      <td>4</td>\n",
       "      <td>0.0</td>\n",
       "    </tr>\n",
       "    <tr>\n",
       "      <th>2</th>\n",
       "      <td>4</td>\n",
       "      <td>0.0</td>\n",
       "      <td>4</td>\n",
       "      <td>0.0</td>\n",
       "    </tr>\n",
       "    <tr>\n",
       "      <th>3</th>\n",
       "      <td>4</td>\n",
       "      <td>0.0</td>\n",
       "      <td>4</td>\n",
       "      <td>0.0</td>\n",
       "    </tr>\n",
       "    <tr>\n",
       "      <th>4</th>\n",
       "      <td>4</td>\n",
       "      <td>0.0</td>\n",
       "      <td>4</td>\n",
       "      <td>0.0</td>\n",
       "    </tr>\n",
       "    <tr>\n",
       "      <th>...</th>\n",
       "      <td>...</td>\n",
       "      <td>...</td>\n",
       "      <td>...</td>\n",
       "      <td>...</td>\n",
       "    </tr>\n",
       "    <tr>\n",
       "      <th>17360</th>\n",
       "      <td>4</td>\n",
       "      <td>0.0</td>\n",
       "      <td>4</td>\n",
       "      <td>0.0</td>\n",
       "    </tr>\n",
       "    <tr>\n",
       "      <th>17361</th>\n",
       "      <td>3</td>\n",
       "      <td>0.0</td>\n",
       "      <td>4</td>\n",
       "      <td>0.0</td>\n",
       "    </tr>\n",
       "    <tr>\n",
       "      <th>17362</th>\n",
       "      <td>4</td>\n",
       "      <td>0.0</td>\n",
       "      <td>4</td>\n",
       "      <td>0.0</td>\n",
       "    </tr>\n",
       "    <tr>\n",
       "      <th>17363</th>\n",
       "      <td>4</td>\n",
       "      <td>0.0</td>\n",
       "      <td>4</td>\n",
       "      <td>0.0</td>\n",
       "    </tr>\n",
       "    <tr>\n",
       "      <th>17364</th>\n",
       "      <td>4</td>\n",
       "      <td>0.0</td>\n",
       "      <td>4</td>\n",
       "      <td>0.0</td>\n",
       "    </tr>\n",
       "  </tbody>\n",
       "</table>\n",
       "<p>17365 rows × 4 columns</p>\n",
       "</div>"
      ],
      "text/plain": [
       "       domain  level  true_domain  true_level\n",
       "0           4    0.0            4         0.0\n",
       "1           4    0.0            4         0.0\n",
       "2           4    0.0            4         0.0\n",
       "3           4    0.0            4         0.0\n",
       "4           4    0.0            4         0.0\n",
       "...       ...    ...          ...         ...\n",
       "17360       4    0.0            4         0.0\n",
       "17361       3    0.0            4         0.0\n",
       "17362       4    0.0            4         0.0\n",
       "17363       4    0.0            4         0.0\n",
       "17364       4    0.0            4         0.0\n",
       "\n",
       "[17365 rows x 4 columns]"
      ]
     },
     "execution_count": 29,
     "metadata": {},
     "output_type": "execute_result"
    }
   ],
   "source": [
    "df_ev['true_domain'] = y_test\n",
    "df_ev['true_level'] = test_level\n",
    "df_ev"
   ]
  },
  {
   "cell_type": "code",
   "execution_count": 30,
   "metadata": {},
   "outputs": [
    {
     "name": "stdout",
     "output_type": "stream",
     "text": [
      "              precision    recall  f1-score   support\n",
      "\n",
      "         BER       0.00      0.00      0.00         2\n",
      "         FAC       0.15      0.50      0.23        54\n",
      "         INS       0.12      0.37      0.18        41\n",
      "         STM       0.11      0.35      0.16        91\n",
      "        none       0.99      0.97      0.98     17177\n",
      "\n",
      "    accuracy                           0.96     17365\n",
      "   macro avg       0.27      0.44      0.31     17365\n",
      "weighted avg       0.98      0.96      0.97     17365\n",
      "\n"
     ]
    }
   ],
   "source": [
    "from sklearn.metrics import classification_report\n",
    "\n",
    "print(classification_report(df_ev.true_domain, df_ev.domain, target_names=list(CLASSES.keys()), zero_division=0))"
   ]
  },
  {
   "cell_type": "code",
   "execution_count": 31,
   "metadata": {},
   "outputs": [
    {
     "name": "stdout",
     "output_type": "stream",
     "text": [
      "              precision    recall  f1-score   support\n",
      "\n",
      "         0.0       1.00      0.98      0.99     17245\n",
      "         1.0       0.09      0.29      0.14        65\n",
      "         2.0       0.04      0.30      0.07        20\n",
      "         3.0       0.08      0.12      0.10        16\n",
      "         4.0       0.06      0.33      0.11        18\n",
      "         5.0       0.00      0.00      0.00         0\n",
      "         9.0       0.00      0.00      0.00         1\n",
      "\n",
      "    accuracy                           0.97     17365\n",
      "   macro avg       0.18      0.29      0.20     17365\n",
      "weighted avg       0.99      0.97      0.98     17365\n",
      "\n"
     ]
    }
   ],
   "source": [
    "print(classification_report(df_ev.true_level, df_ev.level, zero_division=0))"
   ]
  },
  {
   "cell_type": "code",
   "execution_count": 32,
   "metadata": {},
   "outputs": [
    {
     "data": {
      "text/plain": [
       "0.058162971494385256"
      ]
     },
     "execution_count": 32,
     "metadata": {},
     "output_type": "execute_result"
    }
   ],
   "source": [
    "from sklearn.metrics import mean_absolute_error as mae\n",
    "\n",
    "mae(df_ev.true_level, df_ev.level)"
   ]
  },
  {
   "cell_type": "code",
   "execution_count": 33,
   "metadata": {},
   "outputs": [
    {
     "data": {
      "text/plain": [
       "0.8670212765957447"
      ]
     },
     "execution_count": 33,
     "metadata": {},
     "output_type": "execute_result"
    }
   ],
   "source": [
    "mae(df_ev[df_ev.true_domain != 4].true_level, df_ev[df_ev.true_domain != 4].level)"
   ]
  },
  {
   "cell_type": "code",
   "execution_count": 34,
   "metadata": {},
   "outputs": [
    {
     "data": {
      "text/html": [
       "<div>\n",
       "<style scoped>\n",
       "    .dataframe tbody tr th:only-of-type {\n",
       "        vertical-align: middle;\n",
       "    }\n",
       "\n",
       "    .dataframe tbody tr th {\n",
       "        vertical-align: top;\n",
       "    }\n",
       "\n",
       "    .dataframe thead th {\n",
       "        text-align: right;\n",
       "    }\n",
       "</style>\n",
       "<table border=\"1\" class=\"dataframe\">\n",
       "  <thead>\n",
       "    <tr style=\"text-align: right;\">\n",
       "      <th></th>\n",
       "      <th>domain</th>\n",
       "      <th>level</th>\n",
       "      <th>true_domain</th>\n",
       "      <th>true_level</th>\n",
       "    </tr>\n",
       "  </thead>\n",
       "  <tbody>\n",
       "    <tr>\n",
       "      <th>196</th>\n",
       "      <td>4</td>\n",
       "      <td>0.0</td>\n",
       "      <td>3</td>\n",
       "      <td>3.0</td>\n",
       "    </tr>\n",
       "    <tr>\n",
       "      <th>546</th>\n",
       "      <td>4</td>\n",
       "      <td>0.0</td>\n",
       "      <td>3</td>\n",
       "      <td>0.0</td>\n",
       "    </tr>\n",
       "    <tr>\n",
       "      <th>563</th>\n",
       "      <td>3</td>\n",
       "      <td>1.0</td>\n",
       "      <td>3</td>\n",
       "      <td>1.0</td>\n",
       "    </tr>\n",
       "    <tr>\n",
       "      <th>565</th>\n",
       "      <td>3</td>\n",
       "      <td>1.0</td>\n",
       "      <td>2</td>\n",
       "      <td>1.0</td>\n",
       "    </tr>\n",
       "    <tr>\n",
       "      <th>566</th>\n",
       "      <td>4</td>\n",
       "      <td>0.0</td>\n",
       "      <td>3</td>\n",
       "      <td>0.0</td>\n",
       "    </tr>\n",
       "    <tr>\n",
       "      <th>...</th>\n",
       "      <td>...</td>\n",
       "      <td>...</td>\n",
       "      <td>...</td>\n",
       "      <td>...</td>\n",
       "    </tr>\n",
       "    <tr>\n",
       "      <th>16553</th>\n",
       "      <td>4</td>\n",
       "      <td>0.0</td>\n",
       "      <td>2</td>\n",
       "      <td>0.0</td>\n",
       "    </tr>\n",
       "    <tr>\n",
       "      <th>16750</th>\n",
       "      <td>4</td>\n",
       "      <td>0.0</td>\n",
       "      <td>3</td>\n",
       "      <td>1.0</td>\n",
       "    </tr>\n",
       "    <tr>\n",
       "      <th>16782</th>\n",
       "      <td>4</td>\n",
       "      <td>0.0</td>\n",
       "      <td>3</td>\n",
       "      <td>0.0</td>\n",
       "    </tr>\n",
       "    <tr>\n",
       "      <th>16817</th>\n",
       "      <td>3</td>\n",
       "      <td>3.0</td>\n",
       "      <td>3</td>\n",
       "      <td>2.0</td>\n",
       "    </tr>\n",
       "    <tr>\n",
       "      <th>17132</th>\n",
       "      <td>1</td>\n",
       "      <td>0.0</td>\n",
       "      <td>1</td>\n",
       "      <td>0.0</td>\n",
       "    </tr>\n",
       "  </tbody>\n",
       "</table>\n",
       "<p>188 rows × 4 columns</p>\n",
       "</div>"
      ],
      "text/plain": [
       "       domain  level  true_domain  true_level\n",
       "196         4    0.0            3         3.0\n",
       "546         4    0.0            3         0.0\n",
       "563         3    1.0            3         1.0\n",
       "565         3    1.0            2         1.0\n",
       "566         4    0.0            3         0.0\n",
       "...       ...    ...          ...         ...\n",
       "16553       4    0.0            2         0.0\n",
       "16750       4    0.0            3         1.0\n",
       "16782       4    0.0            3         0.0\n",
       "16817       3    3.0            3         2.0\n",
       "17132       1    0.0            1         0.0\n",
       "\n",
       "[188 rows x 4 columns]"
      ]
     },
     "execution_count": 34,
     "metadata": {},
     "output_type": "execute_result"
    }
   ],
   "source": [
    "df_ev[df_ev.true_domain != 4]"
   ]
  },
  {
   "cell_type": "markdown",
   "metadata": {},
   "source": [
    "## Wrapping the model as a Pipeline and exporting to pickle"
   ]
  },
  {
   "cell_type": "code",
   "execution_count": 35,
   "metadata": {},
   "outputs": [
    {
     "data": {
      "text/plain": [
       "True"
      ]
     },
     "execution_count": 35,
     "metadata": {},
     "output_type": "execute_result"
    }
   ],
   "source": [
    "from sklearn.pipeline import Pipeline\n",
    "\n",
    "final_model = Pipeline([\n",
    "        ('vocab_vectorizer', vectorizer),\n",
    "        ('multi_classifier', annotator_model),\n",
    "    ])\n",
    "\n",
    "preds_2 = final_model.predict(df_test.sentence.values)\n",
    "(preds_2 == preds).all()"
   ]
  },
  {
   "cell_type": "code",
   "execution_count": 36,
   "metadata": {},
   "outputs": [],
   "source": [
    "import pickle\n",
    "\n",
    "with open('annotator_model_test.pkl', 'wb') as file:\n",
    "    pickle.dump(final_model, file)"
   ]
  },
  {
   "cell_type": "code",
   "execution_count": 37,
   "metadata": {},
   "outputs": [
    {
     "data": {
      "text/plain": [
       "True"
      ]
     },
     "execution_count": 37,
     "metadata": {},
     "output_type": "execute_result"
    }
   ],
   "source": [
    "with open('annotator_model_test.pkl', 'rb') as file:\n",
    "    unpickled = pickle.load(file)\n",
    "    \n",
    "(unpickled.predict(df_test.sentence.values) == preds).all()"
   ]
  }
 ],
 "metadata": {
  "kernelspec": {
   "display_name": "Python 3",
   "language": "python",
   "name": "python3"
  },
  "language_info": {
   "codemirror_mode": {
    "name": "ipython",
    "version": 3
   },
   "file_extension": ".py",
   "mimetype": "text/x-python",
   "name": "python",
   "nbconvert_exporter": "python",
   "pygments_lexer": "ipython3",
   "version": "3.6.5"
  }
 },
 "nbformat": 4,
 "nbformat_minor": 4
}
