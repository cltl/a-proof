{
 "cells": [
  {
   "cell_type": "markdown",
   "metadata": {},
   "source": [
    "# Covid annotation extraction\n",
    "\n",
    "This notebook is designed to read pickled BERTje containers with annotated sentences for **Covid patients**. These are then concatenated into a Pandas DataFrame and saved. This allows the annotated sentences to be loaded rapidly from a single file in future.\n",
    "\n",
    "Note: Much of the code is now redundant, as the BERTje embedding pipeline was updated to have only a single pickle file with all the BERTje containers, which were also updated to include relevant information in the attributes of the [Container class](https://github.com/cltl/a-proof/blob/master/machine_learning/class_definitions.py). "
   ]
  },
  {
   "cell_type": "code",
   "execution_count": 2,
   "metadata": {},
   "outputs": [],
   "source": [
    "import pickle\n",
    "from pathlib import Path\n",
    "\n",
    "import numpy as np\n",
    "import pandas as pd\n",
    "import scipy\n",
    "import seaborn as sns\n",
    "import sklearn\n",
    "import statsmodels\n",
    "import torch\n",
    "from matplotlib import pyplot as plt\n",
    "from tqdm import tqdm as tqdm"
   ]
  },
  {
   "cell_type": "code",
   "execution_count": 3,
   "metadata": {},
   "outputs": [],
   "source": [
    "# Make graphics nice\n",
    "%matplotlib inline\n",
    "%config InlineBackend.figure_format = 'retina'\n",
    "\n",
    "# Set sensible defaults\n",
    "sns.set()\n",
    "sns.set_style(\"ticks\")\n",
    "sns.set_context('paper')"
   ]
  },
  {
   "cell_type": "code",
   "execution_count": 4,
   "metadata": {},
   "outputs": [],
   "source": [
    "import class_definitions\n",
    "from class_definitions import Annotation, BertContainer"
   ]
  },
  {
   "cell_type": "code",
   "execution_count": 5,
   "metadata": {},
   "outputs": [],
   "source": [
    "DATADIR = '//data2/Documents/Covid_data_11nov/traindata_covidbatch.pkl'"
   ]
  },
  {
   "cell_type": "code",
   "execution_count": 6,
   "metadata": {
    "scrolled": true
   },
   "outputs": [],
   "source": [
    "from collections import defaultdict\n",
    "\n",
    "\n",
    "def preview_info_from_pkl(fpath):\n",
    "    with open(fpath, 'rb') as file:\n",
    "        all_containers = pickle.load(file)\n",
    "        for container in all_containers:\n",
    "            print(container.annotator, container.sen_id, container.sen, len(container.encoding), container.annot)\n",
    "            \n",
    "def extract_info_from_pkl(fpath):\n",
    "    print(\"Opening pickle...\")\n",
    "    with open(fpath, 'rb') as file:\n",
    "        all_containers = pickle.load(file)\n",
    "        contents = defaultdict(list)\n",
    "        \n",
    "        print(\"Reading...\")\n",
    "        \n",
    "        print(dir(all_containers[0]))\n",
    "            \n",
    "        for container in tqdm(all_containers):\n",
    "            \n",
    "            contents['src_file'].append(container.key)\n",
    "            contents['annotator'].append(container.annotator)\n",
    "            contents['sentence_id'].append(container.sen_id)\n",
    "            contents['sentence'].append(container.sen)\n",
    "        \n",
    "#             contents['encoding_shape'].append(torch.stack(container.encoding).shape if len(container.encoding) > 0 else None)\n",
    "            if container.annot != []:\n",
    "                contents['annotations'].append(' | '.join([c.label for c in container.annot]))\n",
    "                contents['num_annot'].append(len(container.annot))\n",
    "            else:\n",
    "                contents['annotations'].append(None)\n",
    "                contents['num_annot'].append(0)\n",
    "            \n",
    "        return contents"
   ]
  },
  {
   "cell_type": "code",
   "execution_count": 7,
   "metadata": {},
   "outputs": [
    {
     "name": "stdout",
     "output_type": "stream",
     "text": [
      "Opening pickle...\n"
     ]
    },
    {
     "name": "stderr",
     "output_type": "stream",
     "text": [
      "100%|██████████| 17365/17365 [00:00<00:00, 600539.98it/s]"
     ]
    },
    {
     "name": "stdout",
     "output_type": "stream",
     "text": [
      "Reading...\n",
      "['__class__', '__delattr__', '__dict__', '__dir__', '__doc__', '__eq__', '__format__', '__ge__', '__getattribute__', '__gt__', '__hash__', '__init__', '__init_subclass__', '__le__', '__lt__', '__module__', '__ne__', '__new__', '__reduce__', '__reduce_ex__', '__repr__', '__setattr__', '__sizeof__', '__str__', '__subclasshook__', '__weakref__', 'add_anno', 'annot', 'annotator', 'encoding', 'key', 'print_container', 'sen', 'sen_id', 'write_to_pkl']\n"
     ]
    },
    {
     "name": "stderr",
     "output_type": "stream",
     "text": [
      "\n"
     ]
    }
   ],
   "source": [
    "contents = extract_info_from_pkl(DATADIR)"
   ]
  },
  {
   "cell_type": "code",
   "execution_count": 8,
   "metadata": {},
   "outputs": [
    {
     "name": "stdout",
     "output_type": "stream",
     "text": [
      "<class 'pandas.core.frame.DataFrame'>\n",
      "RangeIndex: 17365 entries, 0 to 17364\n",
      "Data columns (total 6 columns):\n",
      " #   Column       Non-Null Count  Dtype \n",
      "---  ------       --------------  ----- \n",
      " 0   src_file     17365 non-null  object\n",
      " 1   annotator    17365 non-null  object\n",
      " 2   sentence_id  17365 non-null  object\n",
      " 3   sentence     17365 non-null  object\n",
      " 4   annotations  6308 non-null   object\n",
      " 5   num_annot    17365 non-null  int64 \n",
      "dtypes: int64(1), object(5)\n",
      "memory usage: 814.1+ KB\n"
     ]
    }
   ],
   "source": [
    "df = pd.DataFrame(contents)\n",
    "df.info()"
   ]
  },
  {
   "cell_type": "code",
   "execution_count": 10,
   "metadata": {},
   "outputs": [],
   "source": [
    "df.to_csv('~/gianluca_data/data/covid_traindata.tsv', index=False, sep='\\t')"
   ]
  },
  {
   "cell_type": "code",
   "execution_count": 22,
   "metadata": {},
   "outputs": [
    {
     "name": "stdout",
     "output_type": "stream",
     "text": [
      "<class 'pandas.core.frame.DataFrame'>\n",
      "Int64Index: 216959 entries, 0 to 36\n",
      "Data columns (total 7 columns):\n",
      " #   Column          Non-Null Count   Dtype \n",
      "---  ------          --------------   ----- \n",
      " 0   src_file        216959 non-null  object\n",
      " 1   annotator       216959 non-null  object\n",
      " 2   sentence_id     216959 non-null  object\n",
      " 3   sentence        216959 non-null  object\n",
      " 4   encoding_shape  216959 non-null  object\n",
      " 5   num_annot       216959 non-null  int64 \n",
      " 6   annotations     61313 non-null   object\n",
      "dtypes: int64(1), object(6)\n",
      "memory usage: 13.2+ MB\n"
     ]
    }
   ],
   "source": [
    "df.info()"
   ]
  },
  {
   "cell_type": "code",
   "execution_count": 25,
   "metadata": {},
   "outputs": [
    {
     "data": {
      "text/plain": [
       "Index(['src_file', 'annotator', 'sentence_id', 'sentence', 'encoding_shape',\n",
       "       'num_annot', 'annotations'],\n",
       "      dtype='object')"
      ]
     },
     "execution_count": 25,
     "metadata": {},
     "output_type": "execute_result"
    }
   ],
   "source": [
    "df.columns"
   ]
  },
  {
   "cell_type": "code",
   "execution_count": 26,
   "metadata": {},
   "outputs": [
    {
     "data": {
      "text/plain": [
       "                                                              27804\n",
       "type\\_Background                                              23362\n",
       "target                                                         4945\n",
       "disregard\\_file                                                 671\n",
       "info\\_Third party                                               382\n",
       "STM 1 | .B152: Stemming                                         293\n",
       ".D450: Lopen en zich verplaatsen                                262\n",
       ".D450: Lopen en zich verplaatsen | FAC 4                        215\n",
       "view\\_Patient                                                   124\n",
       "FAC 4 | .D450: Lopen en zich verplaatsen                        112\n",
       ".B152: Stemming | STM 1                                         111\n",
       "*                                                               105\n",
       "STM 3 | .B152: Stemming                                          87\n",
       "STM 1 | stm\\_reaction | .B152: Stemming                          84\n",
       "STM 1 | .B152: Stemming | stm\\_reaction                          82\n",
       ".B455: Inspanningstolerantie                                     81\n",
       ".D840-859: Beroep en werk                                        76\n",
       "STM 0 | .B152: Stemming                                          69\n",
       ".B152: Stemming                                                  67\n",
       "type\\_Background | type\\_Background                              60\n",
       ".B455: Inspanningstolerantie | INS 5                             59\n",
       "view\\_Third party                                                58\n",
       ".B152: Stemming | STM 0                                          57\n",
       ".B152: Stemming | stm\\_reaction | STM 1                          56\n",
       "lop\\_hulpmiddel                                                  54\n",
       "STM 2 | .B152: Stemming                                          50\n",
       ".B152: Stemming | STM 2                                          49\n",
       "INS 3 | .B455: Inspanningstolerantie                             46\n",
       ".B455: Inspanningstolerantie | INS 2                             46\n",
       ".D450: Lopen en zich verplaatsen | FAC 5                         44\n",
       ".D450: Lopen en zich verplaatsen | FAC 3                         43\n",
       "stm\\_reaction | STM 1 | .B152: Stemming                          39\n",
       ".B455: Inspanningstolerantie | INS 3                             37\n",
       ".D450: Lopen en zich verplaatsen | FAC 4 | lop\\_hulpmiddel       37\n",
       "INS 1 | .B455: Inspanningstolerantie                             33\n",
       "BER 4 | .D840-859: Beroep en werk                                29\n",
       ".D840-859: Beroep en werk | BER 4                                28\n",
       "INS 4 | .B455: Inspanningstolerantie                             27\n",
       "FAC 4                                                            25\n",
       ".B152: Stemming | STM 3                                          24\n",
       ".D450: Lopen en zich verplaatsen | FAC 2                         24\n",
       ".D840-859: Beroep en werk | BER 0                                23\n",
       "stm\\_reaction                                                    23\n",
       ".B455: Inspanningstolerantie | INS 1                             22\n",
       ".B455: Inspanningstolerantie | INS 4                             21\n",
       "INS 2 | .B455: Inspanningstolerantie                             21\n",
       "FAC 5 | .D450: Lopen en zich verplaatsen                         19\n",
       "target | target                                                  19\n",
       ".D450: Lopen en zich verplaatsen | lop\\_hulpmiddel               19\n",
       "INS 5 | .B455: Inspanningstolerantie                             19\n",
       "Name: annotations, dtype: int64"
      ]
     },
     "execution_count": 26,
     "metadata": {},
     "output_type": "execute_result"
    }
   ],
   "source": [
    "df.annotations.value_counts().head(50)"
   ]
  }
 ],
 "metadata": {
  "kernelspec": {
   "display_name": "Python 3",
   "language": "python",
   "name": "python3"
  },
  "language_info": {
   "codemirror_mode": {
    "name": "ipython",
    "version": 3
   },
   "file_extension": ".py",
   "mimetype": "text/x-python",
   "name": "python",
   "nbconvert_exporter": "python",
   "pygments_lexer": "ipython3",
   "version": "3.6.5"
  }
 },
 "nbformat": 4,
 "nbformat_minor": 4
}
