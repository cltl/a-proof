{
 "cells": [
  {
   "cell_type": "markdown",
   "metadata": {},
   "source": [
    "# Patient selection\n",
    "\n",
    "This notebook searches through the **Covid** patients from the raw medical notes and selects those with desirable statistical properties for timeseries modelling. This was necessary because (as `analysis_annot_covid.ipynb` shows) the sentence-level annotations resulting in incomplete timeseries across patients. \n",
    "\n",
    "This selection informed which patients would be subsequently expert-annotated in a novel, continuous method that we developed. Towards the end of this notebook, half of the selected Covid patients have their records converted to Excel-format files with some empty columns for each ICF domain. These spreadsheets were then given to experts for annotation."
   ]
  },
  {
   "cell_type": "code",
   "execution_count": 1,
   "metadata": {},
   "outputs": [],
   "source": [
    "import pickle\n",
    "from pathlib import Path\n",
    "\n",
    "import numpy as np\n",
    "import pandas as pd\n",
    "import scipy\n",
    "import seaborn as sns\n",
    "import sklearn\n",
    "import statsmodels\n",
    "import torch\n",
    "from matplotlib import pyplot as plt\n",
    "from tqdm import tqdm as tqdm\n",
    "\n",
    "# Make graphics nice\n",
    "%matplotlib inline\n",
    "%config InlineBackend.figure_format = 'retina'\n",
    "\n",
    "# Set sensible defaults\n",
    "sns.set()\n",
    "sns.set_style(\"ticks\")\n",
    "sns.set_context('paper')"
   ]
  },
  {
   "cell_type": "code",
   "execution_count": 2,
   "metadata": {},
   "outputs": [],
   "source": [
    "def select_ids(df_diagnoses, search_5=[], search_7=[]):\n",
    "\n",
    "    MDN_ids = set()\n",
    "    for query in search_7:\n",
    "        temp_set = set(df_diagnoses.loc[df_diagnoses[7] == query][0])\n",
    "        MDN_ids.update(temp_set)\n",
    "\n",
    "    return MDN_ids"
   ]
  },
  {
   "cell_type": "code",
   "execution_count": 3,
   "metadata": {},
   "outputs": [
    {
     "name": "stdout",
     "output_type": "stream",
     "text": [
      "Hospital: VUMC ...\n",
      "Reading diagnoses...\n"
     ]
    },
    {
     "name": "stderr",
     "output_type": "stream",
     "text": [
      "Quarters: 100%|██████████| 3/3 [01:41<00:00, 33.82s/it]\n"
     ]
    },
    {
     "name": "stdout",
     "output_type": "stream",
     "text": [
      "\n",
      "Concatenating...\n",
      "(1132728, 8)\n",
      "['COVID-19, virus geïdentificeerd [U07.1]']\n",
      "Aantal patient ids in search 227\n",
      "Patient ids die ook in notities staan 227\n",
      "Aantal notities van die patienten 21612\n",
      "Gemiddeld aantal documenten per patient 95.20704845814979\n",
      "Hospital: AMC ...\n",
      "Reading diagnoses...\n"
     ]
    },
    {
     "name": "stderr",
     "output_type": "stream",
     "text": [
      "Quarters: 100%|██████████| 3/3 [02:19<00:00, 46.54s/it]\n"
     ]
    },
    {
     "name": "stdout",
     "output_type": "stream",
     "text": [
      "\n",
      "Concatenating...\n",
      "(1515300, 8)\n",
      "['COVID-19, virus geïdentificeerd [U07.1]']\n",
      "Aantal patient ids in search 255\n",
      "Patient ids die ook in notities staan 255\n",
      "Aantal notities van die patienten 21422\n",
      "Gemiddeld aantal documenten per patient 84.00784313725491\n"
     ]
    }
   ],
   "source": [
    "# Compile all notes from 2020 across hospitals. Filter for patients with a confirmed covid diagnosis.\n",
    "\n",
    "for hospital in ['VUMC', 'AMC']:\n",
    "    print(f\"Hospital: {hospital} ...\")\n",
    "    diagnoses_filepath = f\"//data/bestanden 2020/Diagnoses {hospital} 2020 sept.csv\"\n",
    "    notities_filepaths = []\n",
    "    for q in [1, 2, 3]:    \n",
    "        notities_filepaths.append(f\"//data/bestanden 2020/Notities {hospital} 2020 Q{q}.csv\")\n",
    "\n",
    "    \n",
    "    # Define patient id pat_id_column\n",
    "    pat_id_column = 0\n",
    "    # pat_id_column = 'Pat_id'\n",
    "\n",
    "    # Read in files as pd.DataFrame types\n",
    "    print(\"Reading diagnoses...\")\n",
    "    df_diagnoses = pd.read_csv(diagnoses_filepath, sep=';', header=None, encoding = 'utf-8')\n",
    "    notities_dfs = []\n",
    "    for fpath in tqdm(notities_filepaths, desc='Quarters'):\n",
    "        notities_dfs.append(\n",
    "            pd.read_csv(fpath, sep=';', header=None, encoding = 'utf-8-sig', engine='python', error_bad_lines=False)\n",
    "        )\n",
    "    print(\"\\nConcatenating...\")\n",
    "    df_notities = pd.concat(notities_dfs)\n",
    "    \n",
    "    print(df_notities.shape)\n",
    "    \n",
    "    # Search queries\n",
    "    #search_5 = []# ['acute respiratoire aandoening door SARS-CoV-2', 'infectie met SARS-CoV-2', \n",
    "                # 'dyspnoe bij infectie met SARS-CoV-2']\n",
    "    search_7 =  [\"COVID-19, virus geïdentificeerd [U07.1]\"]\n",
    "\n",
    "    # MDN_ids is patient id\n",
    "    MDN_ids = select_ids(df_diagnoses, search_7=search_7)\n",
    "\n",
    "    # Create df with selected MDN ids\n",
    "    df_selection = df_notities.loc[df_notities[pat_id_column].isin(MDN_ids)]\n",
    "\n",
    "    # Print statements for counts\n",
    "    print(search_7)\n",
    "    print(\"Aantal patient ids in search\", len(MDN_ids))\n",
    "    print(\"Patient ids die ook in notities staan\", len(MDN_ids & set(df_notities[pat_id_column])))\n",
    "    print(\"Aantal notities van die patienten\", df_selection.shape[0])\n",
    "    print(\"Gemiddeld aantal documenten per patient\", df_selection.shape[0]/len(MDN_ids & set(df_notities[pat_id_column])))\n",
    "\n",
    "    # Write to csv\n",
    "    output_filepath = f'../data/covid_notes_{hospital}.tsv'\n",
    "    df_selection.to_csv(output_filepath, sep='\\t')"
   ]
  },
  {
   "cell_type": "code",
   "execution_count": 4,
   "metadata": {},
   "outputs": [],
   "source": [
    "cols = ['indexer', 'patient_id', 'note_id', 'note_csn', 'type', 'date', 'note', 'other1', 'other2']\n",
    "\n",
    "df_amc = pd.read_csv('../data/covid_notes_AMC.tsv', sep='\\t')\n",
    "df_vumc = pd.read_csv('../data/covid_notes_VUMC.tsv', sep='\\t')\n",
    "\n",
    "df_amc.columns = cols\n",
    "df_vumc.columns = cols"
   ]
  },
  {
   "cell_type": "code",
   "execution_count": null,
   "metadata": {},
   "outputs": [],
   "source": [
    "df_amc.tail()"
   ]
  },
  {
   "cell_type": "code",
   "execution_count": null,
   "metadata": {},
   "outputs": [],
   "source": [
    "df_vumc.head()"
   ]
  },
  {
   "cell_type": "code",
   "execution_count": 7,
   "metadata": {},
   "outputs": [
    {
     "name": "stdout",
     "output_type": "stream",
     "text": [
      "AMC\n",
      "Unique patients: 255\n",
      "Unique notes: 21181\n",
      "Notes per patient:\n",
      "count    255.000000\n",
      "mean      84.007843\n",
      "std      101.897354\n",
      "min        1.000000\n",
      "25%       22.500000\n",
      "50%       49.000000\n",
      "75%      100.000000\n",
      "max      607.000000\n",
      "Name: note_id, dtype: float64\n",
      "\n",
      "VUMC\n",
      "Unique patients: 227\n",
      "Unique notes: 21435\n",
      "Notes per patient:\n",
      "count    227.000000\n",
      "mean      95.207048\n",
      "std      110.342774\n",
      "min        3.000000\n",
      "25%       30.000000\n",
      "50%       57.000000\n",
      "75%      122.000000\n",
      "max      806.000000\n",
      "Name: note_id, dtype: float64\n",
      "\n"
     ]
    }
   ],
   "source": [
    "for centre, df in {'AMC': df_amc, 'VUMC': df_vumc}.items():\n",
    "    print(centre)\n",
    "    print('Unique patients:', df.patient_id.nunique())\n",
    "    print('Unique notes:', df.note_id.nunique())\n",
    "    print('Notes per patient:')\n",
    "    print(df.groupby('patient_id').count().note_id.describe())\n",
    "    print()"
   ]
  },
  {
   "cell_type": "code",
   "execution_count": null,
   "metadata": {},
   "outputs": [],
   "source": [
    "# Unify the dataframes and remove empty columns\n",
    "df_vumc['centre'] = 'VUMC'\n",
    "df_amc['centre'] = 'AMC'\n",
    "df = pd.concat([df_vumc, df_amc])\n",
    "df = df.sort_values('date')\n",
    "df.drop(['other1', 'other2'], axis=1, inplace=True)\n",
    "df"
   ]
  },
  {
   "cell_type": "markdown",
   "metadata": {},
   "source": [
    "# Analysis and Patient Selection"
   ]
  },
  {
   "cell_type": "code",
   "execution_count": 9,
   "metadata": {},
   "outputs": [
    {
     "data": {
      "text/plain": [
       "Zorgplan/VPK rapportage    15441\n",
       "Voortgangsverslag          13012\n",
       "Brief                       2774\n",
       "Familiegesprek              1846\n",
       "Consulten                   1678\n",
       "Name: type, dtype: int64"
      ]
     },
     "execution_count": 9,
     "metadata": {},
     "output_type": "execute_result"
    }
   ],
   "source": [
    "df.type.value_counts().head()"
   ]
  },
  {
   "cell_type": "code",
   "execution_count": 10,
   "metadata": {},
   "outputs": [
    {
     "name": "stderr",
     "output_type": "stream",
     "text": [
      "/data/homedirs/gianluca/.local/lib/python3.6/site-packages/numpy/core/fromnumeric.py:3373: RuntimeWarning: Mean of empty slice.\n",
      "  out=out, **kwargs)\n",
      "/data/homedirs/gianluca/.local/lib/python3.6/site-packages/numpy/core/_methods.py:170: RuntimeWarning: invalid value encountered in double_scalars\n",
      "  ret = ret.dtype.type(ret / rcount)\n"
     ]
    },
    {
     "data": {
      "text/html": [
       "<div>\n",
       "<style scoped>\n",
       "    .dataframe tbody tr th:only-of-type {\n",
       "        vertical-align: middle;\n",
       "    }\n",
       "\n",
       "    .dataframe tbody tr th {\n",
       "        vertical-align: top;\n",
       "    }\n",
       "\n",
       "    .dataframe thead tr th {\n",
       "        text-align: left;\n",
       "    }\n",
       "</style>\n",
       "<table border=\"1\" class=\"dataframe\">\n",
       "  <thead>\n",
       "    <tr>\n",
       "      <th></th>\n",
       "      <th>note_id</th>\n",
       "      <th colspan=\"2\" halign=\"left\">date</th>\n",
       "      <th>centre</th>\n",
       "    </tr>\n",
       "    <tr>\n",
       "      <th></th>\n",
       "      <th>nunique</th>\n",
       "      <th>date_range</th>\n",
       "      <th>date_spread</th>\n",
       "      <th>is_amc</th>\n",
       "    </tr>\n",
       "  </thead>\n",
       "  <tbody>\n",
       "    <tr>\n",
       "      <th>count</th>\n",
       "      <td>478.000000</td>\n",
       "      <td>478</td>\n",
       "      <td>477</td>\n",
       "      <td>478.000000</td>\n",
       "    </tr>\n",
       "    <tr>\n",
       "      <th>mean</th>\n",
       "      <td>88.711297</td>\n",
       "      <td>117 days 07:40:55.230125524</td>\n",
       "      <td>3 days 07:59:05.067745149</td>\n",
       "      <td>0.529289</td>\n",
       "    </tr>\n",
       "    <tr>\n",
       "      <th>std</th>\n",
       "      <td>105.645864</td>\n",
       "      <td>80 days 05:19:37.953628645</td>\n",
       "      <td>6 days 04:22:44.429950911</td>\n",
       "      <td>0.499664</td>\n",
       "    </tr>\n",
       "    <tr>\n",
       "      <th>min</th>\n",
       "      <td>1.000000</td>\n",
       "      <td>0 days 00:00:00</td>\n",
       "      <td>0 days 00:00:00</td>\n",
       "      <td>0.000000</td>\n",
       "    </tr>\n",
       "    <tr>\n",
       "      <th>25%</th>\n",
       "      <td>27.000000</td>\n",
       "      <td>33 days 00:00:00</td>\n",
       "      <td>0 days 13:02:36.521739130</td>\n",
       "      <td>0.000000</td>\n",
       "    </tr>\n",
       "    <tr>\n",
       "      <th>50%</th>\n",
       "      <td>51.500000</td>\n",
       "      <td>130 days 00:00:00</td>\n",
       "      <td>1 days 15:50:24</td>\n",
       "      <td>1.000000</td>\n",
       "    </tr>\n",
       "    <tr>\n",
       "      <th>75%</th>\n",
       "      <td>112.000000</td>\n",
       "      <td>173 days 18:00:00</td>\n",
       "      <td>3 days 17:29:29.491525423</td>\n",
       "      <td>1.000000</td>\n",
       "    </tr>\n",
       "    <tr>\n",
       "      <th>max</th>\n",
       "      <td>800.000000</td>\n",
       "      <td>267 days 00:00:00</td>\n",
       "      <td>87 days 00:00:00</td>\n",
       "      <td>1.000000</td>\n",
       "    </tr>\n",
       "  </tbody>\n",
       "</table>\n",
       "</div>"
      ],
      "text/plain": [
       "          note_id                         date                             \\\n",
       "          nunique                   date_range                date_spread   \n",
       "count  478.000000                          478                        477   \n",
       "mean    88.711297  117 days 07:40:55.230125524  3 days 07:59:05.067745149   \n",
       "std    105.645864   80 days 05:19:37.953628645  6 days 04:22:44.429950911   \n",
       "min      1.000000              0 days 00:00:00            0 days 00:00:00   \n",
       "25%     27.000000             33 days 00:00:00  0 days 13:02:36.521739130   \n",
       "50%     51.500000            130 days 00:00:00            1 days 15:50:24   \n",
       "75%    112.000000            173 days 18:00:00  3 days 17:29:29.491525423   \n",
       "max    800.000000            267 days 00:00:00           87 days 00:00:00   \n",
       "\n",
       "           centre  \n",
       "           is_amc  \n",
       "count  478.000000  \n",
       "mean     0.529289  \n",
       "std      0.499664  \n",
       "min      0.000000  \n",
       "25%      0.000000  \n",
       "50%      1.000000  \n",
       "75%      1.000000  \n",
       "max      1.000000  "
      ]
     },
     "execution_count": 10,
     "metadata": {},
     "output_type": "execute_result"
    }
   ],
   "source": [
    "def date_range(dates):\n",
    "    dates = list(dates)\n",
    "    return pd.Timedelta(dates[-1] - dates[0])\n",
    "\n",
    "def date_spread(dates):\n",
    "    diffs = []\n",
    "    for t1, t2 in zip(dates, dates[1:]):\n",
    "        diffs.append(pd.Timedelta(t2 - t1))\n",
    "    return np.mean(diffs)\n",
    "\n",
    "def is_amc(strs):\n",
    "    return 1 if list(strs)[0] == 'AMC' else 0\n",
    "\n",
    "# Make a dataframe for generating our patient-selection features\n",
    "_df = df.copy()\n",
    "_df['date'] = pd.to_datetime(_df['date'])\n",
    "_df = _df.groupby(['patient_id']).agg({'note_id': 'nunique', 'date': [date_range, date_spread, 'first', 'last'], 'centre': is_amc})\n",
    "_df.describe()"
   ]
  },
  {
   "cell_type": "code",
   "execution_count": 11,
   "metadata": {},
   "outputs": [
    {
     "data": {
      "text/plain": [
       "(Timestamp('2020-03-30 13:09:17.322175744'),\n",
       " Timestamp('2020-07-25 20:50:12.552301056'))"
      ]
     },
     "execution_count": 11,
     "metadata": {},
     "output_type": "execute_result"
    }
   ],
   "source": [
    "_df[('date', 'first')].mean(), _df[('date', 'last')].mean()"
   ]
  },
  {
   "cell_type": "code",
   "execution_count": 12,
   "metadata": {},
   "outputs": [
    {
     "name": "stdout",
     "output_type": "stream",
     "text": [
      "Selected patients: 84\n"
     ]
    },
    {
     "data": {
      "text/html": [
       "<div>\n",
       "<style scoped>\n",
       "    .dataframe tbody tr th:only-of-type {\n",
       "        vertical-align: middle;\n",
       "    }\n",
       "\n",
       "    .dataframe tbody tr th {\n",
       "        vertical-align: top;\n",
       "    }\n",
       "\n",
       "    .dataframe thead tr th {\n",
       "        text-align: left;\n",
       "    }\n",
       "</style>\n",
       "<table border=\"1\" class=\"dataframe\">\n",
       "  <thead>\n",
       "    <tr>\n",
       "      <th></th>\n",
       "      <th>note_id</th>\n",
       "      <th colspan=\"2\" halign=\"left\">date</th>\n",
       "      <th>centre</th>\n",
       "    </tr>\n",
       "    <tr>\n",
       "      <th></th>\n",
       "      <th>nunique</th>\n",
       "      <th>date_range</th>\n",
       "      <th>date_spread</th>\n",
       "      <th>is_amc</th>\n",
       "    </tr>\n",
       "  </thead>\n",
       "  <tbody>\n",
       "    <tr>\n",
       "      <th>count</th>\n",
       "      <td>84.000000</td>\n",
       "      <td>84</td>\n",
       "      <td>84</td>\n",
       "      <td>84.000000</td>\n",
       "    </tr>\n",
       "    <tr>\n",
       "      <th>mean</th>\n",
       "      <td>58.488095</td>\n",
       "      <td>127 days 10:34:17.142857142</td>\n",
       "      <td>2 days 09:03:24.405685688</td>\n",
       "      <td>0.535714</td>\n",
       "    </tr>\n",
       "    <tr>\n",
       "      <th>std</th>\n",
       "      <td>20.994832</td>\n",
       "      <td>32 days 16:18:10.891781388</td>\n",
       "      <td>0 days 20:06:19.878978775</td>\n",
       "      <td>0.501718</td>\n",
       "    </tr>\n",
       "    <tr>\n",
       "      <th>min</th>\n",
       "      <td>28.000000</td>\n",
       "      <td>32 days 00:00:00</td>\n",
       "      <td>1 days 01:27:16.363636363</td>\n",
       "      <td>0.000000</td>\n",
       "    </tr>\n",
       "    <tr>\n",
       "      <th>25%</th>\n",
       "      <td>42.750000</td>\n",
       "      <td>109 days 06:00:00</td>\n",
       "      <td>1 days 16:24:01.139240506</td>\n",
       "      <td>0.000000</td>\n",
       "    </tr>\n",
       "    <tr>\n",
       "      <th>50%</th>\n",
       "      <td>54.500000</td>\n",
       "      <td>135 days 12:00:00</td>\n",
       "      <td>2 days 08:11:41.451990632</td>\n",
       "      <td>1.000000</td>\n",
       "    </tr>\n",
       "    <tr>\n",
       "      <th>75%</th>\n",
       "      <td>73.000000</td>\n",
       "      <td>153 days 06:00:00</td>\n",
       "      <td>3 days 01:10:00</td>\n",
       "      <td>1.000000</td>\n",
       "    </tr>\n",
       "    <tr>\n",
       "      <th>max</th>\n",
       "      <td>112.000000</td>\n",
       "      <td>178 days 00:00:00</td>\n",
       "      <td>3 days 23:15:00</td>\n",
       "      <td>1.000000</td>\n",
       "    </tr>\n",
       "  </tbody>\n",
       "</table>\n",
       "</div>"
      ],
      "text/plain": [
       "          note_id                         date                             \\\n",
       "          nunique                   date_range                date_spread   \n",
       "count   84.000000                           84                         84   \n",
       "mean    58.488095  127 days 10:34:17.142857142  2 days 09:03:24.405685688   \n",
       "std     20.994832   32 days 16:18:10.891781388  0 days 20:06:19.878978775   \n",
       "min     28.000000             32 days 00:00:00  1 days 01:27:16.363636363   \n",
       "25%     42.750000            109 days 06:00:00  1 days 16:24:01.139240506   \n",
       "50%     54.500000            135 days 12:00:00  2 days 08:11:41.451990632   \n",
       "75%     73.000000            153 days 06:00:00            3 days 01:10:00   \n",
       "max    112.000000            178 days 00:00:00            3 days 23:15:00   \n",
       "\n",
       "          centre  \n",
       "          is_amc  \n",
       "count  84.000000  \n",
       "mean    0.535714  \n",
       "std     0.501718  \n",
       "min     0.000000  \n",
       "25%     0.000000  \n",
       "50%     1.000000  \n",
       "75%     1.000000  \n",
       "max     1.000000  "
      ]
     },
     "execution_count": 12,
     "metadata": {},
     "output_type": "execute_result"
    }
   ],
   "source": [
    "selection =_df[(\n",
    "        _df[('note_id', 'nunique')].between(27, 112) )&(\n",
    "        _df[('date', 'date_range')].between('30 days', '180 days') )&(\n",
    "        _df[('date', 'date_spread')].between('1 days', '4 days') )&(\n",
    "        _df[('date', 'first')].between('2020-03-15', '2020-08-01')\n",
    "    )]\n",
    "selected_patients = selection.reset_index().patient_id.unique()\n",
    "print(\"Selected patients:\", len(selected_patients))\n",
    "selection.describe()"
   ]
  },
  {
   "cell_type": "code",
   "execution_count": 13,
   "metadata": {},
   "outputs": [
    {
     "name": "stdout",
     "output_type": "stream",
     "text": [
      "84\n",
      "[1825193, 1824900, 4883738, 1825349, 1683660, 9172964, 1826096, 1825973, 1826295, 6308072, 1826470, 1826708, 1035156, 8297685, 3286406, 4099178, 1776065, 4174967, 1827868, 1516667, 1827925, 1828106, 1828353, 1827855, 1828039, 6403079, 7474489, 7391983, 1828584, 8227934, 6779382, 3007670, 1828811, 1829083, 8012257, 1228841, 1829326, 1829557, 7704030, 1830231, 1830250, 1830607, 772676, 2974474, 9058241, 1830568, 8293683, 7052538, 1830514, 3174190, 9426094, 1628243, 1831152, 3949143, 8581219, 7002288, 1833136, 4715790, 1733802, 7594581, 1834688, 1834711, 1834253, 957223, 2727819, 1701305, 4190540, 1836190, 1245032, 7283210, 2977287, 7651109, 4667364, 1810046, 6260057, 7843710, 8555667, 8920715, 3850656, 8776560, 1845127, 7256295, 1847708, 1848618]\n"
     ]
    }
   ],
   "source": [
    "# Filter overall dataset by the specified patients\n",
    "df_subjects = df[df.patient_id.isin(selected_patients)]\n",
    "print(df_subjects.patient_id.nunique())\n",
    "candidate_ids = list(df_subjects.patient_id.unique())\n",
    "print(candidate_ids)"
   ]
  },
  {
   "cell_type": "code",
   "execution_count": 14,
   "metadata": {},
   "outputs": [
    {
     "name": "stdout",
     "output_type": "stream",
     "text": [
      "84\n",
      "[1825193, 1824900, 4883738, 1825349, 1683660, 9172964, 1826096, 1825973, 1826295, 6308072, 1826470, 1826708, 1035156, 8297685, 3286406, 4099178, 1776065, 4174967, 1827868, 1516667, 1827925, 1828106, 1828353, 1827855, 1828039, 6403079, 7474489, 7391983, 1828584, 8227934, 6779382, 3007670, 1828811, 1829083, 8012257, 1228841, 1829326, 1829557, 7704030, 1830231, 1830250, 1830607, 772676, 2974474, 9058241, 1830568, 8293683, 7052538, 1830514, 3174190, 9426094, 1628243, 1831152, 3949143, 8581219, 7002288, 1833136, 4715790, 1733802, 7594581, 1834688, 1834711, 1834253, 957223, 2727819, 1701305, 4190540, 1836190, 1245032, 7283210, 2977287, 7651109, 4667364, 1810046, 6260057, 7843710, 8555667, 8920715, 3850656, 8776560, 1845127, 7256295, 1847708, 1848618]\n"
     ]
    }
   ],
   "source": [
    "# Remove patients that were in the training dataset for NLP models\n",
    "\n",
    "used_patients = [1828641, 1185845, 1831037, 4326354, 7984077, 2149576, 5019042, 8381579, 8089852, 2305497, 1835614, 1832701, 1202301, 2307176, 3728030, 5848191, 3259094, 1829964, 1829556, 1833261, 3205083, 1830570, 1830183, 1695264, 1049919, 762325, 5704617, 1832313, 6235501, 1830682, 4685903, 7205475, 4696494, 2850556, 1829957, 1834390, 1836576, 1827821, 1550849, 4452515, 9817236, 2919660, 1812801, 9816148, 2900519, 1877479, 5356404, 9220100, 1829928, 4002536, 9256011, 1835625, 1188552, 8770138, 1830212, 9556081, 4321077, 1610429, 1834150, 8866717]\n",
    "\n",
    "for p in used_patients:\n",
    "    if p in candidate_ids:\n",
    "        candidate_ids.remove(p)\n",
    "    \n",
    "print(len(candidate_ids))\n",
    "print(candidate_ids)"
   ]
  },
  {
   "cell_type": "code",
   "execution_count": 15,
   "metadata": {},
   "outputs": [
    {
     "name": "stdout",
     "output_type": "stream",
     "text": [
      "Train\n",
      " [1834253, 1825349, 4174967, 7704030, 1826295, 4190540, 1826096, 1829326, 7843710, 1834711, 9426094, 8293683, 1847708, 4099178, 7391983, 1830607, 7474489, 1830514, 1828039, 2974474, 1845127, 8920715, 4715790, 1828811, 8776560, 7594581, 957223, 4667364, 1829557, 8227934, 1824900, 1831152, 1828106, 4883738, 1827855, 3850656, 6260057, 1827925, 1834688, 7651109, 3286406, 1628243]\n",
      "\n",
      "\n",
      "Test\n",
      " [1810046, 1825193, 1733802, 1828353, 1035156, 2977287, 1826470, 1827868, 1683660, 1701305, 1830250, 7052538, 1228841, 7256295, 7002288, 8581219, 1829083, 8555667, 772676, 3174190, 1826708, 6779382, 1830231, 1828584, 6308072, 1245032, 9172964, 1830568, 3007670, 8012257, 9058241, 1848618, 1776065, 2727819, 1825973, 1836190, 1833136, 1516667, 7283210, 6403079, 3949143, 8297685]\n"
     ]
    },
    {
     "data": {
      "text/plain": [
       "(42, 42)"
      ]
     },
     "execution_count": 15,
     "metadata": {},
     "output_type": "execute_result"
    }
   ],
   "source": [
    "# Let's split that into two sets (one for annotated test set, one for train set)\n",
    "from sklearn.model_selection import train_test_split\n",
    "\n",
    "train_ids, test_ids = train_test_split(candidate_ids, random_state=42, test_size=0.5)\n",
    "print('Train\\n', train_ids)\n",
    "print('\\n\\nTest\\n', test_ids)\n",
    "\n",
    "len(train_ids), len(test_ids)"
   ]
  },
  {
   "cell_type": "code",
   "execution_count": 17,
   "metadata": {},
   "outputs": [],
   "source": [
    "df[df.patient_id.isin(train_ids)].to_csv('../data/timeseries_covid_train.tsv', sep='\\t', index=False)"
   ]
  },
  {
   "cell_type": "markdown",
   "metadata": {},
   "source": [
    "# Exporting the notes for selected patients to Excel files"
   ]
  },
  {
   "cell_type": "code",
   "execution_count": 38,
   "metadata": {},
   "outputs": [
    {
     "name": "stderr",
     "output_type": "stream",
     "text": [
      "100%|██████████| 42/42 [00:03<00:00, 13.71it/s]\n"
     ]
    }
   ],
   "source": [
    "EXCEL_DIR = '../sheets'\n",
    "\n",
    "for pid in tqdm(test_ids):\n",
    "    # Select the patient's data\n",
    "    _df = df[df.patient_id == pid]\n",
    "    # Discard extra columns and sort chronologically\n",
    "    _df = _df[['centre', 'patient_id', 'note_id', 'note_csn', 'date', 'type', 'note']].sort_values('date').reset_index(drop=True)\n",
    "    # Add columns for annotating\n",
    "    for c in ['STM', 'INS', 'BER', 'FAC']:\n",
    "        _df[f\"{c}_level\"] = np.nan\n",
    "    # Move note column to the end\n",
    "    cols = list(_df.columns)\n",
    "    cols.remove('note')\n",
    "    _df = _df[[*cols, 'note']]\n",
    "    \n",
    "    # Get the medical centre\n",
    "    centre = str(_df['centre'].values[0])\n",
    "    \n",
    "    # Export to excel file\n",
    "    _df.to_excel(f\"{EXCEL_DIR}/annot_{pid}_{centre}.xlsx\", index=False, freeze_panes=(1, 11))"
   ]
  },
  {
   "cell_type": "markdown",
   "metadata": {},
   "source": [
    "# Testing the EXCEL export"
   ]
  },
  {
   "cell_type": "code",
   "execution_count": null,
   "metadata": {},
   "outputs": [],
   "source": [
    "TEST_ID = 3449606\n",
    "_df = df[df.patient_id == TEST_ID]\n",
    "_df = _df[['centre', 'patient_id', 'note_id', 'note_csn', 'date', 'type', 'note']].sort_values('date').reset_index(drop=True)\n",
    "for c in ['STM', 'INS', 'BER', 'FAC']:\n",
    "    _df[f\"{c}_level\"] = np.nan\n",
    "cols = list(_df.columns)\n",
    "cols.remove('note')\n",
    "_df = _df[[*cols, 'note']]\n",
    "_df"
   ]
  },
  {
   "cell_type": "code",
   "execution_count": 46,
   "metadata": {},
   "outputs": [],
   "source": [
    "_df.to_excel('../sheets/test_annotatable.xlsx', index=False)"
   ]
  },
  {
   "cell_type": "code",
   "execution_count": null,
   "metadata": {},
   "outputs": [],
   "source": [
    "df_annot = pd.read_excel('../sheets/test_annotatable.xlsx')\n",
    "df_annot"
   ]
  },
  {
   "cell_type": "code",
   "execution_count": 54,
   "metadata": {},
   "outputs": [
    {
     "name": "stdout",
     "output_type": "stream",
     "text": [
      "Addendum notitie\n",
      "Anesthesie pre-op. evaluatie\n",
      "Anesthesie verrichtingsnotities\n",
      "Begeleidingsadviezen en afspraken\n",
      "Brief\n",
      "Consulten\n",
      "Consulten (niet-arts)\n",
      "Crisisplan\n",
      "Dagprogramma (tijdens opname)\n",
      "Familiegesprek\n",
      "Groepstherapie\n",
      "Informatiekluis\n",
      "Intake psychiatrie\n",
      "Lactatie-notitie\n",
      "MDO voorbereiding\n",
      "MDO-verslag\n",
      "Notitie voor beoordeling & plan\n",
      "OBS Beleid\n",
      "OK notitie\n",
      "Observatielijst\n",
      "Ontslag - Instructies bij problemen/complicaties\n",
      "Ontslag - Instructies wond/drains/lijnen etc\n",
      "Ontslag - Medische instructies\n",
      "Ontslaginstr. - activiteit\n",
      "Ontslaginstr. - afspraken\n",
      "Ontslaginstr. - apotheek\n",
      "Ontslaginstr. - dieet\n",
      "Ontslaginstr. - overige orders\n",
      "Ontslagsamenvattingen\n",
      "Operatie verslag\n",
      "Patiëntinstructies\n",
      "Postop. evaluatie anesthesie\n",
      "Research notitie\n",
      "SEH arts notitie\n",
      "SEH verslag\n",
      "SEH-triagenotities\n",
      "Signaleringsplan psychiatrie\n",
      "Telefonisch contact\n",
      "VK-bevallingsverslag\n",
      "VPK verloop opname\n",
      "Verpleegkundig verslag\n",
      "Verpleegkundige notitie op SEH\n",
      "Verrichtingen\n",
      "Voortgangsverslag\n",
      "Zorgoverdracht\n",
      "Zorgplan/VPK rapportage\n",
      "nan\n"
     ]
    }
   ],
   "source": [
    "# Make a list of all the different types of notes\n",
    "types = list(df_vumc.type.unique())\n",
    "types.extend(list(df_amc.type.unique()))\n",
    "types = [str(t) for t in list(set(types))]\n",
    "for t in sorted(types):\n",
    "    print(t)"
   ]
  },
  {
   "cell_type": "code",
   "execution_count": null,
   "metadata": {},
   "outputs": [],
   "source": []
  }
 ],
 "metadata": {
  "kernelspec": {
   "display_name": "Python 3",
   "language": "python",
   "name": "python3"
  },
  "language_info": {
   "codemirror_mode": {
    "name": "ipython",
    "version": 3
   },
   "file_extension": ".py",
   "mimetype": "text/x-python",
   "name": "python",
   "nbconvert_exporter": "python",
   "pygments_lexer": "ipython3",
   "version": "3.6.5"
  }
 },
 "nbformat": 4,
 "nbformat_minor": 4
}
