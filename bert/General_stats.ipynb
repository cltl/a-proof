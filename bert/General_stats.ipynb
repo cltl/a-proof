{
 "cells": [
  {
   "cell_type": "code",
   "execution_count": 1,
   "metadata": {},
   "outputs": [],
   "source": [
    "import pickle\n",
    "from class_definitions import Annotation, BertContainer\n",
    "import pandas as pd"
   ]
  },
  {
   "cell_type": "code",
   "execution_count": 2,
   "metadata": {},
   "outputs": [
    {
     "name": "stdout",
     "output_type": "stream",
     "text": [
      "[<class_definitions.BertContainer object at 0x0000025F6ED4AC18>, <class_definitions.BertContainer object at 0x0000025F71008128>]\n"
     ]
    }
   ],
   "source": [
    "#pkl_file = open(\"Container16_notities_2017_deel1_cleaned.csv---2503.conll_avelli.pkl\", \"rb\")\n",
    "pkl_filepath = '../sample_data/BERTContainers/Container_notities_2017_deel1_cleaned.csv---25032_avelli.pkl'\n",
    "\n",
    "pkl_file = open(pkl_filepath, \"rb\")\n",
    "data = pickle.load(pkl_file)\n",
    "print(data)"
   ]
  },
  {
   "cell_type": "code",
   "execution_count": 4,
   "metadata": {},
   "outputs": [
    {
     "name": "stdout",
     "output_type": "stream",
     "text": [
      ".B152: Stemming\n",
      "STM 0\n",
      "STM 1\n",
      "stm\\_reaction\n",
      ".B152: Stemming\n"
     ]
    },
    {
     "data": {
      "text/plain": [
       "1"
      ]
     },
     "execution_count": 4,
     "metadata": {},
     "output_type": "execute_result"
    }
   ],
   "source": [
    "# self.key = key\n",
    "# self.annotator = annotator\n",
    "# self.sen_id = sen_id\n",
    "# self.sen = sen\n",
    "# self.encoding = encoding\n",
    "# self.annot = []\n",
    "\n",
    "domain_list = ['.B152: Stemming', 'insp tol']\n",
    "gradation = ['STM 0', 'STM 1']\n",
    "\n",
    "sentence_count = 0\n",
    "sentence_with_label = 0\n",
    "sentence_with_domain = 0\n",
    "\n",
    "for BertContainer in data:\n",
    "    sentence_count += 1\n",
    "    sentence_with_domain_bool = False\n",
    "    if len(BertContainer.annot) != 0:\n",
    "        sentence_with_label += 1\n",
    "        \n",
    "    for annotation in BertContainer.annot:\n",
    "        print(annotation.label)\n",
    "        if annotation.label in domain_list:\n",
    "            \n",
    "            sentence_with_domain_bool = True\n",
    "    if sentence_with_domain_bool == True:\n",
    "        sentence_with_domain += 0\n",
    "sentence_with_label"
   ]
  },
  {
   "cell_type": "code",
   "execution_count": 34,
   "metadata": {},
   "outputs": [
    {
     "name": "stdout",
     "output_type": "stream",
     "text": [
      "[]\n",
      "['.B152: Stemming', 'STM 0', 'STM 1', 'stm\\\\_reaction', '.B152: Stemming']\n"
     ]
    }
   ],
   "source": [
    "domain_list = ['.B152: Stemming', 'insp tol']\n",
    "gradation = ['STM 0', 'STM 1', 'INS 4']\n",
    "\n",
    "labels_count = 0\n",
    "sentences_count = 0\n",
    "\n",
    "\n",
    "for BertContainer in data:\n",
    "    # gather annotations\n",
    "    annotation_list = []\n",
    "    if len(BertContainer.annot) != 0:\n",
    "        for annotation in BertContainer.annot:\n",
    "            annotation_list.append(annotation.label)\n",
    "    print(annotation_list)\n",
    "    \n",
    "    "
   ]
  },
  {
   "cell_type": "code",
   "execution_count": null,
   "metadata": {},
   "outputs": [],
   "source": []
  }
 ],
 "metadata": {
  "kernelspec": {
   "display_name": "Python 3",
   "language": "python",
   "name": "python3"
  },
  "language_info": {
   "codemirror_mode": {
    "name": "ipython",
    "version": 3
   },
   "file_extension": ".py",
   "mimetype": "text/x-python",
   "name": "python",
   "nbconvert_exporter": "python",
   "pygments_lexer": "ipython3",
   "version": "3.7.3"
  }
 },
 "nbformat": 4,
 "nbformat_minor": 2
}
