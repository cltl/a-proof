{
 "cells": [
  {
   "cell_type": "code",
   "execution_count": 7,
   "metadata": {},
   "outputs": [],
   "source": [
    "import pickle\n",
    "from class_definitions import Annotation, BertContainer\n",
    "import pandas as pd\n",
    "import glob\n",
    "from collections import Counter"
   ]
  },
  {
   "cell_type": "code",
   "execution_count": 2,
   "metadata": {},
   "outputs": [],
   "source": [
    "#pkl_file = open(\"Container16_notities_2017_deel1_cleaned.csv---2503.conll_avelli.pkl\", \"rb\")\n",
    "pkl_filepath = '../sample_data/BERTContainers/Container_notities_2017_deel1_cleaned.csv---25032_avelli.pkl'\n",
    "pkl_folderpath = '../sample_data/BERTContainers/'\n"
   ]
  },
  {
   "cell_type": "code",
   "execution_count": 18,
   "metadata": {},
   "outputs": [
    {
     "name": "stdout",
     "output_type": "stream",
     "text": [
      "Total amount of sentences 24\n",
      "Total amount of documents 9\n",
      "Total amount of labels 35\n",
      "Amount of domain_labels 11\n",
      "Total amount of sentences that contain labels 16\n",
      "Amount of sentences that contain domain labels 9\n",
      "Amount of sentences that contain domain and gradation label in same sentence 5\n",
      "Amount of sentences with repeated labels 4\n",
      "Amount of sentences with repeated domain labels 2\n",
      "{'.B152: Stemming': 4, 'STM 0': 2, 'STM 1': 2, 'stm\\\\_reaction': 1, 'type\\\\_Background': 13, '.D450: Lopen en zich verplaatsen': 7, 'FAC 3': 1, 'type\\\\_Implicit': 2, 'FAC 1': 1, 'FAC 2': 1, 'FAC 4': 1}\n"
     ]
    }
   ],
   "source": [
    "domain_set = {'.B152: Stemming', '.D450: Lopen en zich verplaatsen'}\n",
    "\n",
    "gradation_stm = {'STM 0', 'STM 1', 'STM 2', 'STM 3', 'STM 4'}\n",
    "gradation_ins = {'INS 0', 'INS 1', 'INS 2', 'INS 3', 'INS 4', 'INS 5'}\n",
    "gradation_lop = {'FAC 0', 'FAC 1', 'FAC 2', 'FAC 3', 'FAC 4', 'FAC 5'}\n",
    "gradation_ber = {'BER 0', 'BER 1', 'BER 2', 'BER 3', 'BER 4'}\n",
    "\n",
    "gradation_set = gradation_stm | gradation_ins | gradation_ber | gradation_lop\n",
    "\n",
    "sentences_count = 0\n",
    "doc_count = 0\n",
    "domain_and_gradation_same_sentence = 0\n",
    "sentences_with_labels = 0\n",
    "domain_and_gradation = 0\n",
    "sentences_with_domain = 0\n",
    "double_labels = 0\n",
    "double_domain_label = 0\n",
    "document_with_background = 0\n",
    "document_with_target = 0\n",
    "label_count_dict = dict()\n",
    "\n",
    "for pkl_filepath in glob.glob(pkl_folderpath+'*'):\n",
    "    doc_count += 1\n",
    "    pkl_file = open(pkl_filepath, \"rb\")\n",
    "    document = pickle.load(pkl_file)\n",
    "    \n",
    "    document_annotation_set = set()\n",
    "\n",
    "    # One BertContainer contains info of one sentence\n",
    "    for BertContainer in document:\n",
    "        # gather annotations\n",
    "        annotation_list = []\n",
    "        if len(BertContainer.annot) != 0:\n",
    "            for annotation in BertContainer.annot:\n",
    "                annotation_list.append(annotation.label)\n",
    "                if annotation.label in label_count_dict:\n",
    "                    label_count_dict[annotation.label] += 1\n",
    "                else:\n",
    "                    label_count_dict[annotation.label] = 1\n",
    "        annotation_set = set(annotation_list)\n",
    "        document_annotation_set = document_annotation_set | annotation_set\n",
    "\n",
    "        # get counts\n",
    "        sentences_count += 1\n",
    "\n",
    "        if len(annotation_list) != 0:\n",
    "            sentences_with_labels += 1\n",
    "        \n",
    "        if len(annotation_list) != len(annotation_set):\n",
    "            double_labels += 1\n",
    "            annotation_counter = Counter(annotation_list)\n",
    "            for domain in domain_set:\n",
    "                if annotation_counter[domain] > 1:\n",
    "                    double_domain_label += 1\n",
    "                    break\n",
    "\n",
    "        # check domain label\n",
    "        if len(annotation_set & domain_set) != 0:\n",
    "            sentences_with_domain += 1\n",
    "            if len(annotation_set & gradation_set) != 0:\n",
    "                if '.B152: Stemming' in annotation_set and len(annotation_set & gradation_stm) != 0:\n",
    "                    domain_and_gradation_same_sentence += 1\n",
    "                elif '.D450: Lopen en zich verplaatsen' in annotation_set and len(annotation_set & gradation_lop) != 0:\n",
    "                    domain_and_gradation_same_sentence += 1\n",
    "                # TODO add other domains\n",
    "                    \n",
    "    if 'type\\\\_Background' in document_annotation_set:\n",
    "        document_with_background += 1\n",
    "        \n",
    "    if 'type\\\\_Target' in document_annotation_set: # TODO check spelling\n",
    "        document_with_target += 1\n",
    "    \n",
    "print('Total amount of sentences', sentences_count)\n",
    "print('Total amount of documents', doc_count)\n",
    "print('Total amount of labels', sum(label_count_dict.values()))\n",
    "\n",
    "domain_labels_count = 0\n",
    "for label in domain_set:\n",
    "    domain_labels_count += label_count_dict[label]\n",
    "print('Amount of domain_labels', domain_labels_count)\n",
    "print('Total amount of sentences that contain labels', sentences_with_labels)\n",
    "print('Amount of sentences that contain domain labels', sentences_with_domain)\n",
    "print('Amount of sentences that contain domain and gradation label in same sentence', domain_and_gradation_same_sentence)\n",
    "\n",
    "print('Amount of sentences with repeated labels', double_labels)\n",
    "print('Amount of sentences with repeated domain labels', double_domain_label)\n",
    "\n",
    "print(label_count_dict)"
   ]
  },
  {
   "cell_type": "code",
   "execution_count": null,
   "metadata": {},
   "outputs": [],
   "source": []
  }
 ],
 "metadata": {
  "kernelspec": {
   "display_name": "Python 3",
   "language": "python",
   "name": "python3"
  },
  "language_info": {
   "codemirror_mode": {
    "name": "ipython",
    "version": 3
   },
   "file_extension": ".py",
   "mimetype": "text/x-python",
   "name": "python",
   "nbconvert_exporter": "python",
   "pygments_lexer": "ipython3",
   "version": "3.7.3"
  }
 },
 "nbformat": 4,
 "nbformat_minor": 2
}
