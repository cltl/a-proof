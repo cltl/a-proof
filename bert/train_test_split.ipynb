{
 "cells": [
  {
   "cell_type": "code",
   "execution_count": 29,
   "metadata": {},
   "outputs": [],
   "source": [
    "import pickle\n",
    "from class_definitions import Annotation, BertContainer\n",
    "import pandas as pd"
   ]
  },
  {
   "cell_type": "code",
   "execution_count": 11,
   "metadata": {},
   "outputs": [
    {
     "name": "stdout",
     "output_type": "stream",
     "text": [
      "[<class_definitions.BertContainer object at 0x00000213C2D50EB8>, <class_definitions.BertContainer object at 0x00000213C2D55048>]\n"
     ]
    }
   ],
   "source": [
    "#pkl_file = open(\"Container16_notities_2017_deel1_cleaned.csv---2503.conll_avelli.pkl\", \"rb\")\n",
    "pkl_filepath = '../sample_data/BERTContainers/Container_notities_2017_deel1_cleaned.csv---2503_avelli.pkl'\n",
    "\n",
    "pkl_file = open(pkl_filepath, \"rb\")\n",
    "data = pickle.load(pkl_file)\n",
    "print(data)"
   ]
  },
  {
   "cell_type": "code",
   "execution_count": null,
   "metadata": {},
   "outputs": [],
   "source": [
    "df = pd.DataFrame(header=)"
   ]
  },
  {
   "cell_type": "code",
   "execution_count": 28,
   "metadata": {},
   "outputs": [
    {
     "name": "stdout",
     "output_type": "stream",
     "text": [
      "notities_2017_deel1_cleaned.csv---2503\n",
      "avelli\n",
      "1\n",
      "NF : Pijn in de rug , verlicht met warme handdoek en pcm .\n",
      "12345\n",
      "notities_2017_deel1_cleaned.csv---2503\n",
      "avelli\n",
      "2\n",
      "Mw was emotioneel , schoonzoon hoort morgen de uitslag van een aantal onderzoeken en mw maakt zich hier veel zorgen om .\n",
      "[('t16', 'maakt'), ('t17', 'zich'), ('t18', 'hier'), ('t19', 'veel'), ('t20', 'zorgen')]\n",
      ".B152: Stemming\n",
      "[('t19', 'veel'), ('t20', 'zorgen')]\n",
      "STM 0\n",
      "[('t3', 'emotioneel')]\n",
      ".B152: Stemming\n",
      "[('t5', 'schoonzoon'), ('t6', 'hoort'), ('t7', 'morgen'), ('t8', 'de'), ('t9', 'uitslag'), ('t10', 'van'), ('t11', 'een'), ('t12', 'aantal'), ('t13', 'onderzoeken')]\n",
      "stm\\_reaction\n",
      "[('t3', 'emotioneel')]\n",
      "STM 1\n",
      "12345\n",
      ".B152: Stemming\n",
      "\n",
      "notities_2017_deel1_cleaned.csv---2503\n",
      "avelli\n",
      "2\n",
      "Mw was emotioneel , schoonzoon hoort morgen de uitslag van een aantal onderzoeken en mw maakt zich hier veel zorgen om .\n",
      "[('t16', 'maakt'), ('t17', 'zich'), ('t18', 'hier'), ('t19', 'veel'), ('t20', 'zorgen')]\n",
      ".B152: Stemming\n",
      "[('t19', 'veel'), ('t20', 'zorgen')]\n",
      "STM 0\n",
      "[('t3', 'emotioneel')]\n",
      ".B152: Stemming\n",
      "[('t5', 'schoonzoon'), ('t6', 'hoort'), ('t7', 'morgen'), ('t8', 'de'), ('t9', 'uitslag'), ('t10', 'van'), ('t11', 'een'), ('t12', 'aantal'), ('t13', 'onderzoeken')]\n",
      "stm\\_reaction\n",
      "[('t3', 'emotioneel')]\n",
      "STM 1\n",
      "12345\n",
      "STM 0\n",
      "\n",
      "notities_2017_deel1_cleaned.csv---2503\n",
      "avelli\n",
      "2\n",
      "Mw was emotioneel , schoonzoon hoort morgen de uitslag van een aantal onderzoeken en mw maakt zich hier veel zorgen om .\n",
      "[('t16', 'maakt'), ('t17', 'zich'), ('t18', 'hier'), ('t19', 'veel'), ('t20', 'zorgen')]\n",
      ".B152: Stemming\n",
      "[('t19', 'veel'), ('t20', 'zorgen')]\n",
      "STM 0\n",
      "[('t3', 'emotioneel')]\n",
      ".B152: Stemming\n",
      "[('t5', 'schoonzoon'), ('t6', 'hoort'), ('t7', 'morgen'), ('t8', 'de'), ('t9', 'uitslag'), ('t10', 'van'), ('t11', 'een'), ('t12', 'aantal'), ('t13', 'onderzoeken')]\n",
      "stm\\_reaction\n",
      "[('t3', 'emotioneel')]\n",
      "STM 1\n",
      "12345\n",
      ".B152: Stemming\n",
      "\n",
      "notities_2017_deel1_cleaned.csv---2503\n",
      "avelli\n",
      "2\n",
      "Mw was emotioneel , schoonzoon hoort morgen de uitslag van een aantal onderzoeken en mw maakt zich hier veel zorgen om .\n",
      "[('t16', 'maakt'), ('t17', 'zich'), ('t18', 'hier'), ('t19', 'veel'), ('t20', 'zorgen')]\n",
      ".B152: Stemming\n",
      "[('t19', 'veel'), ('t20', 'zorgen')]\n",
      "STM 0\n",
      "[('t3', 'emotioneel')]\n",
      ".B152: Stemming\n",
      "[('t5', 'schoonzoon'), ('t6', 'hoort'), ('t7', 'morgen'), ('t8', 'de'), ('t9', 'uitslag'), ('t10', 'van'), ('t11', 'een'), ('t12', 'aantal'), ('t13', 'onderzoeken')]\n",
      "stm\\_reaction\n",
      "[('t3', 'emotioneel')]\n",
      "STM 1\n",
      "12345\n",
      "stm\\_reaction\n",
      "\n",
      "notities_2017_deel1_cleaned.csv---2503\n",
      "avelli\n",
      "2\n",
      "Mw was emotioneel , schoonzoon hoort morgen de uitslag van een aantal onderzoeken en mw maakt zich hier veel zorgen om .\n",
      "[('t16', 'maakt'), ('t17', 'zich'), ('t18', 'hier'), ('t19', 'veel'), ('t20', 'zorgen')]\n",
      ".B152: Stemming\n",
      "[('t19', 'veel'), ('t20', 'zorgen')]\n",
      "STM 0\n",
      "[('t3', 'emotioneel')]\n",
      ".B152: Stemming\n",
      "[('t5', 'schoonzoon'), ('t6', 'hoort'), ('t7', 'morgen'), ('t8', 'de'), ('t9', 'uitslag'), ('t10', 'van'), ('t11', 'een'), ('t12', 'aantal'), ('t13', 'onderzoeken')]\n",
      "stm\\_reaction\n",
      "[('t3', 'emotioneel')]\n",
      "STM 1\n",
      "12345\n",
      "STM 1\n",
      "\n"
     ]
    }
   ],
   "source": [
    "self.key = key\n",
    "self.annotator = annotator\n",
    "self.sen_id = sen_id\n",
    "self.sen = sen\n",
    "self.encoding = encoding\n",
    "self.annot = []\n",
    "\n",
    "for BertContainer in data:\n",
    "    if len(BertContainer.annot) == 0:\n",
    "        BertContainer.print_container()\n",
    "    for annotation in BertContainer.annot:\n",
    "        BertContainer.print_container()\n",
    "        print(annotation.label)\n",
    "        print()"
   ]
  },
  {
   "cell_type": "code",
   "execution_count": null,
   "metadata": {},
   "outputs": [],
   "source": []
  }
 ],
 "metadata": {
  "kernelspec": {
   "display_name": "Python 3",
   "language": "python",
   "name": "python3"
  },
  "language_info": {
   "codemirror_mode": {
    "name": "ipython",
    "version": 3
   },
   "file_extension": ".py",
   "mimetype": "text/x-python",
   "name": "python",
   "nbconvert_exporter": "python",
   "pygments_lexer": "ipython3",
   "version": "3.7.3"
  }
 },
 "nbformat": 4,
 "nbformat_minor": 2
}
