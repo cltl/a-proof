{
 "cells": [
  {
   "cell_type": "code",
   "execution_count": 1,
   "metadata": {},
   "outputs": [],
   "source": [
    "#Container16_notities_2017_deel1_cleaned.csv---2503.conll_avelli.pkl"
   ]
  },
  {
   "cell_type": "code",
   "execution_count": 2,
   "metadata": {},
   "outputs": [
    {
     "name": "stdout",
     "output_type": "stream",
     "text": [
      "[{'notities_2017_deel1_cleaned.csv---2503': [('annotator', 'avelli'), ('sen_id', '1'), ('sen', 'NF : Pijn in de rug , verlicht met warme handdoek en pcm .'), ('annotations', []), ('encoding', 12345)]}, {'notities_2017_deel1_cleaned.csv---2503': [('annotator', 'avelli'), ('sen_id', '2'), ('sen', 'Mw was emotioneel , schoonzoon hoort morgen de uitslag van een aantal onderzoeken en mw maakt zich hier veel zorgen om .'), ('annotations', [<annotation.Annotation object at 0x0000017BC6A51B70>, <annotation.Annotation object at 0x0000017BC6A51E48>, <annotation.Annotation object at 0x0000017BC6A51EB8>, <annotation.Annotation object at 0x0000017BC6AE52B0>, <annotation.Annotation object at 0x0000017BC6AE5390>]), ('encoding', 12345)]}]\n"
     ]
    }
   ],
   "source": [
    "import pickle\n",
    "from annotation import Annotation\n",
    "\n",
    "#pkl_file = open(\"Container16_notities_2017_deel1_cleaned.csv---2503.conll_avelli.pkl\", \"rb\")\n",
    "pkl_filepath = '../sample_data/BERTContainers/Container_notities_2017_deel1_cleaned.csv---2503_avelli.pkl'\n",
    "\n",
    "pkl_file = open(pkl_filepath, \"rb\")\n",
    "info = pickle.load(pkl_file)\n",
    "print(info)"
   ]
  },
  {
   "cell_type": "code",
   "execution_count": 3,
   "metadata": {},
   "outputs": [
    {
     "name": "stdout",
     "output_type": "stream",
     "text": [
      "{'notities_2017_deel1_cleaned.csv---2503': [('annotator', 'avelli'), ('sen_id', '2'), ('sen', 'Mw was emotioneel , schoonzoon hoort morgen de uitslag van een aantal onderzoeken en mw maakt zich hier veel zorgen om .'), ('annotations', [<annotation.Annotation object at 0x0000017BC6A51B70>, <annotation.Annotation object at 0x0000017BC6A51E48>, <annotation.Annotation object at 0x0000017BC6A51EB8>, <annotation.Annotation object at 0x0000017BC6AE52B0>, <annotation.Annotation object at 0x0000017BC6AE5390>]), ('encoding', 12345)]}\n"
     ]
    }
   ],
   "source": [
    "zin2 = info[1]\n",
    "print(zin2)"
   ]
  },
  {
   "cell_type": "code",
   "execution_count": 6,
   "metadata": {},
   "outputs": [
    {
     "name": "stdout",
     "output_type": "stream",
     "text": [
      "('encoding', 12345)\n"
     ]
    }
   ],
   "source": [
    "tuple_hidden_states_zin2 = zin2['notities_2017_deel1_cleaned.csv---2503'][4]\n",
    "print(tuple_hidden_states_zin2)"
   ]
  },
  {
   "cell_type": "code",
   "execution_count": 7,
   "metadata": {},
   "outputs": [
    {
     "name": "stdout",
     "output_type": "stream",
     "text": [
      "12345\n"
     ]
    }
   ],
   "source": [
    "hidden_states = tuple_hidden_states_zin2[1]\n",
    "print(hidden_states)"
   ]
  },
  {
   "cell_type": "code",
   "execution_count": 8,
   "metadata": {},
   "outputs": [
    {
     "name": "stdout",
     "output_type": "stream",
     "text": [
      "Type of hidden_states:  <class 'int'>\n"
     ]
    },
    {
     "ename": "TypeError",
     "evalue": "'int' object is not subscriptable",
     "output_type": "error",
     "traceback": [
      "\u001b[1;31m---------------------------------------------------------------------------\u001b[0m",
      "\u001b[1;31mTypeError\u001b[0m                                 Traceback (most recent call last)",
      "\u001b[1;32m<ipython-input-8-d3733e2aad66>\u001b[0m in \u001b[0;36m<module>\u001b[1;34m\u001b[0m\n\u001b[0;32m      3\u001b[0m \u001b[1;33m\u001b[0m\u001b[0m\n\u001b[0;32m      4\u001b[0m \u001b[1;31m# Each layer in the list is a torch tensor.\u001b[0m\u001b[1;33m\u001b[0m\u001b[1;33m\u001b[0m\u001b[1;33m\u001b[0m\u001b[0m\n\u001b[1;32m----> 5\u001b[1;33m \u001b[0mprint\u001b[0m\u001b[1;33m(\u001b[0m\u001b[1;34m'Tensor shape for each layer: '\u001b[0m\u001b[1;33m,\u001b[0m \u001b[0mhidden_states\u001b[0m\u001b[1;33m[\u001b[0m\u001b[1;36m0\u001b[0m\u001b[1;33m]\u001b[0m\u001b[1;33m.\u001b[0m\u001b[0msize\u001b[0m\u001b[1;33m(\u001b[0m\u001b[1;33m)\u001b[0m\u001b[1;33m)\u001b[0m\u001b[1;33m\u001b[0m\u001b[1;33m\u001b[0m\u001b[0m\n\u001b[0m",
      "\u001b[1;31mTypeError\u001b[0m: 'int' object is not subscriptable"
     ]
    }
   ],
   "source": [
    "# `hidden_states` is a Python list.\n",
    "print('Type of hidden_states: ', type(hidden_states))\n",
    "\n",
    "# Each layer in the list is a torch tensor.\n",
    "print('Tensor shape for each layer: ', hidden_states[0].size())"
   ]
  },
  {
   "cell_type": "code",
   "execution_count": 14,
   "metadata": {},
   "outputs": [],
   "source": [
    "import torch\n",
    "# Take last 4 layers\n",
    "token_vecs = hidden_states[-4:][0]\n",
    "# Calculate the average\n",
    "sentence_embedding = torch.mean(token_vecs, dim=0)"
   ]
  },
  {
   "cell_type": "code",
   "execution_count": 22,
   "metadata": {},
   "outputs": [
    {
     "name": "stdout",
     "output_type": "stream",
     "text": [
      "Type of token_vecs:  <class 'torch.Tensor'>\n",
      "Size of token_vecs:  torch.Size([1, 25, 768])\n",
      "Type of sentence_embedding:  <class 'torch.Tensor'>\n",
      "Size of sentence_embedding:  torch.Size([25, 768])\n"
     ]
    }
   ],
   "source": [
    "# `token_vecs` is a tensor with shape [1 x 25 x 768]\n",
    "x = token_vecs.size()\n",
    "x2 = type(token_vecs)\n",
    "\n",
    "# `sentence_embedding` is a tensor with shape [25 x 768]\n",
    "y = sentence_embedding.size()\n",
    "y2 = type(sentence_embedding)\n",
    "\n",
    "print('Type of token_vecs: ', x2)\n",
    "print('Size of token_vecs: ', x)\n",
    "print('Type of sentence_embedding: ', y2)\n",
    "print('Size of sentence_embedding: ', y)"
   ]
  },
  {
   "cell_type": "code",
   "execution_count": 10,
   "metadata": {},
   "outputs": [
    {
     "ename": "KeyError",
     "evalue": "'notities_2017_deel1_cleaned.csv---2503.conll'",
     "output_type": "error",
     "traceback": [
      "\u001b[1;31m---------------------------------------------------------------------------\u001b[0m",
      "\u001b[1;31mKeyError\u001b[0m                                  Traceback (most recent call last)",
      "\u001b[1;32m<ipython-input-10-d38efc8e2b80>\u001b[0m in \u001b[0;36m<module>\u001b[1;34m\u001b[0m\n\u001b[1;32m----> 1\u001b[1;33m \u001b[0mannotations\u001b[0m \u001b[1;33m=\u001b[0m \u001b[0mzin2\u001b[0m\u001b[1;33m[\u001b[0m\u001b[1;34m'notities_2017_deel1_cleaned.csv---2503.conll'\u001b[0m\u001b[1;33m]\u001b[0m\u001b[1;33m[\u001b[0m\u001b[1;36m3\u001b[0m\u001b[1;33m]\u001b[0m\u001b[1;33m\u001b[0m\u001b[1;33m\u001b[0m\u001b[0m\n\u001b[0m\u001b[0;32m      2\u001b[0m \u001b[0mprint\u001b[0m\u001b[1;33m(\u001b[0m\u001b[0mannotations\u001b[0m\u001b[1;33m)\u001b[0m\u001b[1;33m\u001b[0m\u001b[1;33m\u001b[0m\u001b[0m\n",
      "\u001b[1;31mKeyError\u001b[0m: 'notities_2017_deel1_cleaned.csv---2503.conll'"
     ]
    }
   ],
   "source": [
    "annotations = zin2['notities_2017_deel1_cleaned.csv---2503.conll'][3]\n",
    "print(annotations)"
   ]
  },
  {
   "cell_type": "code",
   "execution_count": 28,
   "metadata": {},
   "outputs": [
    {
     "name": "stdout",
     "output_type": "stream",
     "text": [
      "[<annotation.Annotation object at 0x000001D6F4286208>, <annotation.Annotation object at 0x000001D6F42316D8>, <annotation.Annotation object at 0x000001D68493F048>, <annotation.Annotation object at 0x000001D68493F198>, <annotation.Annotation object at 0x000001D68493F390>]\n"
     ]
    }
   ],
   "source": [
    "annotation_instances = annotations[1]\n",
    "print(annotation_instances)"
   ]
  },
  {
   "cell_type": "code",
   "execution_count": 33,
   "metadata": {},
   "outputs": [
    {
     "name": "stdout",
     "output_type": "stream",
     "text": [
      "<annotation.Annotation object at 0x000001D6F4286208>\n"
     ]
    }
   ],
   "source": [
    "annotation1 = annotation_instances[0]\n",
    "print(annotation1)"
   ]
  },
  {
   "cell_type": "code",
   "execution_count": 35,
   "metadata": {},
   "outputs": [
    {
     "name": "stdout",
     "output_type": "stream",
     "text": [
      "[('t3', 'emotioneel')]\n",
      "STM 1\n"
     ]
    }
   ],
   "source": [
    "annotation1.print_annotation()"
   ]
  },
  {
   "cell_type": "code",
   "execution_count": 9,
   "metadata": {},
   "outputs": [
    {
     "ename": "KeyError",
     "evalue": "'notities_2017_deel1_cleaned.csv---2503.conll'",
     "output_type": "error",
     "traceback": [
      "\u001b[1;31m---------------------------------------------------------------------------\u001b[0m",
      "\u001b[1;31mKeyError\u001b[0m                                  Traceback (most recent call last)",
      "\u001b[1;32m<ipython-input-9-9bda450b5930>\u001b[0m in \u001b[0;36m<module>\u001b[1;34m\u001b[0m\n\u001b[1;32m----> 1\u001b[1;33m \u001b[0mzin2\u001b[0m\u001b[1;33m[\u001b[0m\u001b[1;34m'notities_2017_deel1_cleaned.csv---2503.conll'\u001b[0m\u001b[1;33m]\u001b[0m\u001b[1;33m[\u001b[0m\u001b[1;36m3\u001b[0m\u001b[1;33m]\u001b[0m\u001b[1;33m[\u001b[0m\u001b[1;36m1\u001b[0m\u001b[1;33m]\u001b[0m\u001b[1;33m[\u001b[0m\u001b[1;36m0\u001b[0m\u001b[1;33m]\u001b[0m\u001b[1;33m\u001b[0m\u001b[1;33m\u001b[0m\u001b[0m\n\u001b[0m",
      "\u001b[1;31mKeyError\u001b[0m: 'notities_2017_deel1_cleaned.csv---2503.conll'"
     ]
    }
   ],
   "source": [
    "zin2['notities_2017_deel1_cleaned.csv---2503.conll'][3][1][0]"
   ]
  },
  {
   "cell_type": "code",
   "execution_count": null,
   "metadata": {},
   "outputs": [],
   "source": []
  }
 ],
 "metadata": {
  "kernelspec": {
   "display_name": "Python 3",
   "language": "python",
   "name": "python3"
  },
  "language_info": {
   "codemirror_mode": {
    "name": "ipython",
    "version": 3
   },
   "file_extension": ".py",
   "mimetype": "text/x-python",
   "name": "python",
   "nbconvert_exporter": "python",
   "pygments_lexer": "ipython3",
   "version": "3.7.3"
  }
 },
 "nbformat": 4,
 "nbformat_minor": 4
}
