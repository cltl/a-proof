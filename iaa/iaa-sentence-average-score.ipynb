{
 "cells": [
  {
   "cell_type": "markdown",
   "metadata": {},
   "source": [
    "# Calculates average mutual recall, precision, f-score for sentence level annotations"
   ]
  },
  {
   "cell_type": "markdown",
   "metadata": {},
   "source": [
    "This notebook calculates the average mutual recall, precision and f-score scores for sentence level annotations from export of the InCepTion tool. These exports are stored in the IAA folder for five groups of two annotators: G1, G2, G3, G4, G5. Each group has two tsv files in their subfolder.\n",
    "\n",
    "InCepTion stores the annotations on rows for tokens. Rows have a document identifier, a sentence-token identifier and the annotation label. If there is no annotation, the \"_\" is given.\n",
    "\n",
    "We process the data group by group and calculte the Kappa scores for each label separately. Annotations are aggregated at the sentence level. \n",
    "If there are multiple labels per sentence, we select the label under investigation from either annotator and check if the other annotator has the same label or some other label.\n",
    "\n",
    "The results are aggregated in a Pandas frame and saved to a CSV file at the end after processing all the annotators."
   ]
  },
  {
   "cell_type": "markdown",
   "metadata": {},
   "source": [
    "https://scikit-learn.org/stable/modules/generated/sklearn.metrics.cohen_kappa_score.html\n"
   ]
  },
  {
   "cell_type": "code",
   "execution_count": 2,
   "metadata": {},
   "outputs": [],
   "source": [
    "import matplotlib.pyplot as plt  \n",
    "from sklearn.metrics import plot_confusion_matrix\n",
    "from sklearn.metrics import confusion_matrix\n",
    "import seaborn as sns\n",
    "import numpy as np\n",
    "import pandas as pd\n",
    "import os, random, glob, json, re\n",
    "from collections import Counter\n",
    "import util\n",
    "\n",
    "global1 = []\n",
    "global2 = []\n",
    "globalkey = []\n",
    "globalgroup = []\n",
    "\n",
    "results_df = pd.DataFrame(columns=['Label', 'G1', 'G2', 'G3', 'G4', 'G5'])\n",
    "cnts_df = pd.DataFrame(columns=['Label', 'G1', 'G2', 'G3', 'G4', 'G5'])"
   ]
  },
  {
   "cell_type": "code",
   "execution_count": 3,
   "metadata": {},
   "outputs": [],
   "source": [
    "alllabels=sorted(['.B152: Stemming','.B455: Inspanningstolerantie', '.D450: Lopen en zich verplaatsen','.D840-859: Beroep en werk','FAC 0', 'FAC 1', 'FAC 2', 'FAC 3', 'FAC 4', 'FAC 5', 'STM 0', 'STM 1','STM 2','STM 3','STM 4' ,\n",
    "        'INS 0' , 'INS 1', 'INS 2', 'INS 3', 'INS 4', 'BER 0', 'BER 1','BER 2','BER 3','BER 4', 'X', '_'])"
   ]
  },
  {
   "cell_type": "code",
   "execution_count": 4,
   "metadata": {},
   "outputs": [
    {
     "name": "stdout",
     "output_type": "stream",
     "text": [
      "annotator: avelli\n",
      "<class 'pandas.core.frame.DataFrame'>\n",
      "RangeIndex: 4255 entries, 0 to 4254\n",
      "Data columns (total 3 columns):\n",
      " #   Column         Non-Null Count  Dtype \n",
      "---  ------         --------------  ----- \n",
      " 0   note_id        4255 non-null   object\n",
      " 1   sen_id-tok_id  4255 non-null   object\n",
      " 2   annotation     3681 non-null   object\n",
      "dtypes: object(3)\n",
      "memory usage: 99.9+ KB\n",
      "None\n",
      "                                             note_id sen_id-tok_id annotation\n",
      "0  VUmc--5113--1834251--414676213--2020-04-13--q1...           1-1          _\n",
      "1  VUmc--5113--1834251--414676213--2020-04-13--q1...           1-2          _\n",
      "2  VUmc--5113--1834251--414676213--2020-04-13--q1...           2-1          _\n",
      "3  VUmc--5113--1834251--414676213--2020-04-13--q1...           2-2          _\n",
      "4  VUmc--5113--1834251--414676213--2020-04-13--q1...           2-3          _\n",
      "\n",
      "annotator: vervaart\n",
      "<class 'pandas.core.frame.DataFrame'>\n",
      "RangeIndex: 4255 entries, 0 to 4254\n",
      "Data columns (total 3 columns):\n",
      " #   Column         Non-Null Count  Dtype \n",
      "---  ------         --------------  ----- \n",
      " 0   note_id        4255 non-null   object\n",
      " 1   sen_id-tok_id  4255 non-null   object\n",
      " 2   annotation     3500 non-null   object\n",
      "dtypes: object(3)\n",
      "memory usage: 99.9+ KB\n",
      "None\n",
      "                                             note_id sen_id-tok_id annotation\n",
      "0  VUmc--5113--1834251--414676213--2020-04-13--q1...           1-1          _\n",
      "1  VUmc--5113--1834251--414676213--2020-04-13--q1...           1-2          _\n",
      "2  VUmc--5113--1834251--414676213--2020-04-13--q1...           2-1          _\n",
      "3  VUmc--5113--1834251--414676213--2020-04-13--q1...           2-2          _\n",
      "4  VUmc--5113--1834251--414676213--2020-04-13--q1...           2-3          _\n"
     ]
    },
    {
     "data": {
      "text/plain": [
       "0       _\n",
       "1       _\n",
       "2       _\n",
       "3       _\n",
       "4       _\n",
       "       ..\n",
       "4250    _\n",
       "4251    _\n",
       "4252    _\n",
       "4253    _\n",
       "4254    _\n",
       "Name: annotation, Length: 4255, dtype: object"
      ]
     },
     "execution_count": 4,
     "metadata": {},
     "output_type": "execute_result"
    }
   ],
   "source": [
    "### Given two annotators\n",
    "group='G1'\n",
    "base=\"./IAA/\"+group+\"/IAA_\"\n",
    "name1=\"avelli\"\n",
    "name2=\"vervaart\"\n",
    "\n",
    "print('annotator:',name1)\n",
    "file1=base+name1+\".tsv\"\n",
    "df1 = pd.read_csv(file1,sep=\"\\t\")\n",
    "print(df1.info())\n",
    "print(df1.head())\n",
    "print()\n",
    "df1['annotation'].fillna(\"_\")\n",
    "\n",
    "print('annotator:',name2)\n",
    "file2=base+name2+\".tsv\"\n",
    "df2 = pd.read_csv(file2,sep=\"\\t\")\n",
    "print(df2.info())\n",
    "print(df2.head())\n",
    "df2['annotation'].fillna(\"_\")"
   ]
  },
  {
   "cell_type": "markdown",
   "metadata": {},
   "source": [
    "### Clean the annotations"
   ]
  },
  {
   "cell_type": "code",
   "execution_count": 5,
   "metadata": {},
   "outputs": [
    {
     "name": "stdout",
     "output_type": "stream",
     "text": [
      "DF1\n",
      "Length: 4255\n",
      "DF2\n",
      "Length: 4255\n"
     ]
    }
   ],
   "source": [
    "print('DF1')\n",
    "df1= util.clean_df(df1)\n",
    "print('DF2')\n",
    "df2= util.clean_df(df2)"
   ]
  },
  {
   "cell_type": "markdown",
   "metadata": {},
   "source": [
    "The number of token ids should be the same across the two annotators:"
   ]
  },
  {
   "cell_type": "code",
   "execution_count": 6,
   "metadata": {},
   "outputs": [
    {
     "name": "stdout",
     "output_type": "stream",
     "text": [
      "Number of token ids 4255\n",
      "Number of token ids 4255\n"
     ]
    }
   ],
   "source": [
    "print('Number of token ids', len(util.get_token_ids(df1)))\n",
    "print('Number of token ids', len(util.get_token_ids(df2)))"
   ]
  },
  {
   "cell_type": "markdown",
   "metadata": {},
   "source": [
    "## Getting the  annotations at the sentence level"
   ]
  },
  {
   "cell_type": "markdown",
   "metadata": {},
   "source": [
    "We get some statistics on the distribution of the annotations at the sentence level"
   ]
  },
  {
   "cell_type": "code",
   "execution_count": 7,
   "metadata": {},
   "outputs": [
    {
     "name": "stdout",
     "output_type": "stream",
     "text": [
      "Number of sentences: 731\n",
      "Number of sentences: 731\n"
     ]
    }
   ],
   "source": [
    "sentence_label_dict1 = util.sentence_anno(df1)\n",
    "print('Number of sentences:',len(sentence_label_dict1))\n",
    "\n",
    "sentence_label_dict2 = util.sentence_anno(df2)\n",
    "print('Number of sentences:',len(sentence_label_dict1))"
   ]
  },
  {
   "cell_type": "code",
   "execution_count": 8,
   "metadata": {},
   "outputs": [
    {
     "name": "stdout",
     "output_type": "stream",
     "text": [
      "VUmc--5113--1834251--414676213--2020-04-13--q1q2--Search1_8\n",
      "['_', '_', '_', '_']\n",
      "VUmc--5113--1834251--414676213--2020-04-13--q1q2--Search1_8\n",
      "['_', '_', '_', '_']\n"
     ]
    }
   ],
   "source": [
    "key1=list(sentence_label_dict1.keys())[7]\n",
    "key2=list(sentence_label_dict2.keys())[7]\n",
    "print(key1)\n",
    "print(sentence_label_dict1[key1])\n",
    "print(key2)\n",
    "print(sentence_label_dict2[key2])"
   ]
  },
  {
   "cell_type": "markdown",
   "metadata": {},
   "source": [
    "Next, we need to make these annotations unique sets."
   ]
  },
  {
   "cell_type": "code",
   "execution_count": 9,
   "metadata": {},
   "outputs": [],
   "source": [
    "setdict1 = util.get_sentence_set_anno_dict(sentence_label_dict1)\n",
    "setdict2 = util.get_sentence_set_anno_dict(sentence_label_dict2)"
   ]
  },
  {
   "cell_type": "markdown",
   "metadata": {},
   "source": [
    "Check if this worked out and sentence ids are correctly aligned"
   ]
  },
  {
   "cell_type": "code",
   "execution_count": 10,
   "metadata": {},
   "outputs": [
    {
     "name": "stdout",
     "output_type": "stream",
     "text": [
      "VUmc--5113--1834251--414676213--2020-04-13--q1q2--Search1_19 {'target'} {'target'}\n",
      "VUmc--5113--1834251--414676213--2020-04-13--q1q2--Search1_20 {'target'} {'target'}\n",
      "VUmc--5113--1834251--414676213--2020-04-13--q1q2--Search1_21 {'target'} {'target'}\n",
      "VUmc--5113--1834251--414676213--2020-04-13--q1q2--Search1_22 {'target'} {'target', '_'}\n",
      "VUmc--5113--1834251--414676213--2020-04-13--q1q2--Search1_23 {'target'} {'_'}\n",
      "VUmc--5113--1834251--414676213--2020-04-13--q1q2--Search1_24 {'target'} {'_'}\n",
      "VUmc--5122--1834251--419112434--2020-05-01--q1q2--Search1_1 {'_'} {'type\\\\_Background'}\n",
      "VUmc--5122--1834251--419112434--2020-05-01--q1q2--Search1_2 {'_'} {'type\\\\_Background'}\n",
      "VUmc--5122--1834251--419112434--2020-05-01--q1q2--Search1_3 {'_'} {'type\\\\_Background'}\n",
      "VUmc--5122--1834251--419112434--2020-05-01--q1q2--Search1_4 {'_'} {'type\\\\_Background'}\n"
     ]
    }
   ],
   "source": [
    "keys1=setdict1.items()\n",
    "keys2=list(setdict2.items())\n",
    "\n",
    "cnt = 0\n",
    "for key1, value1 in setdict1.items():\n",
    "    value2=setdict2[key1]\n",
    "    if not (value1=={'_'} and (value2=={'_'})):\n",
    "        print(key1, value1, value2)\n",
    "        cnt+=1\n",
    "        if (cnt==10):\n",
    "            break"
   ]
  },
  {
   "cell_type": "markdown",
   "metadata": {},
   "source": [
    "## Anno1 against Anno2"
   ]
  },
  {
   "cell_type": "code",
   "execution_count": 11,
   "metadata": {},
   "outputs": [
    {
     "name": "stdout",
     "output_type": "stream",
     "text": [
      "731\n",
      "731\n",
      "Proportion of line mismatches: 0.0\n",
      "707\n",
      "707\n"
     ]
    }
   ],
   "source": [
    "anno1 , anno2 = util.get_annotations_for_sentences(setdict1, setdict2, alllabels)\n",
    "global1 =anno1\n",
    "global2 =anno2\n",
    "print(len(global1))\n",
    "print(len(global2))"
   ]
  },
  {
   "cell_type": "code",
   "execution_count": 12,
   "metadata": {},
   "outputs": [
    {
     "name": "stdout",
     "output_type": "stream",
     "text": [
      "<class 'pandas.core.frame.DataFrame'>\n",
      "Int64Index: 26 entries, 28 to 562\n",
      "Data columns (total 1 columns):\n",
      " #   Column  Non-Null Count  Dtype \n",
      "---  ------  --------------  ----- \n",
      " 0   Labels  26 non-null     object\n",
      "dtypes: object(1)\n",
      "memory usage: 416.0+ bytes\n"
     ]
    }
   ],
   "source": [
    "adf1 = pd.DataFrame(anno1, columns=['Labels'])\n",
    "index = adf1[adf1['Labels'] == '_'].index\n",
    "# Delete these row indexes from dataFrame\n",
    "adf1.drop(index , inplace=True)\n",
    "adf1.info()"
   ]
  },
  {
   "cell_type": "code",
   "execution_count": 13,
   "metadata": {},
   "outputs": [
    {
     "data": {
      "text/html": [
       "<div>\n",
       "<style scoped>\n",
       "    .dataframe tbody tr th:only-of-type {\n",
       "        vertical-align: middle;\n",
       "    }\n",
       "\n",
       "    .dataframe tbody tr th {\n",
       "        vertical-align: top;\n",
       "    }\n",
       "\n",
       "    .dataframe thead th {\n",
       "        text-align: right;\n",
       "    }\n",
       "</style>\n",
       "<table border=\"1\" class=\"dataframe\">\n",
       "  <thead>\n",
       "    <tr style=\"text-align: right;\">\n",
       "      <th></th>\n",
       "      <th>Labels</th>\n",
       "    </tr>\n",
       "  </thead>\n",
       "  <tbody>\n",
       "    <tr>\n",
       "      <th>28</th>\n",
       "      <td>.D450: Lopen en zich verplaatsen</td>\n",
       "    </tr>\n",
       "    <tr>\n",
       "      <th>29</th>\n",
       "      <td>.B455: Inspanningstolerantie</td>\n",
       "    </tr>\n",
       "    <tr>\n",
       "      <th>32</th>\n",
       "      <td>.D450: Lopen en zich verplaatsen</td>\n",
       "    </tr>\n",
       "    <tr>\n",
       "      <th>33</th>\n",
       "      <td>FAC 4</td>\n",
       "    </tr>\n",
       "    <tr>\n",
       "      <th>34</th>\n",
       "      <td>.D450: Lopen en zich verplaatsen</td>\n",
       "    </tr>\n",
       "  </tbody>\n",
       "</table>\n",
       "</div>"
      ],
      "text/plain": [
       "                              Labels\n",
       "28  .D450: Lopen en zich verplaatsen\n",
       "29      .B455: Inspanningstolerantie\n",
       "32  .D450: Lopen en zich verplaatsen\n",
       "33                             FAC 4\n",
       "34  .D450: Lopen en zich verplaatsen"
      ]
     },
     "execution_count": 13,
     "metadata": {},
     "output_type": "execute_result"
    }
   ],
   "source": [
    "adf1.head()"
   ]
  },
  {
   "cell_type": "code",
   "execution_count": 169,
   "metadata": {},
   "outputs": [
    {
     "name": "stderr",
     "output_type": "stream",
     "text": [
      "/Users/piek/opt/anaconda3/lib/python3.7/site-packages/seaborn/categorical.py:3669: UserWarning: The `factorplot` function has been renamed to `catplot`. The original name will be removed in a future release. Please update your code. Note that the default `kind` in `factorplot` (`'point'`) has changed `'strip'` in `catplot`.\n",
      "  warnings.warn(msg)\n"
     ]
    },
    {
     "data": {
      "image/png": "[encoded data removed]",
      "text/plain": [
       "<Figure size 720x360 with 1 Axes>"
      ]
     },
     "metadata": {},
     "output_type": "display_data"
    }
   ],
   "source": [
    "with sns.axes_style('whitegrid'):\n",
    "    g = sns.factorplot(\"Labels\", data=adf1, aspect=2, kind=\"count\")\n",
    "    g.set_xticklabels(rotation=90)"
   ]
  },
  {
   "cell_type": "code",
   "execution_count": 14,
   "metadata": {},
   "outputs": [
    {
     "name": "stdout",
     "output_type": "stream",
     "text": [
      "                                  precision    recall  f1-score   support\n",
      "\n",
      "                 .B152: Stemming      0.667     0.667     0.667         3\n",
      "    .B455: Inspanningstolerantie      1.000     0.125     0.222         8\n",
      ".D450: Lopen en zich verplaatsen      0.000     0.000     0.000         8\n",
      "                           FAC 4      1.000     0.333     0.500         3\n",
      "                           STM 3      0.000     0.000     0.000         0\n",
      "                           STM 4      0.000     0.000     0.000         4\n",
      "                               X      0.000     0.000     0.000         0\n",
      "                               _      0.982     0.935     0.958       681\n",
      "\n",
      "                        accuracy                          0.907       707\n",
      "                       macro avg      0.456     0.258     0.293       707\n",
      "                    weighted avg      0.964     0.907     0.930       707\n",
      "\n"
     ]
    },
    {
     "name": "stderr",
     "output_type": "stream",
     "text": [
      "/Users/piek/opt/anaconda3/lib/python3.7/site-packages/sklearn/metrics/_classification.py:1221: UndefinedMetricWarning: Precision and F-score are ill-defined and being set to 0.0 in labels with no predicted samples. Use `zero_division` parameter to control this behavior.\n",
      "  _warn_prf(average, modifier, msg_start, len(result))\n",
      "/Users/piek/opt/anaconda3/lib/python3.7/site-packages/sklearn/metrics/_classification.py:1221: UndefinedMetricWarning: Recall and F-score are ill-defined and being set to 0.0 in labels with no true samples. Use `zero_division` parameter to control this behavior.\n",
      "  _warn_prf(average, modifier, msg_start, len(result))\n"
     ]
    }
   ],
   "source": [
    "from sklearn.metrics import classification_report\n",
    "report1 = classification_report(anno1,anno2,digits = 3)\n",
    "\n",
    "print(report1)"
   ]
  },
  {
   "cell_type": "code",
   "execution_count": 15,
   "metadata": {},
   "outputs": [
    {
     "name": "stdout",
     "output_type": "stream",
     "text": [
      "<class 'pandas.core.frame.DataFrame'>\n",
      "Int64Index: 58 entries, 18 to 540\n",
      "Data columns (total 1 columns):\n",
      " #   Column  Non-Null Count  Dtype \n",
      "---  ------  --------------  ----- \n",
      " 0   Labels  58 non-null     object\n",
      "dtypes: object(1)\n",
      "memory usage: 928.0+ bytes\n"
     ]
    }
   ],
   "source": [
    "adf2 = pd.DataFrame(anno2, columns=['Labels'])\n",
    "index = adf2[adf2['Labels'] == '_'].index\n",
    "# Delete these row indexes from dataFrame\n",
    "adf2.drop(index , inplace=True)\n",
    "adf2.info()"
   ]
  },
  {
   "cell_type": "code",
   "execution_count": 16,
   "metadata": {},
   "outputs": [
    {
     "name": "stderr",
     "output_type": "stream",
     "text": [
      "/Users/piek/opt/anaconda3/lib/python3.7/site-packages/seaborn/categorical.py:3669: UserWarning: The `factorplot` function has been renamed to `catplot`. The original name will be removed in a future release. Please update your code. Note that the default `kind` in `factorplot` (`'point'`) has changed `'strip'` in `catplot`.\n",
      "  warnings.warn(msg)\n"
     ]
    },
    {
     "data": {
      "image/png": "[encoded data removed]",
      "text/plain": [
       "<Figure size 720x360 with 1 Axes>"
      ]
     },
     "metadata": {},
     "output_type": "display_data"
    }
   ],
   "source": [
    "with sns.axes_style('whitegrid'):\n",
    "    g = sns.factorplot(\"Labels\", data=adf2, aspect=2, kind=\"count\")\n",
    "    g.set_xticklabels(rotation=90)"
   ]
  },
  {
   "cell_type": "code",
   "execution_count": null,
   "metadata": {},
   "outputs": [],
   "source": []
  },
  {
   "cell_type": "code",
   "execution_count": 18,
   "metadata": {},
   "outputs": [
    {
     "name": "stdout",
     "output_type": "stream",
     "text": [
      "                                  precision    recall  f1-score   support\n",
      "\n",
      "                 .B152: Stemming      0.667     0.667     0.667         3\n",
      "    .B455: Inspanningstolerantie      0.125     1.000     0.222         1\n",
      ".D450: Lopen en zich verplaatsen      0.000     0.000     0.000         0\n",
      "                           FAC 4      0.333     1.000     0.500         1\n",
      "                           STM 3      0.000     0.000     0.000         2\n",
      "                           STM 4      0.000     0.000     0.000         0\n",
      "                               X      0.000     0.000     0.000        51\n",
      "                               _      0.935     0.982     0.958       649\n",
      "\n",
      "                        accuracy                          0.907       707\n",
      "                       macro avg      0.258     0.456     0.293       707\n",
      "                    weighted avg      0.862     0.907     0.883       707\n",
      "\n"
     ]
    }
   ],
   "source": [
    "report2 = classification_report(anno2,anno1,digits = 3)\n",
    "\n",
    "print(report2)"
   ]
  },
  {
   "cell_type": "code",
   "execution_count": 19,
   "metadata": {},
   "outputs": [
    {
     "name": "stdout",
     "output_type": "stream",
     "text": [
      "['.B152: Stemming', '.B455: Inspanningstolerantie', '.D450: Lopen en zich verplaatsen', 'FAC 4', 'STM 3', 'STM 4', 'X', '_']\n"
     ]
    }
   ],
   "source": [
    "labels = anno1+anno2\n",
    "labelset = sorted(set(labels))\n",
    "print(labelset)"
   ]
  },
  {
   "cell_type": "code",
   "execution_count": 20,
   "metadata": {},
   "outputs": [
    {
     "name": "stdout",
     "output_type": "stream",
     "text": [
      "[[  2   0   0   0   0   0   0   1]\n",
      " [  0   1   0   0   0   0   2   5]\n",
      " [  0   0   0   0   0   0   3   5]\n",
      " [  0   0   0   1   0   0   2   0]\n",
      " [  0   0   0   0   0   0   0   0]\n",
      " [  1   0   0   0   2   0   0   1]\n",
      " [  0   0   0   0   0   0   0   0]\n",
      " [  0   0   0   0   0   0  44 637]]\n"
     ]
    },
    {
     "name": "stderr",
     "output_type": "stream",
     "text": [
      "/Users/piek/opt/anaconda3/lib/python3.7/site-packages/sklearn/utils/validation.py:70: FutureWarning: Pass labels=['.B152: Stemming', '.B455: Inspanningstolerantie', '.D450: Lopen en zich verplaatsen', 'FAC 4', 'STM 3', 'STM 4', 'X', '_'] as keyword args. From version 0.25 passing these as positional arguments will result in an error\n",
      "  FutureWarning)\n"
     ]
    }
   ],
   "source": [
    "\n",
    "cf_matrix = confusion_matrix(anno1, anno2, list(labelset))\n",
    "print(cf_matrix)\n",
    "#plot_confusion_matrix(anno1, anno2, list(labelset))  \n",
    "#plt.show()"
   ]
  },
  {
   "cell_type": "code",
   "execution_count": 16,
   "metadata": {},
   "outputs": [
    {
     "name": "stdout",
     "output_type": "stream",
     "text": [
      "0 FAC 4\n",
      "1 STM 3\n",
      "2 STM 4\n",
      "3 X\n",
      "4 _\n"
     ]
    },
    {
     "data": {
      "text/plain": [
       "<AxesSubplot:>"
      ]
     },
     "execution_count": 16,
     "metadata": {},
     "output_type": "execute_result"
    },
    {
     "data": {
      "image/png": "[encoded data removed]",
      "text/plain": [
       "<Figure size 432x288 with 2 Axes>"
      ]
     },
     "metadata": {
      "needs_background": "light"
     },
     "output_type": "display_data"
    }
   ],
   "source": [
    "\n",
    "#sns.heatmap(cf_matrix, annot=True)\n",
    "\n",
    "for i, label in enumerate(labelset):\n",
    "    print(i, label)\n",
    "sns.heatmap(cf_matrix/np.sum(cf_matrix), annot=True,  cmap='Blues')"
   ]
  },
  {
   "cell_type": "markdown",
   "metadata": {},
   "source": [
    "## G2"
   ]
  },
  {
   "cell_type": "code",
   "execution_count": 17,
   "metadata": {},
   "outputs": [
    {
     "name": "stdout",
     "output_type": "stream",
     "text": [
      "Length: 6464\n",
      "Length: 6464\n",
      "1101\n",
      "1101\n",
      "Proportion of line mismatches: 0.0\n",
      "anno1 933\n",
      "anno2 933\n",
      "global1 1621\n",
      "global2 1621\n",
      "              precision    recall  f1-score   support\n",
      "\n",
      "       FAC 0      0.000     0.000     0.000         1\n",
      "       FAC 2      0.000     0.000     0.000         1\n",
      "       FAC 3      0.000     0.000     0.000         0\n",
      "       STM 0      0.000     0.000     0.000         0\n",
      "       STM 1      0.000     0.000     0.000         2\n",
      "       STM 2      0.000     0.000     0.000         1\n",
      "       STM 4      0.000     0.000     0.000         1\n",
      "           X      0.000     0.000     0.000         0\n",
      "           _      0.995     0.866     0.926       927\n",
      "\n",
      "    accuracy                          0.861       933\n",
      "   macro avg      0.111     0.096     0.103       933\n",
      "weighted avg      0.989     0.861     0.920       933\n",
      "\n",
      "              precision    recall  f1-score   support\n",
      "\n",
      "       FAC 0      0.000     0.000     0.000         0\n",
      "       FAC 2      0.000     0.000     0.000         0\n",
      "       FAC 3      0.000     0.000     0.000         1\n",
      "       STM 0      0.000     0.000     0.000         1\n",
      "       STM 1      0.000     0.000     0.000         0\n",
      "       STM 2      0.000     0.000     0.000         0\n",
      "       STM 4      0.000     0.000     0.000         0\n",
      "           X      0.000     0.000     0.000       124\n",
      "           _      0.866     0.995     0.926       807\n",
      "\n",
      "    accuracy                          0.861       933\n",
      "   macro avg      0.096     0.111     0.103       933\n",
      "weighted avg      0.749     0.861     0.801       933\n",
      "\n",
      "[[  0   0   1   0   0   0   0   0   0]\n",
      " [  0   0   0   0   0   0   0   1   0]\n",
      " [  0   0   0   0   0   0   0   0   0]\n",
      " [  0   0   0   0   0   0   0   0   0]\n",
      " [  0   0   0   0   0   0   0   0   2]\n",
      " [  0   0   0   0   0   0   0   0   1]\n",
      " [  0   0   0   0   0   0   0   0   1]\n",
      " [  0   0   0   0   0   0   0   0   0]\n",
      " [  0   0   0   1   0   0   0 123 803]]\n",
      "0 FAC 0\n",
      "1 FAC 2\n",
      "2 FAC 3\n",
      "3 STM 0\n",
      "4 STM 1\n",
      "5 STM 2\n",
      "6 STM 4\n",
      "7 X\n",
      "8 _\n"
     ]
    },
    {
     "name": "stderr",
     "output_type": "stream",
     "text": [
      "/Users/piek/opt/anaconda3/lib/python3.7/site-packages/sklearn/metrics/_classification.py:1221: UndefinedMetricWarning: Precision and F-score are ill-defined and being set to 0.0 in labels with no predicted samples. Use `zero_division` parameter to control this behavior.\n",
      "  _warn_prf(average, modifier, msg_start, len(result))\n",
      "/Users/piek/opt/anaconda3/lib/python3.7/site-packages/sklearn/metrics/_classification.py:1221: UndefinedMetricWarning: Recall and F-score are ill-defined and being set to 0.0 in labels with no true samples. Use `zero_division` parameter to control this behavior.\n",
      "  _warn_prf(average, modifier, msg_start, len(result))\n",
      "/Users/piek/opt/anaconda3/lib/python3.7/site-packages/sklearn/utils/validation.py:70: FutureWarning: Pass labels=['FAC 0', 'FAC 2', 'FAC 3', 'STM 0', 'STM 1', 'STM 2', 'STM 4', 'X', '_'] as keyword args. From version 0.25 passing these as positional arguments will result in an error\n",
      "  FutureWarning)\n"
     ]
    },
    {
     "data": {
      "text/plain": [
       "<AxesSubplot:>"
      ]
     },
     "execution_count": 17,
     "metadata": {},
     "output_type": "execute_result"
    },
    {
     "data": {
      "image/png": "[encoded data removed]",
      "text/plain": [
       "<Figure size 432x288 with 2 Axes>"
      ]
     },
     "metadata": {
      "needs_background": "light"
     },
     "output_type": "display_data"
    }
   ],
   "source": [
    "### Given two annotators\n",
    "group='G2'\n",
    "base=\"./IAA/\"+group+\"/IAA_\"\n",
    "name1=\"bos\"\n",
    "name2=\"meskers\"\n",
    "\n",
    "file1=base+name1+\".tsv\"\n",
    "df1 = pd.read_csv(file1,sep=\"\\t\")\n",
    "df1['annotation'].fillna(\"_\")\n",
    "\n",
    "file2=base+name2+\".tsv\"\n",
    "df2 = pd.read_csv(file2,sep=\"\\t\")\n",
    "df2['annotation'].fillna(\"_\")\n",
    "\n",
    "df1= util.clean_df(df1)\n",
    "df2= util.clean_df(df2)\n",
    "\n",
    "sentence_label_dict1 = util.sentence_anno(df1)\n",
    "sentence_label_dict2 = util.sentence_anno(df2)\n",
    "\n",
    "setdict1 = util.get_sentence_set_anno_dict(sentence_label_dict1)\n",
    "setdict2 = util.get_sentence_set_anno_dict(sentence_label_dict2)\n",
    "\n",
    "anno1 , anno2 = util.get_annotations_for_sentences(setdict1, setdict2, alllabels)\n",
    "global1 = global1+anno1\n",
    "global2 = global2+anno2\n",
    "print('anno1', len(anno1))\n",
    "print('anno2', len(anno2))\n",
    "\n",
    "\n",
    "print('global1',len(global1))\n",
    "print('global2',len(global2))\n",
    "report1 = classification_report(anno1,anno2,digits = 3)\n",
    "print(report1)\n",
    "report2 = classification_report(anno2,anno1,digits = 3)\n",
    "print(report2)\n",
    "\n",
    "labels = anno1+anno2\n",
    "labelset = sorted(set(labels))\n",
    "cf_matrix = confusion_matrix(anno1, anno2, list(labelset))\n",
    "print(cf_matrix)\n",
    "for i, label in enumerate(labelset):\n",
    "    print(i, label)\n",
    "sns.heatmap(cf_matrix/np.sum(cf_matrix), annot=True,  cmap='Blues')"
   ]
  },
  {
   "cell_type": "markdown",
   "metadata": {},
   "source": [
    "## G3"
   ]
  },
  {
   "cell_type": "code",
   "execution_count": 18,
   "metadata": {},
   "outputs": [
    {
     "name": "stdout",
     "output_type": "stream",
     "text": [
      "Length: 5968\n",
      "Length: 5968\n",
      "1046\n",
      "1046\n",
      "Proportion of line mismatches: 0.0\n",
      "anno1 1042\n",
      "anno2 1042\n",
      "global1 2663\n",
      "global2 2663\n",
      "              precision    recall  f1-score   support\n",
      "\n",
      "       FAC 0      0.000     0.000     0.000         0\n",
      "       FAC 1      0.000     0.000     0.000         1\n",
      "       FAC 2      0.000     0.000     0.000         1\n",
      "       INS 1      1.000     1.000     1.000         1\n",
      "       STM 1      0.000     0.000     0.000         1\n",
      "       STM 3      0.000     0.000     0.000         1\n",
      "       STM 4      1.000     1.000     1.000         1\n",
      "           X      0.000     0.000     0.000         0\n",
      "           _      0.998     0.970     0.984      1036\n",
      "\n",
      "    accuracy                          0.966      1042\n",
      "   macro avg      0.333     0.330     0.332      1042\n",
      "weighted avg      0.994     0.966     0.980      1042\n",
      "\n",
      "              precision    recall  f1-score   support\n",
      "\n",
      "       FAC 0      0.000     0.000     0.000         1\n",
      "       FAC 1      0.000     0.000     0.000         0\n",
      "       FAC 2      0.000     0.000     0.000         0\n",
      "       INS 1      1.000     1.000     1.000         1\n",
      "       STM 1      0.000     0.000     0.000         0\n",
      "       STM 3      0.000     0.000     0.000         0\n",
      "       STM 4      1.000     1.000     1.000         1\n",
      "           X      0.000     0.000     0.000        32\n",
      "           _      0.970     0.998     0.984      1007\n",
      "\n",
      "    accuracy                          0.966      1042\n",
      "   macro avg      0.330     0.333     0.332      1042\n",
      "weighted avg      0.939     0.966     0.953      1042\n",
      "\n",
      "[[   0    0    0    0    0    0    0    0    0]\n",
      " [   1    0    0    0    0    0    0    0    0]\n",
      " [   0    0    0    0    0    0    0    1    0]\n",
      " [   0    0    0    1    0    0    0    0    0]\n",
      " [   0    0    0    0    0    0    0    0    1]\n",
      " [   0    0    0    0    0    0    0    0    1]\n",
      " [   0    0    0    0    0    0    1    0    0]\n",
      " [   0    0    0    0    0    0    0    0    0]\n",
      " [   0    0    0    0    0    0    0   31 1005]]\n",
      "0 FAC 0\n",
      "1 FAC 1\n",
      "2 FAC 2\n",
      "3 INS 1\n",
      "4 STM 1\n",
      "5 STM 3\n",
      "6 STM 4\n",
      "7 X\n",
      "8 _\n"
     ]
    },
    {
     "name": "stderr",
     "output_type": "stream",
     "text": [
      "/Users/piek/opt/anaconda3/lib/python3.7/site-packages/sklearn/utils/validation.py:70: FutureWarning: Pass labels=['FAC 0', 'FAC 1', 'FAC 2', 'INS 1', 'STM 1', 'STM 3', 'STM 4', 'X', '_'] as keyword args. From version 0.25 passing these as positional arguments will result in an error\n",
      "  FutureWarning)\n"
     ]
    },
    {
     "data": {
      "text/plain": [
       "<AxesSubplot:>"
      ]
     },
     "execution_count": 18,
     "metadata": {},
     "output_type": "execute_result"
    },
    {
     "data": {
      "image/png": "[encoded data removed]",
      "text/plain": [
       "<Figure size 432x288 with 2 Axes>"
      ]
     },
     "metadata": {
      "needs_background": "light"
     },
     "output_type": "display_data"
    }
   ],
   "source": [
    "### Given two annotators\n",
    "group='G3'\n",
    "base=\"./IAA/\"+group+\"/IAA_\"\n",
    "name1=\"katsburg\"\n",
    "name2=\"opsomer\"\n",
    "\n",
    "file1=base+name1+\".tsv\"\n",
    "df1 = pd.read_csv(file1,sep=\"\\t\")\n",
    "df1['annotation'].fillna(\"_\")\n",
    "\n",
    "file2=base+name2+\".tsv\"\n",
    "df2 = pd.read_csv(file2,sep=\"\\t\")\n",
    "df2['annotation'].fillna(\"_\")\n",
    "\n",
    "df1= util.clean_df(df1)\n",
    "df2= util.clean_df(df2)\n",
    "\n",
    "sentence_label_dict1 = util.sentence_anno(df1)\n",
    "sentence_label_dict2 = util.sentence_anno(df2)\n",
    "\n",
    "setdict1 = util.get_sentence_set_anno_dict(sentence_label_dict1)\n",
    "setdict2 = util.get_sentence_set_anno_dict(sentence_label_dict2)\n",
    "\n",
    "anno1 , anno2 = util.get_annotations_for_sentences(setdict1, setdict2, alllabels)\n",
    "global1 = global1+anno1\n",
    "global2 = global2+anno2\n",
    "\n",
    "print('anno1', len(anno1))\n",
    "print('anno2', len(anno2))\n",
    "\n",
    "\n",
    "print('global1',len(global1))\n",
    "print('global2',len(global2))\n",
    "\n",
    "\n",
    "report1 = classification_report(anno1,anno2,digits = 3)\n",
    "print(report1)\n",
    "report2 = classification_report(anno2,anno1,digits = 3)\n",
    "print(report2)\n",
    "\n",
    "labels = anno1+anno2\n",
    "labelset = sorted(set(labels))\n",
    "cf_matrix = confusion_matrix(anno1, anno2, list(labelset))\n",
    "print(cf_matrix)\n",
    "for i, label in enumerate(labelset):\n",
    "    print(i, label)\n",
    "sns.heatmap(cf_matrix/np.sum(cf_matrix), annot=True,  cmap='Blues')"
   ]
  },
  {
   "cell_type": "markdown",
   "metadata": {},
   "source": [
    "## G4"
   ]
  },
  {
   "cell_type": "code",
   "execution_count": 19,
   "metadata": {},
   "outputs": [
    {
     "name": "stdout",
     "output_type": "stream",
     "text": [
      "Length: 3688\n",
      "Length: 3688\n",
      "598\n",
      "598\n",
      "Proportion of line mismatches: 0.0\n",
      "anno1 563\n",
      "anno2 563\n",
      "global1 3226\n",
      "global2 3226\n",
      "              precision    recall  f1-score   support\n",
      "\n",
      "       FAC 0      0.000     0.000     0.000         2\n",
      "       STM 0      0.000     0.000     0.000         2\n",
      "           X      0.000     0.000     0.000         0\n",
      "           _      0.992     0.934     0.962       559\n",
      "\n",
      "    accuracy                          0.927       563\n",
      "   macro avg      0.248     0.233     0.241       563\n",
      "weighted avg      0.985     0.927     0.955       563\n",
      "\n",
      "              precision    recall  f1-score   support\n",
      "\n",
      "       FAC 0      0.000     0.000     0.000         0\n",
      "       STM 0      0.000     0.000     0.000         0\n",
      "           X      0.000     0.000     0.000        37\n",
      "           _      0.934     0.992     0.962       526\n",
      "\n",
      "    accuracy                          0.927       563\n",
      "   macro avg      0.233     0.248     0.241       563\n",
      "weighted avg      0.872     0.927     0.899       563\n",
      "\n",
      "[[  0   0   0   2]\n",
      " [  0   0   0   2]\n",
      " [  0   0   0   0]\n",
      " [  0   0  37 522]]\n",
      "0 FAC 0\n",
      "1 STM 0\n",
      "2 X\n",
      "3 _\n"
     ]
    },
    {
     "name": "stderr",
     "output_type": "stream",
     "text": [
      "/Users/piek/opt/anaconda3/lib/python3.7/site-packages/sklearn/utils/validation.py:70: FutureWarning: Pass labels=['FAC 0', 'STM 0', 'X', '_'] as keyword args. From version 0.25 passing these as positional arguments will result in an error\n",
      "  FutureWarning)\n"
     ]
    },
    {
     "data": {
      "text/plain": [
       "<AxesSubplot:>"
      ]
     },
     "execution_count": 19,
     "metadata": {},
     "output_type": "execute_result"
    },
    {
     "data": {
      "image/png": "[encoded data removed]",
      "text/plain": [
       "<Figure size 432x288 with 2 Axes>"
      ]
     },
     "metadata": {
      "needs_background": "light"
     },
     "output_type": "display_data"
    }
   ],
   "source": [
    "### Given two annotators\n",
    "group='G4'\n",
    "base=\"./IAA/\"+group+\"/IAA_\"\n",
    "name1=\"swartjes\"\n",
    "name2=\"vanderpas\"\n",
    "\n",
    "file1=base+name1+\".tsv\"\n",
    "df1 = pd.read_csv(file1,sep=\"\\t\")\n",
    "df1['annotation'].fillna(\"_\")\n",
    "\n",
    "file2=base+name2+\".tsv\"\n",
    "df2 = pd.read_csv(file2,sep=\"\\t\")\n",
    "df2['annotation'].fillna(\"_\")\n",
    "\n",
    "df1= util.clean_df(df1)\n",
    "df2= util.clean_df(df2)\n",
    "\n",
    "sentence_label_dict1 = util.sentence_anno(df1)\n",
    "sentence_label_dict2 = util.sentence_anno(df2)\n",
    "\n",
    "setdict1 = util.get_sentence_set_anno_dict(sentence_label_dict1)\n",
    "setdict2 = util.get_sentence_set_anno_dict(sentence_label_dict2)\n",
    "\n",
    "anno1 , anno2 = util.get_annotations_for_sentences(setdict1, setdict2, alllabels)\n",
    "global1 = global1+anno1\n",
    "global2 = global2+anno2\n",
    "\n",
    "print('anno1', len(anno1))\n",
    "print('anno2', len(anno2))\n",
    "\n",
    "\n",
    "print('global1',len(global1))\n",
    "print('global2',len(global2))\n",
    "\n",
    "\n",
    "report1 = classification_report(anno1,anno2,digits = 3)\n",
    "print(report1)\n",
    "report2 = classification_report(anno2,anno1,digits = 3)\n",
    "print(report2)\n",
    "\n",
    "labels = anno1+anno2\n",
    "labelset = sorted(set(labels))\n",
    "cf_matrix = confusion_matrix(anno1, anno2, list(labelset))\n",
    "print(cf_matrix)\n",
    "for i, label in enumerate(labelset):\n",
    "    print(i, label)\n",
    "sns.heatmap(cf_matrix/np.sum(cf_matrix), annot=True,  cmap='Blues')\n"
   ]
  },
  {
   "cell_type": "markdown",
   "metadata": {},
   "source": [
    "## G5"
   ]
  },
  {
   "cell_type": "code",
   "execution_count": 20,
   "metadata": {},
   "outputs": [
    {
     "name": "stdout",
     "output_type": "stream",
     "text": [
      "Length: 6353\n",
      "Length: 5676\n",
      "1086\n",
      "988\n",
      "Proportion of line mismatches: 0.09023941068139964\n",
      "anno1 965\n",
      "anno2 965\n",
      "global1 4191\n",
      "global2 4191\n",
      "              precision    recall  f1-score   support\n",
      "\n",
      "       STM 1      0.000     0.000     0.000         1\n",
      "       STM 3      0.000     0.000     0.000         1\n",
      "           X      0.000     0.000     0.000         0\n",
      "           _      0.998     0.997     0.997       963\n",
      "\n",
      "    accuracy                          0.995       965\n",
      "   macro avg      0.249     0.249     0.249       965\n",
      "weighted avg      0.996     0.995     0.995       965\n",
      "\n",
      "              precision    recall  f1-score   support\n",
      "\n",
      "       STM 1      0.000     0.000     0.000         0\n",
      "       STM 3      0.000     0.000     0.000         0\n",
      "           X      0.000     0.000     0.000         3\n",
      "           _      0.997     0.998     0.997       962\n",
      "\n",
      "    accuracy                          0.995       965\n",
      "   macro avg      0.249     0.249     0.249       965\n",
      "weighted avg      0.994     0.995     0.994       965\n",
      "\n",
      "[[  0   0   0   1]\n",
      " [  0   0   0   1]\n",
      " [  0   0   0   0]\n",
      " [  0   0   3 960]]\n",
      "0 STM 1\n",
      "1 STM 3\n",
      "2 X\n",
      "3 _\n"
     ]
    },
    {
     "name": "stderr",
     "output_type": "stream",
     "text": [
      "/Users/piek/opt/anaconda3/lib/python3.7/site-packages/sklearn/utils/validation.py:70: FutureWarning: Pass labels=['STM 1', 'STM 3', 'X', '_'] as keyword args. From version 0.25 passing these as positional arguments will result in an error\n",
      "  FutureWarning)\n"
     ]
    },
    {
     "data": {
      "text/plain": [
       "<AxesSubplot:>"
      ]
     },
     "execution_count": 20,
     "metadata": {},
     "output_type": "execute_result"
    },
    {
     "data": {
      "image/png": "[encoded data removed]",
      "text/plain": [
       "<Figure size 432x288 with 2 Axes>"
      ]
     },
     "metadata": {
      "needs_background": "light"
     },
     "output_type": "display_data"
    }
   ],
   "source": [
    "### Given two annotators\n",
    "group='G5'\n",
    "base=\"./IAA/\"+group+\"/IAA_\"\n",
    "name1=\"edwin\"\n",
    "name2=\"sabina\"\n",
    "\n",
    "file1=base+name1+\".tsv\"\n",
    "df1 = pd.read_csv(file1,sep=\"\\t\")\n",
    "df1['annotation'].fillna(\"_\")\n",
    "\n",
    "file2=base+name2+\".tsv\"\n",
    "df2 = pd.read_csv(file2,sep=\"\\t\")\n",
    "df2['annotation'].fillna(\"_\")\n",
    "\n",
    "df1= util.clean_df(df1)\n",
    "df2= util.clean_df(df2)\n",
    "\n",
    "sentence_label_dict1 = util.sentence_anno(df1)\n",
    "sentence_label_dict2 = util.sentence_anno(df2)\n",
    "\n",
    "setdict1 = util.get_sentence_set_anno_dict(sentence_label_dict1)\n",
    "setdict2 = util.get_sentence_set_anno_dict(sentence_label_dict2)\n",
    "\n",
    "anno1 , anno2 = util.get_annotations_for_sentences(setdict1, setdict2, alllabels)\n",
    "global1 = global1+anno1\n",
    "global2 = global2+anno2\n",
    "\n",
    "print('anno1', len(anno1))\n",
    "print('anno2', len(anno2))\n",
    "\n",
    "\n",
    "print('global1',len(global1))\n",
    "print('global2',len(global2))\n",
    "\n",
    "\n",
    "report1 = classification_report(anno1,anno2,digits = 3)\n",
    "print(report1)\n",
    "report2 = classification_report(anno2,anno1,digits = 3)\n",
    "print(report2)\n",
    "\n",
    "labels = anno1+anno2\n",
    "labelset = sorted(set(labels))\n",
    "cf_matrix = confusion_matrix(anno1, anno2, list(labelset))\n",
    "print(cf_matrix)\n",
    "for i, label in enumerate(labelset):\n",
    "    print(i, label)\n",
    "sns.heatmap(cf_matrix/np.sum(cf_matrix), annot=True,  cmap='Blues', xticklabels=True)"
   ]
  },
  {
   "cell_type": "markdown",
   "metadata": {},
   "source": [
    "## Global"
   ]
  },
  {
   "cell_type": "code",
   "execution_count": 22,
   "metadata": {},
   "outputs": [
    {
     "name": "stdout",
     "output_type": "stream",
     "text": [
      "              precision    recall  f1-score   support\n",
      "\n",
      "       FAC 0      0.000     0.000     0.000         3\n",
      "       FAC 1      0.000     0.000     0.000         1\n",
      "       FAC 2      0.000     0.000     0.000         2\n",
      "       FAC 3      0.000     0.000     0.000         0\n",
      "       FAC 4      1.000     0.333     0.500         3\n",
      "       INS 1      1.000     1.000     1.000         1\n",
      "       STM 0      0.000     0.000     0.000         2\n",
      "       STM 1      0.000     0.000     0.000         4\n",
      "       STM 2      0.000     0.000     0.000         1\n",
      "       STM 3      0.000     0.000     0.000         2\n",
      "       STM 4      1.000     0.167     0.286         6\n",
      "           X      0.000     0.000     0.000         0\n",
      "           _      0.996     0.943     0.969      4166\n",
      "\n",
      "    accuracy                          0.938      4191\n",
      "   macro avg      0.307     0.188     0.212      4191\n",
      "weighted avg      0.993     0.938     0.964      4191\n",
      "\n",
      "              precision    recall  f1-score   support\n",
      "\n",
      "       FAC 0      0.000     0.000     0.000         1\n",
      "       FAC 1      0.000     0.000     0.000         0\n",
      "       FAC 2      0.000     0.000     0.000         0\n",
      "       FAC 3      0.000     0.000     0.000         1\n",
      "       FAC 4      0.333     1.000     0.500         1\n",
      "       INS 1      1.000     1.000     1.000         1\n",
      "       STM 0      0.000     0.000     0.000         1\n",
      "       STM 1      0.000     0.000     0.000         0\n",
      "       STM 2      0.000     0.000     0.000         0\n",
      "       STM 3      0.000     0.000     0.000         2\n",
      "       STM 4      0.167     1.000     0.286         1\n",
      "           X      0.000     0.000     0.000       242\n",
      "           _      0.943     0.996     0.969      3941\n",
      "\n",
      "    accuracy                          0.938      4191\n",
      "   macro avg      0.188     0.307     0.212      4191\n",
      "weighted avg      0.887     0.938     0.911      4191\n",
      "\n",
      "[[   0    0    0    0    0    0    0    0    0    0    0    0    0    0\n",
      "     0    0    0    0    0    0    0    0    0]\n",
      " [   0    0    0    0    0    0    0    0    0    0    0    0    0    0\n",
      "     0    0    0    0    0    0    0    0    0]\n",
      " [   0    0    0    0    0    0    0    0    0    0    0    0    0    0\n",
      "     0    0    0    0    0    0    0    0    0]\n",
      " [   0    0    0    0    0    0    0    0    0    0    0    0    0    0\n",
      "     0    0    0    0    0    0    0    0    0]\n",
      " [   0    0    0    0    0    0    0    0    0    0    0    0    0    0\n",
      "     0    0    0    0    0    0    0    0    0]\n",
      " [   0    0    0    0    0    0    0    0    1    0    0    0    0    0\n",
      "     0    0    0    0    0    0    0    0    2]\n",
      " [   0    0    0    0    0    1    0    0    0    0    0    0    0    0\n",
      "     0    0    0    0    0    0    0    0    0]\n",
      " [   0    0    0    0    0    0    0    0    0    0    0    0    0    0\n",
      "     0    0    0    0    0    0    0    2    0]\n",
      " [   0    0    0    0    0    0    0    0    0    0    0    0    0    0\n",
      "     0    0    0    0    0    0    0    0    0]\n",
      " [   0    0    0    0    0    0    0    0    0    1    0    0    0    0\n",
      "     0    0    0    0    0    0    0    2    0]\n",
      " [   0    0    0    0    0    0    0    0    0    0    0    0    0    0\n",
      "     0    0    0    0    0    0    0    0    0]\n",
      " [   0    0    0    0    0    0    0    0    0    0    0    0    0    0\n",
      "     0    0    0    0    0    0    0    0    0]\n",
      " [   0    0    0    0    0    0    0    0    0    0    0    0    1    0\n",
      "     0    0    0    0    0    0    0    0    0]\n",
      " [   0    0    0    0    0    0    0    0    0    0    0    0    0    0\n",
      "     0    0    0    0    0    0    0    0    0]\n",
      " [   0    0    0    0    0    0    0    0    0    0    0    0    0    0\n",
      "     0    0    0    0    0    0    0    0    0]\n",
      " [   0    0    0    0    0    0    0    0    0    0    0    0    0    0\n",
      "     0    0    0    0    0    0    0    0    0]\n",
      " [   0    0    0    0    0    0    0    0    0    0    0    0    0    0\n",
      "     0    0    0    0    0    0    0    0    2]\n",
      " [   0    0    0    0    0    0    0    0    0    0    0    0    0    0\n",
      "     0    0    0    0    0    0    0    0    4]\n",
      " [   0    0    0    0    0    0    0    0    0    0    0    0    0    0\n",
      "     0    0    0    0    0    0    0    0    1]\n",
      " [   0    0    0    0    0    0    0    0    0    0    0    0    0    0\n",
      "     0    0    0    0    0    0    0    0    2]\n",
      " [   0    0    0    0    0    0    0    0    0    0    0    0    0    0\n",
      "     0    0    0    0    0    2    1    0    3]\n",
      " [   0    0    0    0    0    0    0    0    0    0    0    0    0    0\n",
      "     0    0    0    0    0    0    0    0    0]\n",
      " [   0    0    0    0    0    0    0    0    0    0    0    0    0    0\n",
      "     0    0    1    0    0    0    0  238 3927]]\n",
      "0 BER 0\n",
      "1 BER 1\n",
      "2 BER 2\n",
      "3 BER 3\n",
      "4 BER 4\n",
      "5 FAC 0\n",
      "6 FAC 1\n",
      "7 FAC 2\n",
      "8 FAC 3\n",
      "9 FAC 4\n",
      "10 FAC 5\n",
      "11 INS 0\n",
      "12 INS 1\n",
      "13 INS 2\n",
      "14 INS 3\n",
      "15 INS 4\n",
      "16 STM 0\n",
      "17 STM 1\n",
      "18 STM 2\n",
      "19 STM 3\n",
      "20 STM 4\n",
      "21 X\n",
      "22 _\n"
     ]
    },
    {
     "data": {
      "text/plain": [
       "<AxesSubplot:>"
      ]
     },
     "execution_count": 22,
     "metadata": {},
     "output_type": "execute_result"
    },
    {
     "data": {
      "image/png": "[encoded data removed]",
      "text/plain": [
       "<Figure size 432x288 with 2 Axes>"
      ]
     },
     "metadata": {
      "needs_background": "light"
     },
     "output_type": "display_data"
    }
   ],
   "source": [
    "report1 = classification_report(global1,global2,digits = 3)\n",
    "print(report1)\n",
    "report2 = classification_report(global2,global1,digits = 3)\n",
    "print(report2)\n",
    "\n",
    "labels = global1+global2\n",
    "labelset = sorted(set(labels))\n",
    "cf_matrix = confusion_matrix(global1, global2, list(alllabels))\n",
    "print(cf_matrix)\n",
    "for i, label in enumerate(alllabels):\n",
    "    print(i, label)\n",
    "sns.heatmap(cf_matrix/np.sum(cf_matrix), annot=True,  cmap='Blues', xticklabels=True)"
   ]
  },
  {
   "cell_type": "markdown",
   "metadata": {},
   "source": [
    "## Visualise globals"
   ]
  },
  {
   "cell_type": "code",
   "execution_count": 33,
   "metadata": {},
   "outputs": [
    {
     "name": "stdout",
     "output_type": "stream",
     "text": [
      "This is the default size:\n",
      "6.0\n",
      "4.0\n",
      "We change it now to:\n",
      "10\n",
      "8\n"
     ]
    }
   ],
   "source": [
    "import matplotlib.pyplot as plt\n",
    "plot_size = plt.rcParams[\"figure.figsize\"]\n",
    "print('This is the default size:')\n",
    "print(plot_size[0]) \n",
    "print(plot_size[1])\n",
    "\n",
    "plot_size[0] = 10\n",
    "plot_size[1] = 8\n",
    "print('We change it now to:')\n",
    "print(plot_size[0]) \n",
    "print(plot_size[1])\n",
    "\n",
    "plt.rcParams[\"figure.figsize\"] = plot_size "
   ]
  },
  {
   "cell_type": "code",
   "execution_count": 34,
   "metadata": {},
   "outputs": [
    {
     "data": {
      "text/plain": [
       "<AxesSubplot:>"
      ]
     },
     "execution_count": 34,
     "metadata": {},
     "output_type": "execute_result"
    },
    {
     "data": {
      "image/png": "[encoded data removed]",
      "text/plain": [
       "<Figure size 720x576 with 1 Axes>"
      ]
     },
     "metadata": {
      "needs_background": "light"
     },
     "output_type": "display_data"
    }
   ],
   "source": [
    "cnts_df.G1.value_counts().sort_values(ascending=False).plot(kind='bar')"
   ]
  },
  {
   "cell_type": "markdown",
   "metadata": {},
   "source": [
    "## Save the final results to a CSV file"
   ]
  },
  {
   "cell_type": "code",
   "execution_count": 35,
   "metadata": {},
   "outputs": [],
   "source": [
    "result=\"iaa.csv\"\n",
    "results_df.to_csv(result)\n",
    "\n",
    "result=\"cnts.csv\"\n",
    "cnts_df.to_csv(result)"
   ]
  },
  {
   "cell_type": "markdown",
   "metadata": {},
   "source": [
    "## Store all paired annotations at sentence level"
   ]
  },
  {
   "cell_type": "code",
   "execution_count": 36,
   "metadata": {},
   "outputs": [
    {
     "data": {
      "text/html": [
       "<div>\n",
       "<style scoped>\n",
       "    .dataframe tbody tr th:only-of-type {\n",
       "        vertical-align: middle;\n",
       "    }\n",
       "\n",
       "    .dataframe tbody tr th {\n",
       "        vertical-align: top;\n",
       "    }\n",
       "\n",
       "    .dataframe thead th {\n",
       "        text-align: right;\n",
       "    }\n",
       "</style>\n",
       "<table border=\"1\" class=\"dataframe\">\n",
       "  <thead>\n",
       "    <tr style=\"text-align: right;\">\n",
       "      <th></th>\n",
       "      <th>Key</th>\n",
       "      <th>Group</th>\n",
       "      <th>label1</th>\n",
       "      <th>label2</th>\n",
       "    </tr>\n",
       "  </thead>\n",
       "  <tbody>\n",
       "    <tr>\n",
       "      <th>0</th>\n",
       "      <td>G1</td>\n",
       "      <td>VUmc--5122--1834251--419112434--2020-05-01--q1...</td>\n",
       "      <td>FAC 4</td>\n",
       "      <td>type\\_Background</td>\n",
       "    </tr>\n",
       "    <tr>\n",
       "      <th>1</th>\n",
       "      <td>G1</td>\n",
       "      <td>VUmc--5117--1834251--418077134--2020-04-27--q1...</td>\n",
       "      <td>.B152: Stemming</td>\n",
       "      <td>STM 3</td>\n",
       "    </tr>\n",
       "    <tr>\n",
       "      <th>2</th>\n",
       "      <td>G1</td>\n",
       "      <td>VUmc--5117--1834251--418077134--2020-04-27--q1...</td>\n",
       "      <td>.B152: Stemming</td>\n",
       "      <td>STM 3</td>\n",
       "    </tr>\n",
       "    <tr>\n",
       "      <th>3</th>\n",
       "      <td>G1</td>\n",
       "      <td>VUmc--5118--1834251--418315914--2020-04-28--q1...</td>\n",
       "      <td>.B152: Stemming</td>\n",
       "      <td>STM 3</td>\n",
       "    </tr>\n",
       "    <tr>\n",
       "      <th>4</th>\n",
       "      <td>G1</td>\n",
       "      <td>VUmc--5122--1834251--419112434--2020-05-01--q1...</td>\n",
       "      <td>.B152: Stemming</td>\n",
       "      <td>STM 3</td>\n",
       "    </tr>\n",
       "  </tbody>\n",
       "</table>\n",
       "</div>"
      ],
      "text/plain": [
       "  Key                                              Group           label1  \\\n",
       "0  G1  VUmc--5122--1834251--419112434--2020-05-01--q1...            FAC 4   \n",
       "1  G1  VUmc--5117--1834251--418077134--2020-04-27--q1...  .B152: Stemming   \n",
       "2  G1  VUmc--5117--1834251--418077134--2020-04-27--q1...  .B152: Stemming   \n",
       "3  G1  VUmc--5118--1834251--418315914--2020-04-28--q1...  .B152: Stemming   \n",
       "4  G1  VUmc--5122--1834251--419112434--2020-05-01--q1...  .B152: Stemming   \n",
       "\n",
       "             label2  \n",
       "0  type\\_Background  \n",
       "1             STM 3  \n",
       "2             STM 3  \n",
       "3             STM 3  \n",
       "4             STM 3  "
      ]
     },
     "execution_count": 36,
     "metadata": {},
     "output_type": "execute_result"
    }
   ],
   "source": [
    "all_df = pd.DataFrame(list(zip(globalgroup, globalkey, global1, global2)))\n",
    "all_df.columns =['Key','Group',\"label1\", \"label2\"]\n",
    "all_df.head()"
   ]
  },
  {
   "cell_type": "code",
   "execution_count": 37,
   "metadata": {},
   "outputs": [],
   "source": [
    "result=\"all_pairs.csv\"\n",
    "all_df.to_csv(result)"
   ]
  },
  {
   "cell_type": "markdown",
   "metadata": {},
   "source": [
    "## Document level"
   ]
  },
  {
   "cell_type": "code",
   "execution_count": 38,
   "metadata": {},
   "outputs": [],
   "source": [
    "group=\"ALLDOC\"\n",
    "globals1=[]\n",
    "globals2=[]\n",
    "globalskey=[]\n",
    "globalsgroup=[]"
   ]
  },
  {
   "cell_type": "code",
   "execution_count": 39,
   "metadata": {},
   "outputs": [],
   "source": [
    "def get_doc_labels (df):\n",
    "    doc_label_dict1={}\n",
    "    doc_label_dict2={}\n",
    "    for index, key in enumerate(df['Key']):\n",
    "        doc = key[:key.find('_')]\n",
    "        group = df['Group'].iloc[index]\n",
    "        label1 = df['label1'].iloc[index]\n",
    "        label2 = df['label2'].iloc[index]\n",
    "        if doc in doc_label_dict1:\n",
    "            doc_label_dict1[doc].append(label1)\n",
    "        else:\n",
    "            doc_label_dict1[doc]=[label1]\n",
    "        \n",
    "        if doc in doc_label_dict2:\n",
    "            doc_label_dict2[doc].append(label2)\n",
    "        else:\n",
    "            doc_label_dict2[doc]=[label2]\n",
    "    return doc_label_dict1, doc_label_dict2\n",
    " "
   ]
  },
  {
   "cell_type": "code",
   "execution_count": 40,
   "metadata": {},
   "outputs": [
    {
     "name": "stderr",
     "output_type": "stream",
     "text": [
      "/Users/piek/opt/anaconda3/lib/python3.7/site-packages/sklearn/metrics/_classification.py:620: RuntimeWarning: invalid value encountered in true_divide\n",
      "  k = np.sum(w_mat * confusion) / np.sum(w_mat * expected)\n"
     ]
    }
   ],
   "source": [
    "doc_dict_label1, doc_dict_label2 = get_doc_labels(all_df)\n",
    "\n",
    "setdict1 = util.get_sentence_set_anno_dict(doc_dict_label1)\n",
    "setdict2 = util.get_sentence_set_anno_dict(doc_dict_label2)\n",
    "\n",
    "annotation_list=[]\n",
    "for key1, value1 in setdict1.items():\n",
    "    try:\n",
    "        value2=setdict2[key1]\n",
    "        for item in value1:\n",
    "            annotation_list.append(item)\n",
    "        for item in value2:\n",
    "            annotation_list.append(item)\n",
    "    except:\n",
    "        print('Line mismatch', key1)\n",
    "        \n",
    "### Unique set of labels\n",
    "annotation_labels = set(annotation_list)\n",
    "\n",
    "kappas={}\n",
    "cnts = {}\n",
    "for label in annotation_labels:\n",
    "    kappa, cnt, l1, l2, k, g =util.get_kappa_for_label(setdict1, setdict2, label, group)\n",
    "    kappas[label]=kappa\n",
    "    cnts[label]=cnt\n",
    "    global1.extend(l1)\n",
    "    global2.extend(l2)\n",
    "    globalkey.extend(k)\n",
    "    globalgroup.extend(g)"
   ]
  },
  {
   "cell_type": "code",
   "execution_count": 41,
   "metadata": {},
   "outputs": [
    {
     "name": "stdout",
     "output_type": "stream",
     "text": [
      "1\n",
      "1\n"
     ]
    }
   ],
   "source": [
    "print(len(setdict1))\n",
    "print(len(setdict2))"
   ]
  },
  {
   "cell_type": "code",
   "execution_count": 42,
   "metadata": {},
   "outputs": [
    {
     "data": {
      "text/html": [
       "<div>\n",
       "<style scoped>\n",
       "    .dataframe tbody tr th:only-of-type {\n",
       "        vertical-align: middle;\n",
       "    }\n",
       "\n",
       "    .dataframe tbody tr th {\n",
       "        vertical-align: top;\n",
       "    }\n",
       "\n",
       "    .dataframe thead th {\n",
       "        text-align: right;\n",
       "    }\n",
       "</style>\n",
       "<table border=\"1\" class=\"dataframe\">\n",
       "  <thead>\n",
       "    <tr style=\"text-align: right;\">\n",
       "      <th></th>\n",
       "      <th>Label</th>\n",
       "      <th>G1</th>\n",
       "      <th>G2</th>\n",
       "      <th>G3</th>\n",
       "      <th>G4</th>\n",
       "      <th>G5</th>\n",
       "      <th>ALLDOC</th>\n",
       "    </tr>\n",
       "  </thead>\n",
       "  <tbody>\n",
       "    <tr>\n",
       "      <th>0</th>\n",
       "      <td>lop\\_hulpmiddel</td>\n",
       "      <td>0.143005</td>\n",
       "      <td>-0.132065</td>\n",
       "      <td>0.325302</td>\n",
       "      <td>-1</td>\n",
       "      <td>-1</td>\n",
       "      <td>NaN</td>\n",
       "    </tr>\n",
       "    <tr>\n",
       "      <th>1</th>\n",
       "      <td>FAC 1</td>\n",
       "      <td>0.142431</td>\n",
       "      <td>-1</td>\n",
       "      <td>0.312215</td>\n",
       "      <td>-1</td>\n",
       "      <td>-1</td>\n",
       "      <td>0.0</td>\n",
       "    </tr>\n",
       "    <tr>\n",
       "      <th>2</th>\n",
       "      <td>type\\_Background</td>\n",
       "      <td>0.137186</td>\n",
       "      <td>-0.146555</td>\n",
       "      <td>0.311319</td>\n",
       "      <td>-0.137402</td>\n",
       "      <td>-0.288104</td>\n",
       "      <td>NaN</td>\n",
       "    </tr>\n",
       "    <tr>\n",
       "      <th>3</th>\n",
       "      <td>info\\_Third party</td>\n",
       "      <td>0.145252</td>\n",
       "      <td>-0.134562</td>\n",
       "      <td>0.3262</td>\n",
       "      <td>-0.0843616</td>\n",
       "      <td>-0.294481</td>\n",
       "      <td>NaN</td>\n",
       "    </tr>\n",
       "    <tr>\n",
       "      <th>4</th>\n",
       "      <td>STM 3</td>\n",
       "      <td>0.143085</td>\n",
       "      <td>-1</td>\n",
       "      <td>0.325023</td>\n",
       "      <td>-1</td>\n",
       "      <td>-0.294666</td>\n",
       "      <td>0.0</td>\n",
       "    </tr>\n",
       "    <tr>\n",
       "      <th>5</th>\n",
       "      <td>.B455: Inspanningstolerantie</td>\n",
       "      <td>0.145241</td>\n",
       "      <td>-0.095324</td>\n",
       "      <td>0.326995</td>\n",
       "      <td>-1</td>\n",
       "      <td>-0.295193</td>\n",
       "      <td>NaN</td>\n",
       "    </tr>\n",
       "    <tr>\n",
       "      <th>6</th>\n",
       "      <td>.B152: Stemming</td>\n",
       "      <td>0.146836</td>\n",
       "      <td>-0.127737</td>\n",
       "      <td>0.32547</td>\n",
       "      <td>-0.0877339</td>\n",
       "      <td>-0.294296</td>\n",
       "      <td>NaN</td>\n",
       "    </tr>\n",
       "    <tr>\n",
       "      <th>7</th>\n",
       "      <td>FAC 4</td>\n",
       "      <td>0.144908</td>\n",
       "      <td>-1</td>\n",
       "      <td>-1</td>\n",
       "      <td>-1</td>\n",
       "      <td>-1</td>\n",
       "      <td>NaN</td>\n",
       "    </tr>\n",
       "    <tr>\n",
       "      <th>8</th>\n",
       "      <td>stm\\_reaction</td>\n",
       "      <td>0.145641</td>\n",
       "      <td>-0.131775</td>\n",
       "      <td>0.349741</td>\n",
       "      <td>-0.0881164</td>\n",
       "      <td>-0.294666</td>\n",
       "      <td>NaN</td>\n",
       "    </tr>\n",
       "    <tr>\n",
       "      <th>9</th>\n",
       "      <td>target</td>\n",
       "      <td>0.149687</td>\n",
       "      <td>-0.106329</td>\n",
       "      <td>0.322066</td>\n",
       "      <td>-0.0866779</td>\n",
       "      <td>-0.295869</td>\n",
       "      <td>NaN</td>\n",
       "    </tr>\n",
       "    <tr>\n",
       "      <th>10</th>\n",
       "      <td>STM 4</td>\n",
       "      <td>0.125939</td>\n",
       "      <td>-0.131775</td>\n",
       "      <td>0.377946</td>\n",
       "      <td>-1</td>\n",
       "      <td>-1</td>\n",
       "      <td>0.0</td>\n",
       "    </tr>\n",
       "    <tr>\n",
       "      <th>11</th>\n",
       "      <td>STM 1</td>\n",
       "      <td>0.142431</td>\n",
       "      <td>-0.131958</td>\n",
       "      <td>0.324976</td>\n",
       "      <td>-1</td>\n",
       "      <td>-0.294666</td>\n",
       "      <td>0.0</td>\n",
       "    </tr>\n",
       "    <tr>\n",
       "      <th>12</th>\n",
       "      <td>.D450: Lopen en zich verplaatsen</td>\n",
       "      <td>0.133845</td>\n",
       "      <td>-0.131943</td>\n",
       "      <td>0.318445</td>\n",
       "      <td>-0.0884038</td>\n",
       "      <td>-0.309097</td>\n",
       "      <td>0.0</td>\n",
       "    </tr>\n",
       "    <tr>\n",
       "      <th>13</th>\n",
       "      <td>_</td>\n",
       "      <td>0.153347</td>\n",
       "      <td>-0.105041</td>\n",
       "      <td>0.0980259</td>\n",
       "      <td>-0.10014</td>\n",
       "      <td>-0.121111</td>\n",
       "      <td>NaN</td>\n",
       "    </tr>\n",
       "    <tr>\n",
       "      <th>14</th>\n",
       "      <td>STM 0</td>\n",
       "      <td>-1.000000</td>\n",
       "      <td>-0.132894</td>\n",
       "      <td>-1</td>\n",
       "      <td>-0.0879832</td>\n",
       "      <td>-1</td>\n",
       "      <td>NaN</td>\n",
       "    </tr>\n",
       "    <tr>\n",
       "      <th>15</th>\n",
       "      <td>FAC 2</td>\n",
       "      <td>-1.000000</td>\n",
       "      <td>-0.132563</td>\n",
       "      <td>0.325027</td>\n",
       "      <td>-1</td>\n",
       "      <td>-1</td>\n",
       "      <td>NaN</td>\n",
       "    </tr>\n",
       "    <tr>\n",
       "      <th>16</th>\n",
       "      <td>disregard\\_file</td>\n",
       "      <td>-1.000000</td>\n",
       "      <td>-0.132894</td>\n",
       "      <td>0.326659</td>\n",
       "      <td>-0.0884038</td>\n",
       "      <td>-1</td>\n",
       "      <td>NaN</td>\n",
       "    </tr>\n",
       "    <tr>\n",
       "      <th>17</th>\n",
       "      <td>INS 3</td>\n",
       "      <td>-1.000000</td>\n",
       "      <td>-0.131775</td>\n",
       "      <td>-1</td>\n",
       "      <td>-1</td>\n",
       "      <td>-1</td>\n",
       "      <td>NaN</td>\n",
       "    </tr>\n",
       "    <tr>\n",
       "      <th>18</th>\n",
       "      <td>INS 1</td>\n",
       "      <td>-1.000000</td>\n",
       "      <td>-0.131775</td>\n",
       "      <td>0.327409</td>\n",
       "      <td>-1</td>\n",
       "      <td>-1</td>\n",
       "      <td>NaN</td>\n",
       "    </tr>\n",
       "    <tr>\n",
       "      <th>19</th>\n",
       "      <td>FAC 3</td>\n",
       "      <td>-1.000000</td>\n",
       "      <td>-0.131775</td>\n",
       "      <td>-1</td>\n",
       "      <td>-1</td>\n",
       "      <td>-1</td>\n",
       "      <td>NaN</td>\n",
       "    </tr>\n",
       "    <tr>\n",
       "      <th>20</th>\n",
       "      <td>STM 2</td>\n",
       "      <td>-1.000000</td>\n",
       "      <td>-0.132362</td>\n",
       "      <td>-1</td>\n",
       "      <td>-1</td>\n",
       "      <td>-1</td>\n",
       "      <td>NaN</td>\n",
       "    </tr>\n",
       "    <tr>\n",
       "      <th>21</th>\n",
       "      <td>type\\_Implicit</td>\n",
       "      <td>-1.000000</td>\n",
       "      <td>-0.132894</td>\n",
       "      <td>0.324021</td>\n",
       "      <td>-0.0884038</td>\n",
       "      <td>-1</td>\n",
       "      <td>NaN</td>\n",
       "    </tr>\n",
       "    <tr>\n",
       "      <th>22</th>\n",
       "      <td>view\\_Third party</td>\n",
       "      <td>-1.000000</td>\n",
       "      <td>-0.130752</td>\n",
       "      <td>0.324889</td>\n",
       "      <td>-1</td>\n",
       "      <td>-1</td>\n",
       "      <td>NaN</td>\n",
       "    </tr>\n",
       "    <tr>\n",
       "      <th>23</th>\n",
       "      <td>view\\_Patient</td>\n",
       "      <td>-1.000000</td>\n",
       "      <td>-0.132894</td>\n",
       "      <td>0.323974</td>\n",
       "      <td>-1</td>\n",
       "      <td>-1</td>\n",
       "      <td>NaN</td>\n",
       "    </tr>\n",
       "    <tr>\n",
       "      <th>24</th>\n",
       "      <td>FAC 0</td>\n",
       "      <td>-1.000000</td>\n",
       "      <td>-0.131775</td>\n",
       "      <td>0.312215</td>\n",
       "      <td>-0.0882692</td>\n",
       "      <td>-1</td>\n",
       "      <td>NaN</td>\n",
       "    </tr>\n",
       "    <tr>\n",
       "      <th>25</th>\n",
       "      <td>.D840-859: Beroep en werk</td>\n",
       "      <td>-1.000000</td>\n",
       "      <td>-1</td>\n",
       "      <td>0.324889</td>\n",
       "      <td>-1</td>\n",
       "      <td>-1</td>\n",
       "      <td>NaN</td>\n",
       "    </tr>\n",
       "    <tr>\n",
       "      <th>26</th>\n",
       "      <td>*</td>\n",
       "      <td>-1.000000</td>\n",
       "      <td>-1</td>\n",
       "      <td>-1</td>\n",
       "      <td>-1</td>\n",
       "      <td>-0.31102</td>\n",
       "      <td>NaN</td>\n",
       "    </tr>\n",
       "  </tbody>\n",
       "</table>\n",
       "</div>"
      ],
      "text/plain": [
       "                               Label        G1        G2         G3  \\\n",
       "0                    lop\\_hulpmiddel  0.143005 -0.132065   0.325302   \n",
       "1                              FAC 1  0.142431        -1   0.312215   \n",
       "2                   type\\_Background  0.137186 -0.146555   0.311319   \n",
       "3                  info\\_Third party  0.145252 -0.134562     0.3262   \n",
       "4                              STM 3  0.143085        -1   0.325023   \n",
       "5       .B455: Inspanningstolerantie  0.145241 -0.095324   0.326995   \n",
       "6                    .B152: Stemming  0.146836 -0.127737    0.32547   \n",
       "7                              FAC 4  0.144908        -1         -1   \n",
       "8                      stm\\_reaction  0.145641 -0.131775   0.349741   \n",
       "9                             target  0.149687 -0.106329   0.322066   \n",
       "10                             STM 4  0.125939 -0.131775   0.377946   \n",
       "11                             STM 1  0.142431 -0.131958   0.324976   \n",
       "12  .D450: Lopen en zich verplaatsen  0.133845 -0.131943   0.318445   \n",
       "13                                 _  0.153347 -0.105041  0.0980259   \n",
       "14                             STM 0 -1.000000 -0.132894         -1   \n",
       "15                             FAC 2 -1.000000 -0.132563   0.325027   \n",
       "16                   disregard\\_file -1.000000 -0.132894   0.326659   \n",
       "17                             INS 3 -1.000000 -0.131775         -1   \n",
       "18                             INS 1 -1.000000 -0.131775   0.327409   \n",
       "19                             FAC 3 -1.000000 -0.131775         -1   \n",
       "20                             STM 2 -1.000000 -0.132362         -1   \n",
       "21                    type\\_Implicit -1.000000 -0.132894   0.324021   \n",
       "22                 view\\_Third party -1.000000 -0.130752   0.324889   \n",
       "23                     view\\_Patient -1.000000 -0.132894   0.323974   \n",
       "24                             FAC 0 -1.000000 -0.131775   0.312215   \n",
       "25         .D840-859: Beroep en werk -1.000000        -1   0.324889   \n",
       "26                                 * -1.000000        -1         -1   \n",
       "\n",
       "           G4        G5  ALLDOC  \n",
       "0          -1        -1     NaN  \n",
       "1          -1        -1     0.0  \n",
       "2   -0.137402 -0.288104     NaN  \n",
       "3  -0.0843616 -0.294481     NaN  \n",
       "4          -1 -0.294666     0.0  \n",
       "5          -1 -0.295193     NaN  \n",
       "6  -0.0877339 -0.294296     NaN  \n",
       "7          -1        -1     NaN  \n",
       "8  -0.0881164 -0.294666     NaN  \n",
       "9  -0.0866779 -0.295869     NaN  \n",
       "10         -1        -1     0.0  \n",
       "11         -1 -0.294666     0.0  \n",
       "12 -0.0884038 -0.309097     0.0  \n",
       "13   -0.10014 -0.121111     NaN  \n",
       "14 -0.0879832        -1     NaN  \n",
       "15         -1        -1     NaN  \n",
       "16 -0.0884038        -1     NaN  \n",
       "17         -1        -1     NaN  \n",
       "18         -1        -1     NaN  \n",
       "19         -1        -1     NaN  \n",
       "20         -1        -1     NaN  \n",
       "21 -0.0884038        -1     NaN  \n",
       "22         -1        -1     NaN  \n",
       "23         -1        -1     NaN  \n",
       "24 -0.0882692        -1     NaN  \n",
       "25         -1        -1     NaN  \n",
       "26         -1  -0.31102     NaN  "
      ]
     },
     "execution_count": 42,
     "metadata": {},
     "output_type": "execute_result"
    }
   ],
   "source": [
    "\n",
    "doc_results_df = pd.DataFrame(columns=['Label', 'ALLDOC'])\n",
    "\n",
    "for key, value in kappas.items():\n",
    "     results_df = util.add_new_row_with_value(results_df, key, value, \"ALLDOC\")\n",
    "results_df"
   ]
  },
  {
   "cell_type": "markdown",
   "metadata": {},
   "source": [
    "## End of this notebook"
   ]
  },
  {
   "cell_type": "code",
   "execution_count": null,
   "metadata": {},
   "outputs": [],
   "source": []
  },
  {
   "cell_type": "code",
   "execution_count": null,
   "metadata": {},
   "outputs": [],
   "source": []
  }
 ],
 "metadata": {
  "kernelspec": {
   "display_name": "Python 3",
   "language": "python",
   "name": "python3"
  },
  "language_info": {
   "codemirror_mode": {
    "name": "ipython",
    "version": 3
   },
   "file_extension": ".py",
   "mimetype": "text/x-python",
   "name": "python",
   "nbconvert_exporter": "python",
   "pygments_lexer": "ipython3",
   "version": "3.7.6"
  }
 },
 "nbformat": 4,
 "nbformat_minor": 4
}
